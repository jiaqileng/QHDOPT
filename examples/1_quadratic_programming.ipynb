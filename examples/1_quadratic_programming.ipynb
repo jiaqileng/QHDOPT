{
 "cells": [
  {
   "cell_type": "code",
   "execution_count": null,
   "id": "0b4ad5ab",
   "metadata": {
    "pycharm": {
     "is_executing": true
    }
   },
   "outputs": [],
   "source": [
    "import sys\n",
    "sys.path.insert(0, '../')\n",
    "from qhdopt import QHD"
   ]
  },
  {
   "cell_type": "code",
   "execution_count": null,
   "id": "fccf79e1",
   "metadata": {
    "pycharm": {
     "is_executing": true
    }
   },
   "outputs": [],
   "source": [
    "Q = [[-2, 1],\n",
    "     [1, -1]]\n",
    "b = [3/4, -1/4]"
   ]
  },
  {
   "cell_type": "code",
   "execution_count": null,
   "id": "6b366a7e",
   "metadata": {
    "pycharm": {
     "is_executing": true
    }
   },
   "outputs": [],
   "source": [
    "model = QHD.QP(Q, b)"
   ]
  },
  {
   "cell_type": "code",
   "execution_count": null,
   "id": "61847443",
   "metadata": {
    "pycharm": {
     "is_executing": true
    }
   },
   "outputs": [],
   "source": [
    "model.dwave_setup(8, api_key_from_file='../dwave_API_key')"
   ]
  },
  {
   "cell_type": "code",
   "execution_count": null,
   "id": "aa522445",
   "metadata": {
    "pycharm": {
     "is_executing": true
    }
   },
   "outputs": [],
   "source": [
    "model.optimize(verbose = 1)"
   ]
  },
  {
   "cell_type": "code",
   "execution_count": null,
   "id": "9ffe0426",
   "metadata": {
    "pycharm": {
     "is_executing": true
    }
   },
   "outputs": [],
   "source": [
    "model.qutip_setup(6, time_discretization=40)"
   ]
  },
  {
   "cell_type": "code",
   "execution_count": null,
   "id": "47d1b2b1",
   "metadata": {
    "pycharm": {
     "is_executing": true
    }
   },
   "outputs": [],
   "source": [
    "model.optimize(verbose = 1)"
   ]
  },
  {
   "cell_type": "code",
   "execution_count": null,
   "id": "1f496c44",
   "metadata": {
    "pycharm": {
     "is_executing": true
    }
   },
   "outputs": [],
   "source": [
    "model.ionq_setup(6, api_key_from_file='../ionq_API_key', time_discretization=30, shots = 1000)"
   ]
  },
  {
   "cell_type": "code",
   "execution_count": null,
   "id": "86c328c8",
   "metadata": {
    "pycharm": {
     "is_executing": true
    }
   },
   "outputs": [],
   "source": [
    "model.optimize(verbose = 1)"
   ]
  }
 ],
 "metadata": {
  "kernelspec": {
   "display_name": "qhdopt",
   "language": "python",
   "name": "qhdopt"
  },
  "language_info": {
   "codemirror_mode": {
    "name": "ipython",
    "version": 3
   },
   "file_extension": ".py",
   "mimetype": "text/x-python",
   "name": "python",
   "nbconvert_exporter": "python",
   "pygments_lexer": "ipython3",
   "version": "3.12.1"
  }
 },
 "nbformat": 4,
 "nbformat_minor": 5
}
