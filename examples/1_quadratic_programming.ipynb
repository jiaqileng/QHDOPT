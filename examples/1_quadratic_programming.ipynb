{
 "cells": [
  {
   "cell_type": "markdown",
   "id": "8a629179",
   "metadata": {},
   "source": [
    "## QHDOPT for quadratic programming\n",
    "\n",
    "In this notebook, we demonstrate how to employ QHDOPT to solve a quadratic programming problem with box constraints. \n",
    "\n",
    "Our target problem is $$\\min \\ f(x)=\\frac{1}{2}x^TQx+b^Tx,$$ where $Q = \\begin{bmatrix}-2 & 1 \\\\ 1 & -1 \\end{bmatrix}, b = \\begin{bmatrix}\\frac{3}{4} \\\\ -\\frac{1}{4}\\end{bmatrix},$ and $x$ is a 2-dimensional variable vector with each entry constrained in $[0, 1]$.\n",
    "\n",
    "We employ the QP mode of QHDOPT to input this problem."
   ]
  },
  {
   "cell_type": "markdown",
   "id": "58309b05",
   "metadata": {},
   "source": [
    "### 1. Create problem instance\n",
    "\n",
    "First, we import the class QHD from our package QHDOPT, implying the solver's algorithm. "
   ]
  },
  {
   "cell_type": "code",
   "execution_count": 1,
   "id": "bda849f0",
   "metadata": {},
   "outputs": [
    {
     "name": "stderr",
     "output_type": "stream",
     "text": [
      "/Users/samuelkushnir/miniconda3/envs/QHDOPT-dev/lib/python3.9/site-packages/qutip/__init__.py:65: UserWarning: The new version of Cython, (>= 3.0.0) is not supported.\n",
      "  warnings.warn(\n"
     ]
    }
   ],
   "source": [
    "from qhdopt import QHD"
   ]
  },
  {
   "cell_type": "markdown",
   "id": "9a64c0be",
   "metadata": {},
   "source": [
    "Next, we construct the matrices $Q$ and $b$ by Python lists. For the matrix $Q$, it is represented by a nested list. The vector $b$ is represented by a list, encoding its transposed matrix $b^T$. "
   ]
  },
  {
   "cell_type": "code",
   "execution_count": 2,
   "id": "fccf79e1",
   "metadata": {},
   "outputs": [],
   "source": [
    "Q = [[-2, 1],\n",
    "     [1, -1]]\n",
    "bt = [3/4, -1/4]"
   ]
  },
  {
   "cell_type": "markdown",
   "id": "2c6906ab",
   "metadata": {},
   "source": [
    "Then we create a problem instance, stored in a variable `model`. It mandates the matrices $Q$ and $b$ to construct the problem, and by default set the box constraints to the unit box $[0, 1]^n$. You may override the bounds by `bounds=(l, r)` or `bounds=[(l1, r1), ..., (ln, rn)]`. "
   ]
  },
  {
   "cell_type": "code",
   "execution_count": 3,
   "id": "6b366a7e",
   "metadata": {},
   "outputs": [],
   "source": [
    "model = QHD.QP(Q, bt)"
   ]
  },
  {
   "cell_type": "markdown",
   "id": "94d403e4",
   "metadata": {},
   "source": [
    "### 2. Solve with D-Wave\n",
    "\n",
    "Now we illustrate how to solve the problem with QHDOPT's solvers. We consider the D-Wave solver first. \n",
    "\n",
    "We can configure the D-Wave solver by running `model.dwave_setup` with all the parameters set. The mandatory parameter is the resolution $r$, which we set as 8. The API key can be either directly input by setting `api_key` or from a file. \n",
    "\n",
    "You may also set the annealing schedule, chain strength, embedding schemes, etc. Here we use default parameters. "
   ]
  },
  {
   "cell_type": "code",
   "execution_count": 4,
   "id": "61847443",
   "metadata": {},
   "outputs": [],
   "source": [
    "model.dwave_setup(resolution=8, api_key_from_file='')"
   ]
  },
  {
   "cell_type": "markdown",
   "id": "da5560f6",
   "metadata": {},
   "source": [
    "To compile, send the job to run, and post-processing, you can run `model.optimize`. Setting `verbose=1` outputs more runtime information."
   ]
  },
  {
   "cell_type": "code",
   "execution_count": 5,
   "id": "aa522445",
   "metadata": {},
   "outputs": [
    {
     "name": "stdout",
     "output_type": "stream",
     "text": [
      "Backend QPU Time: 0.025723569999999998\n",
      "Overhead Time: 2.49435437380188\n",
      "\n",
      "* Runtime breakdown\n",
      "SimuQ compilation: 0.000 s\n",
      "Backend runtime: 2.520 s\n",
      "Decoding time: 0.104 s\n",
      "Fine-tuning time: 0.058 s\n",
      "* Total time: 2.682 s\n",
      "* Coarse solution\n",
      "Unit Box Minimizer: [0. 1.]\n",
      "Minimizer: [0. 1.]\n",
      "Minimum: -0.75\n",
      "\n",
      "* Fine-tuned solution\n",
      "Minimizer: [0. 1.]\n",
      "Minimum: -0.75\n",
      "Unit Box Minimizer: [0. 1.]\n",
      "\n"
     ]
    }
   ],
   "source": [
    "response = model.optimize(verbose = 1)"
   ]
  },
  {
   "cell_type": "markdown",
   "id": "7278e4c7",
   "metadata": {},
   "source": [
    "Here, the coarse solution is one of the decoded solutions directly from D-Wave devices, fined-tuned solution is the best solution obtained by using classical local solvers to refine the coarse solutions, and the success rate is the portion of samples leading to the best solution. \n",
    "\n",
    "The D-Wave solver returns a global minimum at $x=\\begin{bmatrix} 0 \\\\ 1 \\end{bmatrix}$, with the minimum value $-0.75$. After fine-tuning, the minimum does not change in this case. \n",
    "\n",
    "A runtime breakdown is also provided to exhibit the time consumption of each step in the solver.\n",
    "\n",
    "The Response object holds all relevant solution information in a structured way. It also contains more debugging and time information."
   ]
  },
  {
   "cell_type": "markdown",
   "id": "fa835b6c",
   "metadata": {},
   "source": [
    "### 2. Compare with classical solvers\n",
    "\n",
    "QHD is a quantum-classical hybrid algorithm, and we can compare its performance with classical-only solvers. QHDOPT contains a baseline backend where a random sampling procedure is followed by the specified post-processing method. Developers can also use it to debug the programmed `model`. "
   ]
  },
  {
   "cell_type": "code",
   "execution_count": 4,
   "id": "3533cfd3",
   "metadata": {},
   "outputs": [
    {
     "name": "stdout",
     "output_type": "stream",
     "text": [
      "\n",
      "******************************************************************************\n",
      "This program contains Ipopt, a library for large-scale nonlinear optimization.\n",
      " Ipopt is released as open source code under the Eclipse Public License (EPL).\n",
      "         For more information visit https://github.com/coin-or/Ipopt\n",
      "******************************************************************************\n",
      "\n"
     ]
    }
   ],
   "source": [
    "response = model.classically_optimize(solver=\"IPOPT\")"
   ]
  },
  {
   "cell_type": "markdown",
   "id": "4f24d0f3",
   "metadata": {},
   "source": [
    "In this minimal example, the classical solver performs well in the success rate and run time. In harder cases, QHDOPT with D-Wave backends normally performs better. "
   ]
  },
  {
   "cell_type": "markdown",
   "id": "98234f4c",
   "metadata": {},
   "source": [
    "### 3. Solve with QuTiP\n",
    "\n",
    "The QHD algorithm can be deployed to different backends, thanks to SimuQ's Hamiltonian-based compilation scheme. Here we demonstrate how we can use a QuTiP-based solver to implement QHD and solve the QP problem. \n",
    "\n",
    "The workflow follows the same style. We first setup the QuTiP solver, then solve with `optimize`. "
   ]
  },
  {
   "cell_type": "code",
   "execution_count": 6,
   "id": "9ffe0426",
   "metadata": {},
   "outputs": [],
   "source": [
    "model.qutip_setup(resolution=6, time_discretization=40)"
   ]
  },
  {
   "cell_type": "code",
   "execution_count": 7,
   "id": "47d1b2b1",
   "metadata": {},
   "outputs": [
    {
     "name": "stdout",
     "output_type": "stream",
     "text": [
      "Compiled.\n",
      "Solved.\n",
      "* Runtime breakdown\n",
      "SimuQ compilation: 2.201 s\n",
      "Backend runtime: 12.598 s\n",
      "Decoding time: 0.025 s\n",
      "Fine-tuning time: 0.078 s\n",
      "* Total time: 14.903 s\n",
      "* Coarse solution\n",
      "Unit Box Minimizer: [0.16666667 1.        ]\n",
      "Minimizer: [0.16666667 1.        ]\n",
      "Minimum: -0.4861111044883728\n",
      "\n",
      "* Fine-tuned solution\n",
      "Minimizer: [0. 1.]\n",
      "Minimum: -0.75\n",
      "Unit Box Minimizer: [0. 1.]\n",
      "\n"
     ]
    },
    {
     "data": {
      "text/plain": "<qhdopt.response.Response at 0x2923551f0>"
     },
     "execution_count": 7,
     "metadata": {},
     "output_type": "execute_result"
    }
   ],
   "source": [
    "model.optimize(verbose = 1)"
   ]
  },
  {
   "cell_type": "markdown",
   "id": "7eb63459",
   "metadata": {},
   "source": [
    "### 4. Solve with IonQ\n",
    "\n",
    "We can also solve the QP problem with IonQ backends. Similarly, we first setup the IonQ solver, then solve with `optimize`. "
   ]
  },
  {
   "cell_type": "code",
   "execution_count": 8,
   "id": "1f496c44",
   "metadata": {},
   "outputs": [],
   "source": [
    "model.ionq_setup(resolution=6, api_key_from_file='../ionq_API_key', time_discretization=10, shots = 1000, on_simulator=True)"
   ]
  },
  {
   "cell_type": "code",
   "execution_count": 9,
   "id": "86c328c8",
   "metadata": {},
   "outputs": [
    {
     "name": "stdout",
     "output_type": "stream",
     "text": [
      "{'id': 'a711150a-a932-42ad-bb6d-049d447b1421', 'status': 'ready', 'request': 1706081294}\n",
      "* Coarse solution\n",
      "Minimizer: [0.16666667 1.        ]\n",
      "Minimum: -0.4861111040744517\n",
      "\n",
      "* Fine-tuned solution\n",
      "Minimizer: [0. 1.]\n",
      "Minimum: -0.75\n",
      "Success rate: 0.657\n",
      "\n",
      "* Runtime breakdown\n",
      "SimuQ compilation: 161.999 s\n",
      "Backend runtime: 6.240 s\n",
      "Decoding time: 0.054 s\n",
      "Fine-tuning time: 2.914 s\n",
      "* Total time: 171.206 s\n"
     ]
    },
    {
     "data": {
      "text/plain": [
       "-0.75"
      ]
     },
     "execution_count": 9,
     "metadata": {},
     "output_type": "execute_result"
    }
   ],
   "source": [
    "model.optimize(verbose = 1)"
   ]
  },
  {
   "cell_type": "markdown",
   "id": "93b66f47",
   "metadata": {},
   "source": [
    "### 5. Obtain compilation details\n",
    "\n",
    "For developers who need further details of the compilation procedure, we can print the intermediate parameters with the model. \n",
    "\n",
    "The D-Wave backend supports printing the hyper parameters and the final Hamiltonian. We may set `compile_only` for the `optimize` method to stop before sending the task to actual backends. "
   ]
  },
  {
   "cell_type": "code",
   "execution_count": 10,
   "id": "553bf983",
   "metadata": {},
   "outputs": [
    {
     "name": "stdout",
     "output_type": "stream",
     "text": [
      "* Compilation information\n",
      "Final Hamiltonian:\n",
      "(Feature under development; only the Hamiltonian is meaningful here)\n",
      "Quantum system:\n",
      "- Sites: Q0 Q1 Q2 Q3 \n",
      "- Sequentially evolves:\n",
      "    Time = 1,  TIHamiltonian = -0.25  +  -0.046875 * Q1.Z  +  -0.078125 * Q0.Z  +  0.140625 * Q3.Z  +  -0.015625 * Q2.Z  +  0.0625 * Q1.Z * Q3.Z  +  0.0625 * Q1.Z * Q2.Z  +  0.0625 * Q0.Z * Q3.Z  +  0.0625 * Q0.Z * Q2.Z  +  -0.140625 * Q0.Z * Q1.Z  +  -0.140625 * Q2.Z * Q3.Z\n",
      "\n",
      "Annealing schedule parameter: [[0, 0], [20, 1]]\n",
      "Penalty coefficient: 0.140625\n",
      "Chain strength: 0.375\n",
      "Number of shots: 100\n"
     ]
    }
   ],
   "source": [
    "model.dwave_setup(resolution=2, api_key_from_file='../dwave_API_key')\n",
    "model.optimize(verbose=2, compile_only=True)"
   ]
  },
  {
   "cell_type": "markdown",
   "id": "94ff6781",
   "metadata": {},
   "source": [
    "For QuTiP backend, QHDOPT can print the Hamiltonian. Notice that SimuQ stores quantum systems as piece-wise constant Hamiltonians, here we set the `time_discretization` to a small number. "
   ]
  },
  {
   "cell_type": "code",
   "execution_count": 11,
   "id": "c28ddec7",
   "metadata": {},
   "outputs": [
    {
     "name": "stdout",
     "output_type": "stream",
     "text": [
      "Compiled.\n",
      "* Compilation information\n",
      "Hamiltonian evolution:\n",
      "Quantum system:\n",
      "- Sites: Q0 Q1 Q2 Q3 \n",
      "- Sequentially evolves:\n",
      "    Time = 10,  TIHamiltonian = -1.0 * Q0.X * Q1.X  +  -1.0 * Q0.Y * Q1.Y  +  -1.0 * Q2.X * Q3.X  +  -1.0 * Q2.Y * Q3.Y\n",
      "    Time = 0.5,  TIHamiltonian = -5.0 * Q0.X * Q1.X  +  -5.0 * Q0.Y * Q1.Y  +  -5.0 * Q2.X * Q3.X  +  -5.0 * Q2.Y * Q3.Y  +  -1.25 * Q1.Z  +  -1.25 * Q0.Z  +  -0.3125 * Q3.Z  +  0.3125 * Q1.Z * Q3.Z  +  0.625 * Q1.Z * Q2.Z  +  0.625 * Q0.Z * Q3.Z  +  1.25 * Q0.Z * Q2.Z\n",
      "    Time = 0.5,  TIHamiltonian = -2.2222222222222223 * Q0.X * Q1.X  +  -2.2222222222222223 * Q0.Y * Q1.Y  +  -2.2222222222222223 * Q2.X * Q3.X  +  -2.2222222222222223 * Q2.Y * Q3.Y  +  -2.8125 * Q1.Z  +  -2.8125 * Q0.Z  +  -0.703125 * Q3.Z  +  0.703125 * Q1.Z * Q3.Z  +  1.40625 * Q1.Z * Q2.Z  +  1.40625 * Q0.Z * Q3.Z  +  2.8125 * Q0.Z * Q2.Z\n",
      "\n",
      "Number of shots: 100\n"
     ]
    }
   ],
   "source": [
    "model.qutip_setup(resolution=2, time_discretization=3)\n",
    "model.optimize(verbose=2, compile_only=True)"
   ]
  },
  {
   "cell_type": "markdown",
   "id": "50f33260",
   "metadata": {},
   "source": [
    "For IonQ backend, QHDOPT can print the Hamiltonian and the compiled circuit."
   ]
  },
  {
   "cell_type": "code",
   "execution_count": 12,
   "id": "dd01840d",
   "metadata": {},
   "outputs": [
    {
     "name": "stdout",
     "output_type": "stream",
     "text": [
      "* Compilation information\n",
      "Hamiltonian evolution:\n",
      "Quantum system:\n",
      "- Sites: Q0 Q1 Q2 Q3 \n",
      "- Sequentially evolves:\n",
      "    Time = 10,  TIHamiltonian = -1.0 * Q0.X * Q1.X  +  -1.0 * Q0.Y * Q1.Y  +  -1.0 * Q2.X * Q3.X  +  -1.0 * Q2.Y * Q3.Y\n",
      "    Time = 0.5,  TIHamiltonian = -5.0 * Q0.X * Q1.X  +  -5.0 * Q0.Y * Q1.Y  +  -5.0 * Q2.X * Q3.X  +  -5.0 * Q2.Y * Q3.Y  +  -1.25 * Q1.Z  +  -1.25 * Q0.Z  +  -0.3125 * Q3.Z  +  0.3125 * Q1.Z * Q3.Z  +  0.625 * Q1.Z * Q2.Z  +  0.625 * Q0.Z * Q3.Z  +  1.25 * Q0.Z * Q2.Z\n",
      "    Time = 0.5,  TIHamiltonian = -2.2222222222222223 * Q0.X * Q1.X  +  -2.2222222222222223 * Q0.Y * Q1.Y  +  -2.2222222222222223 * Q2.X * Q3.X  +  -2.2222222222222223 * Q2.Y * Q3.Y  +  -2.8125 * Q1.Z  +  -2.8125 * Q0.Z  +  -0.703125 * Q3.Z  +  0.703125 * Q1.Z * Q3.Z  +  1.40625 * Q1.Z * Q2.Z  +  1.40625 * Q0.Z * Q3.Z  +  2.8125 * Q0.Z * Q2.Z\n",
      "\n",
      "Compiled circuit:\n",
      "[{'gate': 'gpi', 'target': 0, 'phase': 0.0}, {'gate': 'ms', 'targets': [0, 1], 'phases': [0.0, 0.25], 'angle': 0.12500000000000003}, {'gate': 'ms', 'targets': [1, 0], 'phases': [0.0, 0.75], 'angle': 0.125}, {'gate': 'gpi', 'target': 2, 'phase': 0.0}, {'gate': 'ms', 'targets': [2, 3], 'phases': [0.0, 0.25], 'angle': 0.12500000000000003}, {'gate': 'ms', 'targets': [3, 2], 'phases': [0.0, 0.75], 'angle': 0.125}, {'gate': 'ms', 'targets': [0, 1], 'phases': [0.0, 0.5], 'angle': 0.1830988692701552}, {'gate': 'ms', 'targets': [2, 3], 'phases': [0.0, 0.5], 'angle': 0.18309886927015465}, {'gate': 'ms', 'targets': [0, 1], 'phases': [0.25, 0.75], 'angle': 0.18309883154140968}, {'gate': 'ms', 'targets': [2, 3], 'phases': [0.25, 0.75], 'angle': 0.1830988692701552}, {'gate': 'gpi2', 'target': 0, 'phase': 0.5}, {'gate': 'gpi2', 'target': 3, 'phase': 0.5}, {'gate': 'ms', 'targets': [0, 3], 'phases': [0.25, 0.25], 'angle': 0.09947183936776081}, {'gate': 'gpi2', 'target': 1, 'phase': 0.5}, {'gate': 'gpi2', 'target': 2, 'phase': 0.5}, {'gate': 'ms', 'targets': [1, 2], 'phases': [0.25, 0.25], 'angle': 0.0994718393677608}, {'gate': 'ms', 'targets': [0, 2], 'phases': [0.25000000000000006, 0.25000000000000006], 'angle': 0.19894367910792127}, {'gate': 'ms', 'targets': [1, 3], 'phases': [0.25000000000000006, 0.25000000000000006], 'angle': 0.049735919683209805}, {'gate': 'gpi2', 'target': 0, 'phase': 1.9490859162596877e-17}, {'gate': 'gpi2', 'target': 1, 'phase': 1.9490859162596877e-17}, {'gate': 'ms', 'targets': [0, 1], 'phases': [1.9490859162596877e-17, 1.9490859162596877e-17], 'angle': 0.2042252866965133}, {'gate': 'gpi2', 'target': 2, 'phase': 1.9490859162596877e-17}, {'gate': 'gpi2', 'target': 3, 'phase': 1.9490859162596877e-17}, {'gate': 'ms', 'targets': [2, 3], 'phases': [1.9490859162596877e-17, 1.9490859162596877e-17], 'angle': 0.2042252873069897}, {'gate': 'ms', 'targets': [0, 1], 'phases': [0.25000000000000006, 0.25000000000000006], 'angle': 0.20422528669651302}, {'gate': 'ms', 'targets': [2, 3], 'phases': [0.25000000000000006, 0.25000000000000006], 'angle': 0.2042252866965133}, {'gate': 'gpi2', 'target': 0, 'phase': 0.6989436791079212}, {'gate': 'gpi2', 'target': 3, 'phase': 0.5497359197327478}, {'gate': 'ms', 'targets': [0, 3], 'phases': [0.44894367910792116, 0.29973591973274794], 'angle': 0.2238116382654559}, {'gate': 'gpi2', 'target': 1, 'phase': 0.6989436791079211}, {'gate': 'gpi2', 'target': 2, 'phase': 0.5}, {'gate': 'ms', 'targets': [1, 2], 'phases': [0.4489436791079211, 0.25000000000000006], 'angle': 0.22381163826545586}, {'gate': 'gpi', 'target': 0, 'phase': 0.9489436791079211}, {'gate': 'gpi', 'target': 2, 'phase': 0.75}, {'gate': 'ms', 'targets': [0, 2], 'phases': [0.9489436791079212, 0.25000000000000006], 'angle': 0.052376719640634}, {'gate': 'ms', 'targets': [1, 3], 'phases': [0.44894367910792116, 0.29973591973274794], 'angle': 0.11190581936546591}, {'gate': 'gpi2', 'target': 0, 'phase': 0.6989436791079212}, {'gate': 'gpi2', 'target': 1, 'phase': 0.6989436791079211}, {'gate': 'ms', 'targets': [0, 1], 'phases': [0.19894367910792118, 0.19894367910792113], 'angle': 0.14632234943112166}, {'gate': 'gpi2', 'target': 2, 'phase': 0.5}, {'gate': 'gpi2', 'target': 3, 'phase': 0.5497359197327478}, {'gate': 'ms', 'targets': [2, 3], 'phases': [1.9490859162596877e-17, 0.04973591973274793], 'angle': 0.14632234640070896}, {'gate': 'gpi', 'target': 0, 'phase': 0.9489436791079212}, {'gate': 'gpi', 'target': 1, 'phase': 0.9489436791079211}, {'gate': 'ms', 'targets': [0, 1], 'phases': [0.44894367910792116, 0.4489436791079211], 'angle': 0.14632234943112138}, {'gate': 'gpi', 'target': 2, 'phase': 0.75}, {'gate': 'gpi', 'target': 3, 'phase': 0.7997359197327479}, {'gate': 'ms', 'targets': [2, 3], 'phases': [0.25000000000000006, 0.29973591973274794], 'angle': 0.14632234943112152}]\n",
      "None\n",
      "Number of shots: 1000\n"
     ]
    }
   ],
   "source": [
    "model.ionq_setup(resolution=2, api_key_from_file='../ionq_API_key', time_discretization=3, shots = 1000, on_simulator=True)\n",
    "model.optimize(verbose=2, compile_only=True)"
   ]
  },
  {
   "cell_type": "code",
   "execution_count": null,
   "id": "36e6e1ee",
   "metadata": {},
   "outputs": [],
   "source": []
  }
 ],
 "metadata": {
  "kernelspec": {
   "display_name": "Python 3 (ipykernel)",
   "language": "python",
   "name": "python3"
  },
  "language_info": {
   "codemirror_mode": {
    "name": "ipython",
    "version": 3
   },
   "file_extension": ".py",
   "mimetype": "text/x-python",
   "name": "python",
   "nbconvert_exporter": "python",
   "pygments_lexer": "ipython3",
   "version": "3.9.18"
  }
 },
 "nbformat": 4,
 "nbformat_minor": 5
}
