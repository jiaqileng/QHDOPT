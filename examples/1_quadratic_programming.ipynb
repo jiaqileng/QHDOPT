{
 "cells": [
  {
   "cell_type": "markdown",
   "id": "8a629179",
   "metadata": {},
   "source": [
    "## QHDOPT for quadratic programming\n",
    "\n",
    "In this notebook, we demonstrate how to employ QHDOPT to solve a quadratic programming problem with box constraints. \n",
    "\n",
    "Our target problem is $$\\min \\ f(x)=\\frac{1}{2}x^TQx+b^Tx,$$ where $Q = \\begin{bmatrix}-2 & 1 \\\\ 1 & -1 \\end{bmatrix}, b = \\begin{bmatrix}\\frac{3}{4} \\\\ -\\frac{1}{4}\\end{bmatrix},$ and $x$ is a 2-dimensional variable vector with each entry constrained in $[0, 1]$.\n",
    "\n",
    "We employ the QP mode of QHDOPT to input this problem."
   ]
  },
  {
   "cell_type": "markdown",
   "id": "58309b05",
   "metadata": {},
   "source": [
    "### 1. Create problem instance\n",
    "\n",
    "First, we import the class QHD from our package QHDOPT, implying the solver's algorithm. "
   ]
  },
  {
   "cell_type": "code",
   "execution_count": null,
   "id": "bda849f0",
   "metadata": {},
   "outputs": [],
   "source": [
    "from qhdopt import QHD"
   ]
  },
  {
   "cell_type": "markdown",
   "id": "9a64c0be",
   "metadata": {},
   "source": [
    "Next, we construct the matrices $Q$ and $b$ by Python lists. For the matrix $Q$, it is represented by a nested list. The vector $b$ is represented by a list, encoding its transposed matrix $b^T$. "
   ]
  },
  {
   "cell_type": "code",
   "execution_count": null,
   "id": "fccf79e1",
   "metadata": {},
   "outputs": [],
   "source": [
    "Q = [[-2, 1],\n",
    "     [1, -1]]\n",
    "bt = [3/4, -1/4]"
   ]
  },
  {
   "cell_type": "markdown",
   "id": "2c6906ab",
   "metadata": {},
   "source": [
    "Then we create a problem instance, stored in a variable `model`. It mandates the matrices $Q$ and $b$ to construct the problem, and by default set the box constraints to the unit box $[0, 1]^n$. You may override the bounds by `bounds=(l, r)` or `bounds=[(l1, r1), ..., (ln, rn)]`. "
   ]
  },
  {
   "cell_type": "code",
   "execution_count": null,
   "id": "6b366a7e",
   "metadata": {},
   "outputs": [],
   "source": [
    "model = QHD.QP(Q, bt)"
   ]
  },
  {
   "cell_type": "markdown",
   "id": "94d403e4",
   "metadata": {},
   "source": [
    "### 2. Solve with D-Wave\n",
    "\n",
    "Now we illustrate how to solve the problem with QHDOPT's solvers. We consider the D-Wave solver first. \n",
    "\n",
    "We can configure the D-Wave solver by running `model.dwave_setup` with all the parameters set. The mandatory parameter is the resolution $r$, which we set as 8. The API key can be either directly input by setting `api_key` or from a file. \n",
    "\n",
    "You may also set the annealing schedule, chain strength, embedding schemes, etc. Here we use default parameters. "
   ]
  },
  {
   "cell_type": "code",
   "execution_count": null,
   "id": "61847443",
   "metadata": {},
   "outputs": [],
   "source": [
    "model.dwave_setup(resolution=8, api_key_from_file='/Users/samuelkushnir/Documents/dwave_api_key.txt')"
   ]
  },
  {
   "cell_type": "markdown",
   "id": "da5560f6",
   "metadata": {},
   "source": [
    "To compile, send the job to run, and post-processing, you can run `model.optimize`. Setting `verbose=1` outputs more runtime information."
   ]
  },
  {
   "cell_type": "code",
   "execution_count": null,
   "id": "aa522445",
   "metadata": {},
   "outputs": [],
   "source": [
    "response = model.optimize(verbose = 1)"
   ]
  },
  {
   "cell_type": "markdown",
   "id": "7278e4c7",
   "metadata": {},
   "source": [
    "Here, the coarse solution is one of the decoded solutions directly from D-Wave devices, fined-tuned solution is the best solution obtained by using classical local solvers to refine the coarse solutions, and the success rate is the portion of samples leading to the best solution.\n",
    "\n",
    "The D-Wave solver returns a global minimum at $x=\\begin{bmatrix} 0 \\\\ 1 \\end{bmatrix}$, with the minimum value $-0.75$. After fine-tuning, the minimum does not change in this case. \n",
    "\n",
    "A runtime breakdown is also provided to exhibit the time consumption of each step in the solver.\n",
    "\n",
    "The Response object holds all relevant solution information in a structured way. It also contains more debugging and time information."
   ]
  },
  {
   "cell_type": "markdown",
   "id": "fa835b6c",
   "metadata": {},
   "source": [
    "### 2. Compare with classical solvers\n",
    "\n",
    "QHD is a quantum-classical hybrid algorithm, and we can compare its performance with classical-only solvers. QHDOPT contains a baseline backend where a random sampling procedure is followed by the specified post-processing method. Developers can also use it to debug the programmed `model`. "
   ]
  },
  {
   "cell_type": "code",
   "execution_count": null,
   "id": "3533cfd3",
   "metadata": {},
   "outputs": [],
   "source": [
    "response = model.classically_optimize(solver=\"IPOPT\", verbose=1)"
   ]
  },
  {
   "cell_type": "markdown",
   "id": "4f24d0f3",
   "metadata": {},
   "source": [
    "In this minimal example, the classical solver performs well in the success rate and run time. In harder cases, QHDOPT with D-Wave backends normally performs better. "
   ]
  },
  {
   "cell_type": "markdown",
   "id": "98234f4c",
   "metadata": {},
   "source": [
    "### 3. Solve with QuTiP\n",
    "\n",
    "The QHD algorithm can be deployed to different backends, thanks to SimuQ's Hamiltonian-based compilation scheme. Here we demonstrate how we can use a QuTiP-based solver to implement QHD and solve the QP problem. \n",
    "\n",
    "The workflow follows the same style. We first setup the QuTiP solver, then solve with `optimize`. "
   ]
  },
  {
   "cell_type": "code",
   "execution_count": null,
   "id": "9ffe0426",
   "metadata": {},
   "outputs": [],
   "source": [
    "model.qutip_setup(resolution=6, time_discretization=40)"
   ]
  },
  {
   "cell_type": "code",
   "execution_count": null,
   "id": "47d1b2b1",
   "metadata": {},
   "outputs": [],
   "source": [
    "model.optimize(verbose = 1)"
   ]
  },
  {
   "cell_type": "markdown",
   "id": "7eb63459",
   "metadata": {},
   "source": [
    "### 4. Solve with IonQ\n",
    "\n",
    "We can also solve the QP problem with IonQ backends. Similarly, we first setup the IonQ solver, then solve with `optimize`. "
   ]
  },
  {
   "cell_type": "code",
   "execution_count": null,
   "id": "1f496c44",
   "metadata": {},
   "outputs": [],
   "source": [
    "model.ionq_setup(resolution=6, api_key_from_file='../ionq_API_key', time_discretization=10, shots = 1000, on_simulator=True)"
   ]
  },
  {
   "cell_type": "code",
   "execution_count": null,
   "id": "86c328c8",
   "metadata": {},
   "outputs": [],
   "source": [
    "model.optimize(verbose = 1)"
   ]
  },
  {
   "cell_type": "markdown",
   "id": "93b66f47",
   "metadata": {},
   "source": [
    "### 5. Obtain compilation details\n",
    "\n",
    "For developers who need further details of the compilation procedure, we can print the intermediate parameters with the model. \n",
    "\n",
    "The D-Wave backend supports printing the hyper parameters and the final Hamiltonian. We may set `compile_only` for the `optimize` method to stop before sending the task to actual backends. "
   ]
  },
  {
   "cell_type": "code",
   "execution_count": null,
   "id": "553bf983",
   "metadata": {},
   "outputs": [],
   "source": [
    "model.dwave_setup(resolution=2, api_key_from_file='/Users/samuelkushnir/Documents/dwave_api_key.txt')\n",
    "model.compile_only()"
   ]
  },
  {
   "cell_type": "markdown",
   "id": "94ff6781",
   "metadata": {},
   "source": [
    "For QuTiP backend, QHDOPT can print the Hamiltonian. Notice that SimuQ stores quantum systems as piece-wise constant Hamiltonians, here we set the `time_discretization` to a small number. "
   ]
  },
  {
   "cell_type": "code",
   "execution_count": null,
   "id": "c28ddec7",
   "metadata": {},
   "outputs": [],
   "source": [
    "model.qutip_setup(resolution=2, time_discretization=3)\n",
    "model.optimize(verbose=2, compile_only=True)"
   ]
  },
  {
   "cell_type": "markdown",
   "id": "50f33260",
   "metadata": {},
   "source": [
    "For IonQ backend, QHDOPT can print the Hamiltonian and the compiled circuit."
   ]
  },
  {
   "cell_type": "code",
   "execution_count": null,
   "id": "dd01840d",
   "metadata": {},
   "outputs": [],
   "source": [
    "model.ionq_setup(resolution=2, api_key_from_file='../ionq_API_key', time_discretization=3, shots = 1000, on_simulator=True)\n",
    "model.optimize(verbose=2, compile_only=True)"
   ]
  },
  {
   "cell_type": "code",
   "execution_count": null,
   "id": "36e6e1ee",
   "metadata": {},
   "outputs": [],
   "source": []
  }
 ],
 "metadata": {
  "kernelspec": {
   "display_name": "Python 3 (ipykernel)",
   "language": "python",
   "name": "python3"
  },
  "language_info": {
   "codemirror_mode": {
    "name": "ipython",
    "version": 3
   },
   "file_extension": ".py",
   "mimetype": "text/x-python",
   "name": "python",
   "nbconvert_exporter": "python",
   "pygments_lexer": "ipython3",
   "version": "3.9.18"
  }
 },
 "nbformat": 4,
 "nbformat_minor": 5
}
