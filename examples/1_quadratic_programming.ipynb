{
 "cells": [
  {
   "cell_type": "markdown",
   "id": "8a629179",
   "metadata": {},
   "source": [
    "## QHDOPT for quadratic programming\n",
    "\n",
    "In this notebook, we demonstrate how to employ QHDOPT to solve a quadratic programming problem with box constraints. \n",
    "\n",
    "Our target problem is $$\\min \\ f(x)=\\frac{1}{2}x^TQx+b^Tx,$$ where $Q = \\begin{bmatrix}-2 & 1 \\\\ 1 & -1 \\end{bmatrix}, b = \\begin{bmatrix}\\frac{3}{4} \\\\ -\\frac{1}{4}\\end{bmatrix},$ and $x$ is a 2-dimensional variable vector with each entry constrained in $[0, 1]$.\n",
    "\n",
    "We employ the QP mode of QHDOPT to input this problem."
   ]
  },
  {
   "cell_type": "markdown",
   "id": "58309b05",
   "metadata": {},
   "source": [
    "### 1. Create problem instance\n",
    "\n",
    "First, we import the class QHD from our package QHDOPT, implying the solver's algorithm. "
   ]
  },
  {
   "cell_type": "code",
   "execution_count": null,
   "id": "bda849f0",
   "metadata": {
    "pycharm": {
     "is_executing": true
    }
   },
   "outputs": [],
   "source": [
    "from qhdopt import QHD"
   ]
  },
  {
   "cell_type": "markdown",
   "id": "9a64c0be",
   "metadata": {},
   "source": [
    "Next, we construct the matrices $Q$ and $b$ by Python lists. For the matrix $Q$, it is represented by a nested list. The vector $b$ is represented by a list, encoding its transposed matrix $b^T$. "
   ]
  },
  {
   "cell_type": "code",
   "execution_count": null,
   "id": "fccf79e1",
   "metadata": {
    "pycharm": {
     "is_executing": true
    }
   },
   "outputs": [],
   "source": [
    "Q = [[-2, 1],\n",
    "     [1, -1]]\n",
    "bt = [3/4, -1/4]"
   ]
  },
  {
   "cell_type": "markdown",
   "id": "2c6906ab",
   "metadata": {},
   "source": [
    "Then we create a problem instance, stored in a variable `model`. It mandates the matrices $Q$ and $b$ to construct the problem, and by default set the box constraints to the unit box $[0, 1]^n$. You may override the bounds by `bounds=(l, r)` or `bounds=[(l1, r1), ..., (ln, rn)]`. "
   ]
  },
  {
   "cell_type": "code",
   "execution_count": 3,
   "id": "6b366a7e",
   "metadata": {
    "pycharm": {
     "is_executing": true
    }
   },
   "outputs": [],
   "source": [
    "model = QHD.QP(Q, bt)"
   ]
  },
  {
   "cell_type": "markdown",
   "id": "94d403e4",
   "metadata": {},
   "source": [
    "### 2. Solve with D-Wave\n",
    "\n",
    "Now we illustrate how to solve the problem with QHDOPT's solvers. We consider the D-Wave solver first. \n",
    "\n",
    "We can configure the D-Wave solver by running `model.dwave_setup` with all the parameters set. The mandatory parameter is the resolution $r$, which we set as 8. The API key can be either directly input by setting `api_key` or from a file. \n",
    "\n",
    "You may also set the annealing schedule, chain strength, embedding schemes, etc. Here we use default parameters. "
   ]
  },
  {
   "cell_type": "code",
   "execution_count": 4,
   "id": "61847443",
   "metadata": {
    "pycharm": {
     "is_executing": true
    }
   },
   "outputs": [],
   "source": [
    "model.dwave_setup(8, api_key_from_file='../dwave_API_key')"
   ]
  },
  {
   "cell_type": "markdown",
   "id": "da5560f6",
   "metadata": {},
   "source": [
    "To compile, send the job to run, and post-processing, you can run `model.optimize`. Setting `verbose=1` outputs more runtime information."
   ]
  },
  {
   "cell_type": "code",
   "execution_count": 5,
   "id": "aa522445",
   "metadata": {
    "pycharm": {
     "is_executing": true
    }
   },
   "outputs": [
    {
     "name": "stdout",
     "output_type": "stream",
     "text": [
      "Received Task from D-Wave:\n",
      "2024-01-24 07:24:02\n",
      "Backend QPU Time: 0.025398769999999998\n",
      "Overhead Time: 4.9655310719952395\n",
      "* Coarse solution\n",
      "Minimizer: [0. 1.]\n",
      "Minimum: -0.75\n",
      "\n",
      "* Fine-tuned solution\n",
      "Minimizer: [0. 1.]\n",
      "Minimum: -0.75\n",
      "Success rate: 0.49\n",
      "\n",
      "* Runtime breakdown\n",
      "SimuQ compilation: 0.000 s\n",
      "Backend runtime: 4.991 s\n",
      "Decoding time: 0.049 s\n",
      "Fine-tuning time: 0.445 s\n",
      "* Total time: 5.485 s\n"
     ]
    },
    {
     "data": {
      "text/plain": [
       "-0.75"
      ]
     },
     "execution_count": 5,
     "metadata": {},
     "output_type": "execute_result"
    }
   ],
   "source": [
    "model.optimize(verbose = 1)"
   ]
  },
  {
   "cell_type": "markdown",
   "id": "7278e4c7",
   "metadata": {},
   "source": [
    "Here, the coarse solution is one of the decoded solutions directly from D-Wave devices, fined-tuned solution is the best solution obtained by using classical local solvers to refine the coarse solutions, and the success rate is the portion of samples leading to the best solution. \n",
    "\n",
    "The D-Wave solver returns a global minimum at $x=\\begin{bmatrix} 0 \\\\ 1 \\end{bmatrix}$, with the minimum value $-0.75$. After fine-tuning, the minimum does not change in this case. \n",
    "\n",
    "A runtime breakdown is also provided to exhibit the time consumption of each step in the solver. "
   ]
  },
  {
   "cell_type": "markdown",
   "id": "98234f4c",
   "metadata": {},
   "source": [
    "### 2. Solve with QuTiP\n",
    "\n",
    "The QHD algorithm can be deployed to different backends, thanks to SimuQ's Hamiltonian-based compilation scheme. Here we demonstrate how we can use a QuTiP-based solver to implement QHD and solve the QP problem. \n",
    "\n",
    "The workflow follows the same style. We first setup the QuTiP solver, then solve with `optimize`. "
   ]
  },
  {
   "cell_type": "code",
   "execution_count": 6,
   "id": "9ffe0426",
   "metadata": {
    "pycharm": {
     "is_executing": true
    }
   },
   "outputs": [],
   "source": [
    "model.qutip_setup(6, time_discretization=40)"
   ]
  },
  {
   "cell_type": "code",
   "execution_count": 7,
   "id": "47d1b2b1",
   "metadata": {
    "pycharm": {
     "is_executing": true
    }
   },
   "outputs": [
    {
     "name": "stdout",
     "output_type": "stream",
     "text": [
      "Compiled.\n",
      "Solved.\n",
      "* Coarse solution\n",
      "Minimizer: [0.16666667 1.        ]\n",
      "Minimum: -0.4861111040744517\n",
      "\n",
      "* Fine-tuned solution\n",
      "Minimizer: [0. 1.]\n",
      "Minimum: -0.75\n",
      "Success rate: 0.64\n",
      "\n",
      "* Runtime breakdown\n",
      "SimuQ compilation: 4.065 s\n",
      "Backend runtime: 44.638 s\n",
      "Decoding time: 0.001 s\n",
      "Fine-tuning time: 0.069 s\n",
      "* Total time: 48.774 s\n"
     ]
    },
    {
     "data": {
      "text/plain": [
       "-0.75"
      ]
     },
     "execution_count": 7,
     "metadata": {},
     "output_type": "execute_result"
    }
   ],
   "source": [
    "model.optimize(verbose = 1)"
   ]
  },
  {
   "cell_type": "markdown",
   "id": "7eb63459",
   "metadata": {},
   "source": [
    "### 3. Solve with IonQ\n",
    "\n",
    "We can also solve the QP problem with IonQ backends. Similarly, we first setup the IonQ solver, then solve with `optimize`. "
   ]
  },
  {
   "cell_type": "code",
   "execution_count": 8,
   "id": "1f496c44",
   "metadata": {
    "pycharm": {
     "is_executing": true
    }
   },
   "outputs": [],
   "source": [
    "model.ionq_setup(6, api_key_from_file='../ionq_API_key', time_discretization=10, shots = 1000, on_simulator=True)"
   ]
  },
  {
   "cell_type": "code",
   "execution_count": 9,
   "id": "86c328c8",
   "metadata": {
    "pycharm": {
     "is_executing": true
    }
   },
   "outputs": [
    {
     "name": "stdout",
     "output_type": "stream",
     "text": [
      "{'id': 'a711150a-a932-42ad-bb6d-049d447b1421', 'status': 'ready', 'request': 1706081294}\n",
      "* Coarse solution\n",
      "Minimizer: [0.16666667 1.        ]\n",
      "Minimum: -0.4861111040744517\n",
      "\n",
      "* Fine-tuned solution\n",
      "Minimizer: [0. 1.]\n",
      "Minimum: -0.75\n",
      "Success rate: 0.657\n",
      "\n",
      "* Runtime breakdown\n",
      "SimuQ compilation: 161.999 s\n",
      "Backend runtime: 6.240 s\n",
      "Decoding time: 0.054 s\n",
      "Fine-tuning time: 2.914 s\n",
      "* Total time: 171.206 s\n"
     ]
    },
    {
     "data": {
      "text/plain": [
       "-0.75"
      ]
     },
     "execution_count": 9,
     "metadata": {},
     "output_type": "execute_result"
    }
   ],
   "source": [
    "model.optimize(verbose = 1)"
   ]
  }
 ],
 "metadata": {
  "kernelspec": {
   "display_name": "qhdopt",
   "language": "python",
   "name": "qhdopt"
  },
  "language_info": {
   "codemirror_mode": {
    "name": "ipython",
    "version": 3
   },
   "file_extension": ".py",
   "mimetype": "text/x-python",
   "name": "python",
   "nbconvert_exporter": "python",
   "pygments_lexer": "ipython3",
   "version": "3.12.1"
  }
 },
 "nbformat": 4,
 "nbformat_minor": 5
}
