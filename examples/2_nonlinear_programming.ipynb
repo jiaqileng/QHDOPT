{
 "cells": [
  {
   "cell_type": "markdown",
   "id": "02a5a698",
   "metadata": {},
   "source": [
    "## QHDOPT for nonlinear programming\n",
    "\n",
    "In this notebook, we demonstrate how to employ QHDOPT to solve a nonlinear programming problem with box constraints. \n",
    "\n",
    "Our target problem is $$\\min \\ f(x)= y^2z - xz + x^2y,$$ where $x,y,z$ are continuous variables ranging from 0 to 1.\n",
    "\n",
    "We employ the SymPy mode of QHDOPT to input this problem."
   ]
  },
  {
   "cell_type": "markdown",
   "id": "c4e7ff54",
   "metadata": {},
   "source": [
    "### 1. Create problem instance\n",
    "\n",
    "First, we import the class QHD from our package QHDOPT, implying the solver's algorithm."
   ]
  },
  {
   "cell_type": "code",
   "execution_count": 1,
   "id": "df4ad3d3",
   "metadata": {},
   "outputs": [],
   "source": [
    "from qhdopt import QHD"
   ]
  },
  {
   "cell_type": "markdown",
   "id": "10a57efc",
   "metadata": {},
   "source": [
    "Next, we import SymPy library to enable symbolic expression of objective functions."
   ]
  },
  {
   "cell_type": "code",
   "execution_count": 2,
   "id": "3191ee1e",
   "metadata": {},
   "outputs": [],
   "source": [
    "from sympy import symbols\n",
    "\n",
    "x, y, z = symbols('x y z')\n",
    "f = (y**2) * z - x * z + (x**2) * y"
   ]
  },
  {
   "cell_type": "markdown",
   "id": "c77a49d1",
   "metadata": {},
   "source": [
    "Now, we create a problem instance, stored in a variable `model`. The `SymPy` input format requires both the objective function `f` and a list of symbols (e.g., `[x, y, z]`) to construct the problem. By default, it sets the constraints to the unit box $[0,1]^n$, where $n$ is the number of continuous variables. You may override the bounds by `bounds=(l,r)` or `bounds=[(l1, r1), ..., (ln, rn)]`."
   ]
  },
  {
   "cell_type": "code",
   "execution_count": 3,
   "id": "140a02de",
   "metadata": {},
   "outputs": [],
   "source": [
    "model = QHD.SymPy(f, [x, y, z])"
   ]
  },
  {
   "cell_type": "markdown",
   "id": "034cb48b",
   "metadata": {},
   "source": [
    "### 2. Solve with D-Wave\n",
    "\n",
    "Then, we illustrate how to solve the problem with QHDOPT's solvers. We consider the D-Wave solver first. \n",
    "\n",
    "We can configure the D-Wave solver by running `model.dwave_setup` with all the parameters set. The mandatory parameter is the resolution $r$, which we set as 8. The API key can be either directly input by setting `api_key` or from a file. \n",
    "\n",
    "You may also set the annealing schedule, chain strength, embedding schemes, etc. Here we use default parameters. "
   ]
  },
  {
   "cell_type": "code",
   "execution_count": 5,
   "id": "d2fc73c4",
   "metadata": {},
   "outputs": [],
   "source": [
    "model.dwave_setup(8, api_key_from_file='dwave_api_key.txt', post_processing_method='TNC')"
   ]
  },
  {
   "cell_type": "markdown",
   "id": "2ea4a726",
   "metadata": {},
   "source": [
    "To compile, send the job to run, and post-processing, you can run `model.optimize`. Setting `verbose=1` outputs more runtime information."
   ]
  },
  {
   "cell_type": "code",
   "execution_count": 6,
   "id": "3183c1c4",
   "metadata": {},
   "outputs": [
    {
     "name": "stdout",
     "output_type": "stream",
     "text": [
      "Backend QPU Time: 0.02633476\n",
      "Overhead Time: 2.628731968591919\n",
      "\n",
      "* Runtime breakdown\n",
      "SimuQ compilation: 0.001 s\n",
      "Backend runtime: 2.655 s\n",
      "Decoding time: 0.002 s\n",
      "Classical (Fine-tuning) time: 0.267 s\n",
      "* Total time: 2.925 s\n",
      "\n",
      "* Coarse solution\n",
      "Minimizer: [1. 0. 1.]\n",
      "Minimum: -1.0\n",
      "\n",
      "* Fine-tuned solution\n",
      "Minimizer: [1. 0. 1.]\n",
      "Minimum: -1.0\n",
      "\n"
     ]
    }
   ],
   "source": [
    "response = model.optimize(verbose = 1)"
   ]
  },
  {
   "cell_type": "markdown",
   "id": "8644dd98",
   "metadata": {},
   "source": [
    "Here, the coarse solution is one of the decoded solutions directly from D-Wave devices, fined-tuned solution is the best solution obtained by using classical local solvers to refine the coarse solutions.\n",
    "\n",
    "The D-Wave solver returns a global minimum at $x=[1,0,1]^T$, with the minimum value $-1.0$. After fine-tuning, the minimum does not change in this case. \n",
    "\n",
    "A runtime breakdown is also provided to exhibit the time consumption of each step in the solver.\n",
    "\n",
    "The Response object holds all relevant solution information in a structured way. It also contains more debugging and time information."
   ]
  },
  {
   "cell_type": "markdown",
   "id": "e432f07f",
   "metadata": {},
   "source": [
    "### 3. Solve with QuTiP\n",
    "\n",
    "The QHD algorithm can be deployed to different backends, thanks to SimuQ's hamiltonian-based compilation scheme. Here we demonstrate how to use a QuTiP-based solver to implement QHD and solve the nonlinear programming problem.\n",
    "\n",
    "The workflow follows the same style. we first setup the QuTiP solver, then solve with `optimize`. Here, we choose `resolution=4` and use the one-hot embedding scheme."
   ]
  },
  {
   "cell_type": "code",
   "execution_count": 8,
   "id": "1756e1ec",
   "metadata": {},
   "outputs": [
    {
     "name": "stdout",
     "output_type": "stream",
     "text": [
      "Compiled.\n"
     ]
    },
    {
     "name": "stderr",
     "output_type": "stream",
     "text": [
      "/home/jimmyspark/PhiSolve/.venv/lib/python3.10/site-packages/qutip/solver/options.py:16: FutureWarning: Dedicated options class are no longer needed, options should be passed as dict to solvers.\n",
      "  warnings.warn(\n"
     ]
    },
    {
     "name": "stdout",
     "output_type": "stream",
     "text": [
      "Solved.\n"
     ]
    },
    {
     "ename": "IndexError",
     "evalue": "invalid index to scalar variable.",
     "output_type": "error",
     "traceback": [
      "\u001b[0;31m---------------------------------------------------------------------------\u001b[0m",
      "\u001b[0;31mIndexError\u001b[0m                                Traceback (most recent call last)",
      "Cell \u001b[0;32mIn[8], line 2\u001b[0m\n\u001b[1;32m      1\u001b[0m model\u001b[38;5;241m.\u001b[39mqutip_setup(\u001b[38;5;241m4\u001b[39m, embedding_scheme\u001b[38;5;241m=\u001b[39m\u001b[38;5;124m'\u001b[39m\u001b[38;5;124monehot\u001b[39m\u001b[38;5;124m'\u001b[39m, time_discretization\u001b[38;5;241m=\u001b[39m\u001b[38;5;241m40\u001b[39m, post_processing_method\u001b[38;5;241m=\u001b[39m\u001b[38;5;124m\"\u001b[39m\u001b[38;5;124mTNC\u001b[39m\u001b[38;5;124m\"\u001b[39m)\n\u001b[0;32m----> 2\u001b[0m \u001b[43mmodel\u001b[49m\u001b[38;5;241;43m.\u001b[39;49m\u001b[43moptimize\u001b[49m\u001b[43m(\u001b[49m\u001b[43mverbose\u001b[49m\u001b[38;5;241;43m=\u001b[39;49m\u001b[38;5;241;43m1\u001b[39;49m\u001b[43m)\u001b[49m\n",
      "File \u001b[0;32m~/QHDOPT/qhdopt/qhd.py:433\u001b[0m, in \u001b[0;36mQHD.optimize\u001b[0;34m(self, refine, verbose)\u001b[0m\n\u001b[1;32m    421\u001b[0m \u001b[38;5;28;01mdef\u001b[39;00m \u001b[38;5;21moptimize\u001b[39m(\u001b[38;5;28mself\u001b[39m, refine: \u001b[38;5;28mbool\u001b[39m \u001b[38;5;241m=\u001b[39m \u001b[38;5;28;01mTrue\u001b[39;00m, verbose: \u001b[38;5;28mint\u001b[39m \u001b[38;5;241m=\u001b[39m \u001b[38;5;241m0\u001b[39m) \u001b[38;5;241m-\u001b[39m\u001b[38;5;241m>\u001b[39m Response:\n\u001b[1;32m    422\u001b[0m \u001b[38;5;250m    \u001b[39m\u001b[38;5;124;03m\"\"\"\u001b[39;00m\n\u001b[1;32m    423\u001b[0m \u001b[38;5;124;03m    User-facing function to run QHD on the optimization problem\u001b[39;00m\n\u001b[1;32m    424\u001b[0m \n\u001b[0;32m   (...)\u001b[0m\n\u001b[1;32m    431\u001b[0m \u001b[38;5;124;03m        Response object containing samples, minimum, minimizer, and other info\u001b[39;00m\n\u001b[1;32m    432\u001b[0m \u001b[38;5;124;03m    \"\"\"\u001b[39;00m\n\u001b[0;32m--> 433\u001b[0m     response \u001b[38;5;241m=\u001b[39m \u001b[38;5;28;43mself\u001b[39;49m\u001b[38;5;241;43m.\u001b[39;49m\u001b[43mqhd_base\u001b[49m\u001b[38;5;241;43m.\u001b[39;49m\u001b[43moptimize\u001b[49m\u001b[43m(\u001b[49m\u001b[43mverbose\u001b[49m\u001b[43m)\u001b[49m\n\u001b[1;32m    434\u001b[0m     \u001b[38;5;28mself\u001b[39m\u001b[38;5;241m.\u001b[39mcoarse_minimizer, \u001b[38;5;28mself\u001b[39m\u001b[38;5;241m.\u001b[39mcoarse_minimum, \u001b[38;5;28mself\u001b[39m\u001b[38;5;241m.\u001b[39mdecoded_samples \u001b[38;5;241m=\u001b[39m \u001b[38;5;28mself\u001b[39m\u001b[38;5;241m.\u001b[39maffine_mapping(\n\u001b[1;32m    435\u001b[0m         response\u001b[38;5;241m.\u001b[39mminimizer, response\u001b[38;5;241m.\u001b[39mminimum, response\u001b[38;5;241m.\u001b[39msamples)\n\u001b[1;32m    436\u001b[0m     \u001b[38;5;28mself\u001b[39m\u001b[38;5;241m.\u001b[39minfo[\u001b[38;5;124m\"\u001b[39m\u001b[38;5;124mrefine_status\u001b[39m\u001b[38;5;124m\"\u001b[39m] \u001b[38;5;241m=\u001b[39m refine\n",
      "File \u001b[0;32m~/QHDOPT/qhdopt/qhd_base.py:189\u001b[0m, in \u001b[0;36mQHD_Base.optimize\u001b[0;34m(self, verbose)\u001b[0m\n\u001b[1;32m    176\u001b[0m \u001b[38;5;28;01mdef\u001b[39;00m \u001b[38;5;21moptimize\u001b[39m(\n\u001b[1;32m    177\u001b[0m         \u001b[38;5;28mself\u001b[39m,\n\u001b[1;32m    178\u001b[0m         verbose: \u001b[38;5;28mint\u001b[39m \u001b[38;5;241m=\u001b[39m \u001b[38;5;241m0\u001b[39m\n\u001b[1;32m    179\u001b[0m ) \u001b[38;5;241m-\u001b[39m\u001b[38;5;241m>\u001b[39m Optional[Response]:\n\u001b[1;32m    180\u001b[0m \u001b[38;5;250m    \u001b[39m\u001b[38;5;124;03m\"\"\"\u001b[39;00m\n\u001b[1;32m    181\u001b[0m \u001b[38;5;124;03m    Executes the optimization process.\u001b[39;00m\n\u001b[1;32m    182\u001b[0m \n\u001b[0;32m   (...)\u001b[0m\n\u001b[1;32m    187\u001b[0m \u001b[38;5;124;03m        An instance of Response containing optimization results, None if compile_only is True.\u001b[39;00m\n\u001b[1;32m    188\u001b[0m \u001b[38;5;124;03m    \"\"\"\u001b[39;00m\n\u001b[0;32m--> 189\u001b[0m     raw_samples \u001b[38;5;241m=\u001b[39m \u001b[38;5;28;43mself\u001b[39;49m\u001b[38;5;241;43m.\u001b[39;49m\u001b[43mbackend\u001b[49m\u001b[38;5;241;43m.\u001b[39;49m\u001b[43mexec\u001b[49m\u001b[43m(\u001b[49m\u001b[43mverbose\u001b[49m\u001b[38;5;241;43m=\u001b[39;49m\u001b[43mverbose\u001b[49m\u001b[43m,\u001b[49m\u001b[43m \u001b[49m\u001b[43minfo\u001b[49m\u001b[38;5;241;43m=\u001b[39;49m\u001b[38;5;28;43mself\u001b[39;49m\u001b[38;5;241;43m.\u001b[39;49m\u001b[43minfo\u001b[49m\u001b[43m)\u001b[49m\n\u001b[1;32m    192\u001b[0m     start_time_decoding \u001b[38;5;241m=\u001b[39m time\u001b[38;5;241m.\u001b[39mtime()\n\u001b[1;32m    193\u001b[0m     coarse_minimizer, coarse_minimum, \u001b[38;5;28mself\u001b[39m\u001b[38;5;241m.\u001b[39mdecoded_samples \u001b[38;5;241m=\u001b[39m \u001b[38;5;28mself\u001b[39m\u001b[38;5;241m.\u001b[39mbackend\u001b[38;5;241m.\u001b[39mdecoder(raw_samples,\n\u001b[1;32m    194\u001b[0m                                                                                   \u001b[38;5;28mself\u001b[39m\u001b[38;5;241m.\u001b[39mf_eval)\n",
      "File \u001b[0;32m~/QHDOPT/qhdopt/backend/qutip_backend.py:71\u001b[0m, in \u001b[0;36mQuTiPBackend.exec\u001b[0;34m(self, verbose, info, compile_only)\u001b[0m\n\u001b[1;32m     69\u001b[0m start_time_backend \u001b[38;5;241m=\u001b[39m time\u001b[38;5;241m.\u001b[39mtime()\n\u001b[1;32m     70\u001b[0m \u001b[38;5;28mself\u001b[39m\u001b[38;5;241m.\u001b[39mqpp\u001b[38;5;241m.\u001b[39mrun(nsteps\u001b[38;5;241m=\u001b[39m\u001b[38;5;28mself\u001b[39m\u001b[38;5;241m.\u001b[39mnsteps)\n\u001b[0;32m---> 71\u001b[0m \u001b[38;5;28mself\u001b[39m\u001b[38;5;241m.\u001b[39mraw_result \u001b[38;5;241m=\u001b[39m \u001b[38;5;28;43mself\u001b[39;49m\u001b[38;5;241;43m.\u001b[39;49m\u001b[43mqpp\u001b[49m\u001b[38;5;241;43m.\u001b[39;49m\u001b[43mresults\u001b[49m\u001b[43m(\u001b[49m\u001b[43m)\u001b[49m\n\u001b[1;32m     72\u001b[0m raw_samples \u001b[38;5;241m=\u001b[39m random\u001b[38;5;241m.\u001b[39mchoices(\n\u001b[1;32m     73\u001b[0m     \u001b[38;5;28mlist\u001b[39m(\u001b[38;5;28mself\u001b[39m\u001b[38;5;241m.\u001b[39mraw_result\u001b[38;5;241m.\u001b[39mkeys()), weights\u001b[38;5;241m=\u001b[39m\u001b[38;5;28mself\u001b[39m\u001b[38;5;241m.\u001b[39mraw_result\u001b[38;5;241m.\u001b[39mvalues(), k\u001b[38;5;241m=\u001b[39m\u001b[38;5;28mself\u001b[39m\u001b[38;5;241m.\u001b[39mshots\n\u001b[1;32m     74\u001b[0m )\n\u001b[1;32m     75\u001b[0m raw_samples \u001b[38;5;241m=\u001b[39m \u001b[38;5;28mlist\u001b[39m(\u001b[38;5;28mmap\u001b[39m(binstr_to_bitstr, raw_samples))\n",
      "File \u001b[0;32m~/PhiSolve/.venv/lib/python3.10/site-packages/simuq/qutip/qutip_provider.py:50\u001b[0m, in \u001b[0;36mQuTiPProvider.results\u001b[0;34m(self, verbose)\u001b[0m\n\u001b[1;32m     48\u001b[0m \u001b[38;5;28mself\u001b[39m\u001b[38;5;241m.\u001b[39mres \u001b[38;5;241m=\u001b[39m \u001b[38;5;28mdict\u001b[39m()\n\u001b[1;32m     49\u001b[0m \u001b[38;5;28;01mfor\u001b[39;00m i \u001b[38;5;129;01min\u001b[39;00m \u001b[38;5;28mrange\u001b[39m(\u001b[38;5;241m1\u001b[39m \u001b[38;5;241m<<\u001b[39m \u001b[38;5;28mself\u001b[39m\u001b[38;5;241m.\u001b[39mn):\n\u001b[0;32m---> 50\u001b[0m     \u001b[38;5;28mself\u001b[39m\u001b[38;5;241m.\u001b[39mres[QuTiPProvider\u001b[38;5;241m.\u001b[39mto_bin(i, \u001b[38;5;28mself\u001b[39m\u001b[38;5;241m.\u001b[39mn)] \u001b[38;5;241m=\u001b[39m np\u001b[38;5;241m.\u001b[39mabs(\u001b[38;5;28;43mself\u001b[39;49m\u001b[38;5;241;43m.\u001b[39;49m\u001b[43mfin\u001b[49m\u001b[38;5;241;43m.\u001b[39;49m\u001b[43mstates\u001b[49m\u001b[43m[\u001b[49m\u001b[38;5;241;43m1\u001b[39;49m\u001b[43m]\u001b[49m\u001b[43m[\u001b[49m\u001b[43mi\u001b[49m\u001b[43m]\u001b[49m\u001b[43m[\u001b[49m\u001b[38;5;241;43m0\u001b[39;49m\u001b[43m]\u001b[49m\u001b[43m[\u001b[49m\u001b[38;5;241;43m0\u001b[39;49m\u001b[43m]\u001b[49m) \u001b[38;5;241m*\u001b[39m\u001b[38;5;241m*\u001b[39m \u001b[38;5;241m2\u001b[39m\n\u001b[1;32m     51\u001b[0m \u001b[38;5;28;01mreturn\u001b[39;00m \u001b[38;5;28mself\u001b[39m\u001b[38;5;241m.\u001b[39mres\n",
      "\u001b[0;31mIndexError\u001b[0m: invalid index to scalar variable."
     ]
    }
   ],
   "source": [
    "model.qutip_setup(4, embedding_scheme='onehot', time_discretization=40, post_processing_method=\"TNC\")\n",
    "model.optimize(verbose=1)"
   ]
  },
  {
   "cell_type": "markdown",
   "id": "4857fead",
   "metadata": {},
   "source": [
    "### 4. Solve with IonQ\n",
    "\n",
    "We can also solve the QP problem with IonQ backend. similarly, we first setup the IonQ solver, then solve with `optimize`. "
   ]
  },
  {
   "cell_type": "code",
   "execution_count": null,
   "id": "a8eeacab",
   "metadata": {},
   "outputs": [],
   "source": [
    "model.ionq_setup(resolution=6, api_key_from_file='ionq_api_key', time_discretization=10, shots = 1000, on_simulator=True)\n",
    "model.optimize(verbose = 1)"
   ]
  }
 ],
 "metadata": {
  "kernelspec": {
   "display_name": "Python 3 (ipykernel)",
   "language": "python",
   "name": "python3"
  },
  "language_info": {
   "codemirror_mode": {
    "name": "ipython",
    "version": 3
   },
   "file_extension": ".py",
   "mimetype": "text/x-python",
   "name": "python",
   "nbconvert_exporter": "python",
   "pygments_lexer": "ipython3",
   "version": "3.10.12"
  }
 },
 "nbformat": 4,
 "nbformat_minor": 5
}
