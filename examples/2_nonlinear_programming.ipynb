{
 "cells": [
  {
   "cell_type": "code",
   "execution_count": 1,
   "id": "da501b3f",
   "metadata": {},
   "outputs": [
    {
     "name": "stderr",
     "output_type": "stream",
     "text": [
      "/Users/samuelkushnir/miniconda3/envs/QHDOPT-dev/lib/python3.9/site-packages/qutip/__init__.py:65: UserWarning: The new version of Cython, (>= 3.0.0) is not supported.\n",
      "  warnings.warn(\n"
     ]
    }
   ],
   "source": [
    "import sys\n",
    "sys.path.insert(0, '../')\n",
    "from qhdopt import QHD\n",
    "from sympy import symbols"
   ]
  },
  {
   "cell_type": "code",
   "execution_count": 2,
   "id": "8a824537",
   "metadata": {},
   "outputs": [],
   "source": [
    "x, y, z = symbols('x y z')\n",
    "f = (y**2) * z - x * z + (x**2) * y"
   ]
  },
  {
   "cell_type": "code",
   "execution_count": 3,
   "id": "79be7152",
   "metadata": {},
   "outputs": [],
   "source": [
    "model = QHD.SymPy(f, [x, y, z])"
   ]
  },
  {
   "cell_type": "code",
   "execution_count": 5,
   "id": "e432f07f",
   "metadata": {},
   "outputs": [],
   "source": [
    "model.dwave_setup(8, api_key_from_file='/Users/samuelkushnir/Documents/dwave_api_key.txt')"
   ]
  },
  {
   "cell_type": "code",
   "execution_count": 6,
   "id": "1756e1ec",
   "metadata": {},
   "outputs": [
    {
     "name": "stdout",
     "output_type": "stream",
     "text": [
      "Backend QPU Time: 0.029619609999999998\n",
      "Overhead Time: 2.380013072800293\n",
      "\n",
      "* Runtime breakdown\n",
      "SimuQ compilation: 0.000 s\n",
      "Backend runtime: 2.410 s\n",
      "Decoding time: 0.003 s\n",
      "Classical (Fine-tuning) time: 0.077 s\n",
      "* Total time: 2.489 s\n",
      "\n",
      "* Coarse solution\n",
      "Minimizer: [1. 0. 1.]\n",
      "Minimum: -1.0\n",
      "\n",
      "* Fine-tuned solution\n",
      "Minimizer: [1. 0. 1.]\n",
      "Minimum: -1.0\n",
      "\n"
     ]
    },
    {
     "data": {
      "text/plain": "<qhdopt.response.Response at 0x17b47c2b0>"
     },
     "execution_count": 6,
     "metadata": {},
     "output_type": "execute_result"
    }
   ],
   "source": [
    "model.optimize(verbose = 1)"
   ]
  },
  {
   "cell_type": "code",
   "execution_count": 7,
   "id": "be108bbd",
   "metadata": {},
   "outputs": [],
   "source": [
    "model.qutip_setup(4, time_discretization=40)"
   ]
  },
  {
   "cell_type": "code",
   "execution_count": 8,
   "id": "44bb7530",
   "metadata": {},
   "outputs": [
    {
     "name": "stdout",
     "output_type": "stream",
     "text": [
      "Compiled.\n",
      "Solved.\n",
      "* Runtime breakdown\n",
      "SimuQ compilation: 2.276 s\n",
      "Backend runtime: 8.182 s\n",
      "Decoding time: 0.000 s\n",
      "Classical (Fine-tuning) time: 0.059 s\n",
      "* Total time: 10.517 s\n",
      "\n",
      "* Coarse solution\n",
      "Minimizer: [1.   0.25 1.  ]\n",
      "Minimum: -0.6875\n",
      "\n",
      "* Fine-tuned solution\n",
      "Minimizer: [1. 0. 1.]\n",
      "Minimum: -1.0\n",
      "\n"
     ]
    },
    {
     "data": {
      "text/plain": "<qhdopt.response.Response at 0x297ff7fd0>"
     },
     "execution_count": 8,
     "metadata": {},
     "output_type": "execute_result"
    }
   ],
   "source": [
    "model.optimize(verbose = 1)"
   ]
  },
  {
   "cell_type": "code",
   "execution_count": 5,
   "id": "186756cb",
   "metadata": {},
   "outputs": [
    {
     "ename": "FileNotFoundError",
     "evalue": "[Errno 2] No such file or directory: '../ionq_API_key'",
     "output_type": "error",
     "traceback": [
      "\u001B[0;31m---------------------------------------------------------------------------\u001B[0m",
      "\u001B[0;31mFileNotFoundError\u001B[0m                         Traceback (most recent call last)",
      "Cell \u001B[0;32mIn[5], line 1\u001B[0m\n\u001B[0;32m----> 1\u001B[0m \u001B[43mmodel\u001B[49m\u001B[38;5;241;43m.\u001B[39;49m\u001B[43mionq_setup\u001B[49m\u001B[43m(\u001B[49m\u001B[38;5;241;43m6\u001B[39;49m\u001B[43m,\u001B[49m\u001B[43m \u001B[49m\u001B[43mapi_key_from_file\u001B[49m\u001B[38;5;241;43m=\u001B[39;49m\u001B[38;5;124;43m'\u001B[39;49m\u001B[38;5;124;43m../ionq_API_key\u001B[39;49m\u001B[38;5;124;43m'\u001B[39;49m\u001B[43m,\u001B[49m\u001B[43m \u001B[49m\u001B[43mtime_discretization\u001B[49m\u001B[38;5;241;43m=\u001B[39;49m\u001B[38;5;241;43m5\u001B[39;49m\u001B[43m,\u001B[49m\u001B[43m \u001B[49m\u001B[43mshots\u001B[49m\u001B[43m \u001B[49m\u001B[38;5;241;43m=\u001B[39;49m\u001B[43m \u001B[49m\u001B[38;5;241;43m1000\u001B[39;49m\u001B[43m)\u001B[49m\n",
      "File \u001B[0;32m~/Documents/GitHub/QHDOPT/src/qhdopt/qhd.py:96\u001B[0m, in \u001B[0;36mQHD.ionq_setup\u001B[0;34m(self, resolution, shots, api_key, api_key_from_file, embedding_scheme, penalty_coefficient, time_discretization, gamma, post_processing_method)\u001B[0m\n\u001B[1;32m     83\u001B[0m \u001B[38;5;28;01mdef\u001B[39;00m \u001B[38;5;21mionq_setup\u001B[39m(\n\u001B[1;32m     84\u001B[0m         \u001B[38;5;28mself\u001B[39m,\n\u001B[1;32m     85\u001B[0m         resolution,\n\u001B[0;32m   (...)\u001B[0m\n\u001B[1;32m     93\u001B[0m         post_processing_method\u001B[38;5;241m=\u001B[39m\u001B[38;5;124m\"\u001B[39m\u001B[38;5;124mTNC\u001B[39m\u001B[38;5;124m\"\u001B[39m,\n\u001B[1;32m     94\u001B[0m ):\n\u001B[1;32m     95\u001B[0m     \u001B[38;5;28mself\u001B[39m\u001B[38;5;241m.\u001B[39mgenerate_univariate_bivariate_repr()\n\u001B[0;32m---> 96\u001B[0m     \u001B[38;5;28mself\u001B[39m\u001B[38;5;241m.\u001B[39mbackend \u001B[38;5;241m=\u001B[39m \u001B[43mionq_backend\u001B[49m\u001B[38;5;241;43m.\u001B[39;49m\u001B[43mIonqBackend\u001B[49m\u001B[43m(\u001B[49m\n\u001B[1;32m     97\u001B[0m \u001B[43m        \u001B[49m\u001B[43mresolution\u001B[49m\u001B[38;5;241;43m=\u001B[39;49m\u001B[43mresolution\u001B[49m\u001B[43m,\u001B[49m\n\u001B[1;32m     98\u001B[0m \u001B[43m        \u001B[49m\u001B[43mdimension\u001B[49m\u001B[38;5;241;43m=\u001B[39;49m\u001B[38;5;28;43mself\u001B[39;49m\u001B[38;5;241;43m.\u001B[39;49m\u001B[43mdimension\u001B[49m\u001B[43m,\u001B[49m\n\u001B[1;32m     99\u001B[0m \u001B[43m        \u001B[49m\u001B[43munivariate_dict\u001B[49m\u001B[38;5;241;43m=\u001B[39;49m\u001B[38;5;28;43mself\u001B[39;49m\u001B[38;5;241;43m.\u001B[39;49m\u001B[43munivariate_dict\u001B[49m\u001B[43m,\u001B[49m\n\u001B[1;32m    100\u001B[0m \u001B[43m        \u001B[49m\u001B[43mbivariate_dict\u001B[49m\u001B[38;5;241;43m=\u001B[39;49m\u001B[38;5;28;43mself\u001B[39;49m\u001B[38;5;241;43m.\u001B[39;49m\u001B[43mbivariate_dict\u001B[49m\u001B[43m,\u001B[49m\n\u001B[1;32m    101\u001B[0m \u001B[43m        \u001B[49m\u001B[43mshots\u001B[49m\u001B[38;5;241;43m=\u001B[39;49m\u001B[43mshots\u001B[49m\u001B[43m,\u001B[49m\n\u001B[1;32m    102\u001B[0m \u001B[43m        \u001B[49m\u001B[43mapi_key\u001B[49m\u001B[38;5;241;43m=\u001B[39;49m\u001B[43mapi_key\u001B[49m\u001B[43m,\u001B[49m\n\u001B[1;32m    103\u001B[0m \u001B[43m        \u001B[49m\u001B[43mapi_key_from_file\u001B[49m\u001B[38;5;241;43m=\u001B[39;49m\u001B[43mapi_key_from_file\u001B[49m\u001B[43m,\u001B[49m\n\u001B[1;32m    104\u001B[0m \u001B[43m        \u001B[49m\u001B[43membedding_scheme\u001B[49m\u001B[38;5;241;43m=\u001B[39;49m\u001B[43membedding_scheme\u001B[49m\u001B[43m,\u001B[49m\n\u001B[1;32m    105\u001B[0m \u001B[43m        \u001B[49m\u001B[43mpenalty_coefficient\u001B[49m\u001B[38;5;241;43m=\u001B[39;49m\u001B[43mpenalty_coefficient\u001B[49m\u001B[43m,\u001B[49m\n\u001B[1;32m    106\u001B[0m \u001B[43m        \u001B[49m\u001B[43mtime_discretization\u001B[49m\u001B[38;5;241;43m=\u001B[39;49m\u001B[43mtime_discretization\u001B[49m\u001B[43m,\u001B[49m\n\u001B[1;32m    107\u001B[0m \u001B[43m        \u001B[49m\u001B[43mgamma\u001B[49m\u001B[38;5;241;43m=\u001B[39;49m\u001B[43mgamma\u001B[49m\u001B[43m,\u001B[49m\n\u001B[1;32m    108\u001B[0m \u001B[43m    \u001B[49m\u001B[43m)\u001B[49m\n\u001B[1;32m    109\u001B[0m     \u001B[38;5;28mself\u001B[39m\u001B[38;5;241m.\u001B[39mshots \u001B[38;5;241m=\u001B[39m shots\n\u001B[1;32m    110\u001B[0m     \u001B[38;5;28mself\u001B[39m\u001B[38;5;241m.\u001B[39mpost_processing_method \u001B[38;5;241m=\u001B[39m post_processing_method\n",
      "File \u001B[0;32m~/Documents/GitHub/QHDOPT/src/qhdopt/backend/ionq_backend.py:32\u001B[0m, in \u001B[0;36mIonqBackend.__init__\u001B[0;34m(self, resolution, dimension, univariate_dict, bivariate_dict, shots, api_key, api_key_from_file, embedding_scheme, penalty_coefficient, time_discretization, gamma, on_simulator, with_noise)\u001B[0m\n\u001B[1;32m     30\u001B[0m \u001B[38;5;28mself\u001B[39m\u001B[38;5;241m.\u001B[39mapi_key \u001B[38;5;241m=\u001B[39m api_key\n\u001B[1;32m     31\u001B[0m \u001B[38;5;28;01mif\u001B[39;00m api_key_from_file \u001B[38;5;129;01mis\u001B[39;00m \u001B[38;5;129;01mnot\u001B[39;00m \u001B[38;5;28;01mNone\u001B[39;00m:\n\u001B[0;32m---> 32\u001B[0m     \u001B[38;5;28;01mwith\u001B[39;00m \u001B[38;5;28;43mopen\u001B[39;49m\u001B[43m(\u001B[49m\u001B[43mapi_key_from_file\u001B[49m\u001B[43m,\u001B[49m\u001B[43m \u001B[49m\u001B[38;5;124;43m\"\u001B[39;49m\u001B[38;5;124;43mr\u001B[39;49m\u001B[38;5;124;43m\"\u001B[39;49m\u001B[43m)\u001B[49m \u001B[38;5;28;01mas\u001B[39;00m f:\n\u001B[1;32m     33\u001B[0m         \u001B[38;5;28mself\u001B[39m\u001B[38;5;241m.\u001B[39mapi_key \u001B[38;5;241m=\u001B[39m f\u001B[38;5;241m.\u001B[39mreadline()\u001B[38;5;241m.\u001B[39mstrip()\n\u001B[1;32m     34\u001B[0m \u001B[38;5;28mself\u001B[39m\u001B[38;5;241m.\u001B[39mpenalty_coefficient \u001B[38;5;241m=\u001B[39m penalty_coefficient\n",
      "\u001B[0;31mFileNotFoundError\u001B[0m: [Errno 2] No such file or directory: '../ionq_API_key'"
     ]
    }
   ],
   "source": [
    "model.ionq_setup(6, api_key_from_file='../ionq_API_key', time_discretization=5, shots = 1000)"
   ]
  },
  {
   "cell_type": "code",
   "execution_count": null,
   "id": "55c0cadc",
   "metadata": {},
   "outputs": [],
   "source": [
    "model.optimize(verbose = 1)"
   ]
  }
 ],
 "metadata": {
  "kernelspec": {
   "display_name": "Python 3 (ipykernel)",
   "language": "python",
   "name": "python3"
  },
  "language_info": {
   "codemirror_mode": {
    "name": "ipython",
    "version": 3
   },
   "file_extension": ".py",
   "mimetype": "text/x-python",
   "name": "python",
   "nbconvert_exporter": "python",
   "pygments_lexer": "ipython3",
   "version": "3.9.18"
  }
 },
 "nbformat": 4,
 "nbformat_minor": 5
}
