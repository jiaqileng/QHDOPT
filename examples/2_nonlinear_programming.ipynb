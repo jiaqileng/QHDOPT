{
 "cells": [
  {
   "cell_type": "markdown",
   "id": "02a5a698",
   "metadata": {},
   "source": [
    "## QHDOPT for nonlinear programming\n",
    "\n",
    "In this notebook, we demonstrate how to employ QHDOPT to solve a nonlinear programming problem with box constraints. \n",
    "\n",
    "Our target problem is $$\\min \\ f(x)= y^2z - xz + x^2y,$$ where $x,y,z$ are continuous variables ranging from 0 to 1.\n",
    "\n",
    "We employ the SymPy mode of QHDOPT to input this problem."
   ]
  },
  {
   "cell_type": "markdown",
   "id": "c4e7ff54",
   "metadata": {},
   "source": [
    "### 1. Create problem instance\n",
    "\n",
    "First, we import the class QHD from our package QHDOPT, implying the solver's algorithm."
   ]
  },
  {
   "cell_type": "code",
   "execution_count": 1,
   "id": "df4ad3d3",
   "metadata": {},
   "outputs": [],
   "source": [
    "from qhdopt import QHD"
   ]
  },
  {
   "cell_type": "markdown",
   "id": "10a57efc",
   "metadata": {},
   "source": [
    "Next, we import SymPy library to enable symbolic expression of objective functions."
   ]
  },
  {
   "cell_type": "code",
   "execution_count": 2,
   "id": "3191ee1e",
   "metadata": {},
   "outputs": [],
   "source": [
    "from sympy import symbols\n",
    "\n",
    "x, y, z = symbols('x y z')\n",
    "f = (y**2) * z - x * z + (x**2) * y"
   ]
  },
  {
   "cell_type": "markdown",
   "id": "c77a49d1",
   "metadata": {},
   "source": [
    "Now, we create a problem instance, stored in a variable `model`. The `SymPy` input format requires both the objective function `f` and a list of symbols (e.g., `[x, y, z]`) to construct the problem. By default, it sets the constraints to the unit box $[0,1]^n$, where $n$ is the number of continuous variables. You may override the bounds by `bounds=(l,r)` or `bounds=[(l1, r1), ..., (ln, rn)]`."
   ]
  },
  {
   "cell_type": "code",
   "execution_count": 3,
   "id": "140a02de",
   "metadata": {},
   "outputs": [],
   "source": [
    "model = QHD.SymPy(f, [x, y, z])"
   ]
  },
  {
   "cell_type": "markdown",
   "id": "034cb48b",
   "metadata": {},
   "source": [
    "### 2. Solve with D-Wave\n",
    "\n",
    "Then, we illustrate how to solve the problem with QHDOPT's solvers. We consider the D-Wave solver first. \n",
    "\n",
    "We can configure the D-Wave solver by running `model.dwave_setup` with all the parameters set. The mandatory parameter is the resolution $r$, which we set as 8. The API key can be either directly input by setting `api_key` or from a file. \n",
    "\n",
    "You may also set the annealing schedule, chain strength, embedding schemes, etc. Here we use default parameters. "
   ]
  },
  {
   "cell_type": "code",
   "execution_count": 5,
   "id": "d2fc73c4",
   "metadata": {},
   "outputs": [],
   "source": [
    "model.dwave_setup(8, api_key_from_file='dwave_api_key.txt', post_processing_method='TNC')"
   ]
  },
  {
   "cell_type": "markdown",
   "id": "2ea4a726",
   "metadata": {},
   "source": [
    "To compile, send the job to run, and post-processing, you can run `model.optimize`. Setting `verbose=1` outputs more runtime information."
   ]
  },
  {
   "cell_type": "code",
   "execution_count": 6,
   "id": "3183c1c4",
   "metadata": {},
   "outputs": [
    {
     "name": "stdout",
     "output_type": "stream",
     "text": [
      "Backend QPU Time: 0.02633476\n",
      "Overhead Time: 2.628731968591919\n",
      "\n",
      "* Runtime breakdown\n",
      "SimuQ compilation: 0.001 s\n",
      "Backend runtime: 2.655 s\n",
      "Decoding time: 0.002 s\n",
      "Classical (Fine-tuning) time: 0.267 s\n",
      "* Total time: 2.925 s\n",
      "\n",
      "* Coarse solution\n",
      "Minimizer: [1. 0. 1.]\n",
      "Minimum: -1.0\n",
      "\n",
      "* Fine-tuned solution\n",
      "Minimizer: [1. 0. 1.]\n",
      "Minimum: -1.0\n",
      "\n"
     ]
    }
   ],
   "source": [
    "response = model.optimize(verbose = 1)"
   ]
  },
  {
   "cell_type": "markdown",
   "id": "8644dd98",
   "metadata": {},
   "source": [
    "Here, the coarse solution is one of the decoded solutions directly from D-Wave devices, fined-tuned solution is the best solution obtained by using classical local solvers to refine the coarse solutions.\n",
    "\n",
    "The D-Wave solver returns a global minimum at $x=[1,0,1]^T$, with the minimum value $-1.0$. After fine-tuning, the minimum does not change in this case. \n",
    "\n",
    "A runtime breakdown is also provided to exhibit the time consumption of each step in the solver.\n",
    "\n",
    "The Response object holds all relevant solution information in a structured way. It also contains more debugging and time information."
   ]
  },
  {
   "cell_type": "markdown",
   "id": "e432f07f",
   "metadata": {},
   "source": [
    "### 3. Solve with QuTiP\n",
    "\n",
    "The QHD algorithm can be deployed to different backends, thanks to SimuQ's hamiltonian-based compilation scheme. Here we demonstrate how to use a QuTiP-based solver to implement QHD and solve the nonlinear programming problem.\n",
    "\n",
    "The workflow follows the same style. we first setup the QuTiP solver, then solve with `optimize`. Here, we choose `resolution=4` and use the one-hot embedding scheme."
   ]
  },
  {
   "cell_type": "code",
   "execution_count": 5,
   "id": "1756e1ec",
   "metadata": {},
   "outputs": [
    {
     "name": "stdout",
     "output_type": "stream",
     "text": [
      "Compiled.\n",
      "Solved.\n",
      "* Runtime breakdown\n",
      "SimuQ compilation: 4.781 s\n",
      "Backend runtime: 20.244 s\n",
      "Decoding time: 0.000 s\n",
      "Classical (Fine-tuning) time: 0.129 s\n",
      "* Total time: 25.155 s\n",
      "\n",
      "* Coarse solution\n",
      "Minimizer: [1.   0.25 1.  ]\n",
      "Minimum: -0.6875\n",
      "\n",
      "* Fine-tuned solution\n",
      "Minimizer: [1. 0. 1.]\n",
      "Minimum: -1.0\n",
      "\n"
     ]
    }
   ],
   "source": [
    "model.qutip_setup(4, embedding_scheme='onehot', time_discretization=40, post_processing_method=\"TNC\")\n",
    "response = model.optimize(verbose=1)"
   ]
  },
  {
   "cell_type": "markdown",
   "id": "35a606dc",
   "metadata": {},
   "source": [
    "The QuTiP solver backend returns a coarse solution at $x=[1,0.25,1]^T$, with the minimum value $-0.6875$. This is very close but not exactly the globally optimal solution at $x^*=[1,0,1]^T$. After fine-tuning, the global minimum is found."
   ]
  },
  {
   "cell_type": "markdown",
   "id": "4857fead",
   "metadata": {},
   "source": [
    "### 4. Solve with IonQ\n",
    "\n",
    "We can also solve the QP problem with IonQ backend. similarly, we first setup the IonQ solver, then solve with `optimize`. "
   ]
  },
  {
   "cell_type": "code",
   "execution_count": null,
   "id": "a8eeacab",
   "metadata": {},
   "outputs": [],
   "source": [
    "model.ionq_setup(resolution=6, api_key_from_file='ionq_api_key', time_discretization=10, shots = 1000, on_simulator=True)\n",
    "response = model.optimize(verbose=1)"
   ]
  }
 ],
 "metadata": {
  "kernelspec": {
   "display_name": "Python 3 (ipykernel)",
   "language": "python",
   "name": "python3"
  },
  "language_info": {
   "codemirror_mode": {
    "name": "ipython",
    "version": 3
   },
   "file_extension": ".py",
   "mimetype": "text/x-python",
   "name": "python",
   "nbconvert_exporter": "python",
   "pygments_lexer": "ipython3",
   "version": "3.10.12"
  }
 },
 "nbformat": 4,
 "nbformat_minor": 5
}
