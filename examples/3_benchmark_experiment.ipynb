{
 "cells": [
  {
   "cell_type": "markdown",
   "source": [
    "<h3>Add Basic Imports</>"
   ],
   "metadata": {
    "collapsed": false
   }
  },
  {
   "cell_type": "code",
   "execution_count": null,
   "outputs": [],
   "source": [
    "import sys\n",
    "sys.path.insert(0, '../')\n",
    "import numpy as np\n",
    "from qhdopt import QHD\n",
    "from qhdopt.utils.benchmark_utils import run_test"
   ],
   "metadata": {
    "collapsed": false
   }
  },
  {
   "cell_type": "markdown",
   "source": [
    "<h3> Defining list of functions</>"
   ],
   "metadata": {
    "collapsed": false
   }
  },
  {
   "cell_type": "code",
   "execution_count": null,
   "metadata": {},
   "outputs": [],
   "source": [
    "from sympy import symbols, log, sin, cos, exp\n",
    "\n",
    "# Define the symbols\n",
    "x, y, z = symbols('x y z')\n",
    "\n",
    "functions = [\n",
    "            (-4*x**2 + 3*x*y - 2 * y ** 2 + 3 * x - y, [x, y]), # penalty = 1\n",
    "             (-2*(x-1/3)**2 + y**2 -y*log(3*x + 1/2)/3 + 5*(x**2 - y**2 - x - 0.5)**2, [x, y]),\n",
    "             (y**1.5 - (y-0.75)*exp(4*x),  [x, y]),\n",
    "             (x**2 - 3*y**2 + 2*sin(1.5*np.pi*x) *cos(1.5*np.pi*y) + x - 3*y, [x, y]),\n",
    "             ((2*y-1)**2*(z-0.4) - (2*x-1)*z + (2*x-1.5)**2*y, [x, y, z]),\n",
    "             (2*exp(-x) * (2*z-1)**2 - 3*(2*y-0.7)**2 * exp(-z) + log(x + 1) * (y-0.8), [x, y, z]), # penalty = 1.2\n",
    "             (x * sin(2*np.pi*y) - 0.5*(y-0.3)**2 * cos(3*np.pi*z) + sin(4*np.pi*x), [x, y, z]), # penalty = 1\n",
    "             ]"
   ]
  },
  {
   "cell_type": "markdown",
   "source": [
    "<h3> List of parameters </>"
   ],
   "metadata": {
    "collapsed": false
   }
  },
  {
   "cell_type": "code",
   "execution_count": null,
   "metadata": {
    "collapsed": false
   },
   "outputs": [],
   "source": [
    "resolution = 8\n",
    "anneal_schedule = [[0,0],[20, 1]]\n",
    "numruns = 1000\n",
    "backend = \"dwave\"\n",
    "tol = 1e-3\n",
    "api_key_file = \"\"\n",
    "embedding_scheme = \"unary\""
   ]
  },
  {
   "cell_type": "markdown",
   "source": [
    "<h3> Running benchmark on 10 problems</>"
   ],
   "metadata": {
    "collapsed": false
   }
  },
  {
   "cell_type": "markdown",
   "metadata": {},
   "source": [
    "## Penalty Ratio = 1.2"
   ]
  },
  {
   "cell_type": "code",
   "execution_count": null,
   "outputs": [],
   "source": [
    "penalty_ratio = 1.2\n",
    "data = np.zeros((len(functions), 12))"
   ],
   "metadata": {
    "collapsed": false
   }
  },
  {
   "cell_type": "code",
   "execution_count": null,
   "metadata": {},
   "outputs": [],
   "source": [
    "for i in range(0, len(functions)):\n",
    "    print(f\"Test problem {i}:\")\n",
    "    function, syms = functions[i]\n",
    "    model = QHD.SymPy(function, syms)\n",
    "    model.dwave_setup(resolution, numruns, api_key_from_file=api_key_file, embedding_scheme=embedding_scheme, anneal_schedule=anneal_schedule, penalty_ratio=penalty_ratio, post_processing_method=\"IPOPT\")\n",
    "    data[i] = run_test(model)"
   ]
  },
  {
   "cell_type": "markdown",
   "source": [
    "## Penalty Ratio = 1"
   ],
   "metadata": {
    "collapsed": false
   }
  },
  {
   "cell_type": "code",
   "execution_count": null,
   "outputs": [],
   "source": [
    "penalty_ratio = 1\n",
    "data = np.zeros((len(functions), 12))\n",
    "for i in range(len(functions)):\n",
    "    print(f\"Test problem {i}:\")\n",
    "    function, free_vars = functions[i]\n",
    "    data[i] = run_test(function, free_vars)"
   ],
   "metadata": {
    "collapsed": false
   }
  },
  {
   "cell_type": "code",
   "execution_count": null,
   "outputs": [],
   "source": [],
   "metadata": {
    "collapsed": false
   }
  }
 ],
 "metadata": {
  "kernelspec": {
   "display_name": "Python 3",
   "language": "python",
   "name": "python3"
  },
  "language_info": {
   "codemirror_mode": {
    "name": "ipython",
    "version": 3
   },
   "file_extension": ".py",
   "mimetype": "text/x-python",
   "name": "python",
   "nbconvert_exporter": "python",
   "pygments_lexer": "ipython3",
   "version": "3.9.18"
  }
 },
 "nbformat": 4,
 "nbformat_minor": 0
}
