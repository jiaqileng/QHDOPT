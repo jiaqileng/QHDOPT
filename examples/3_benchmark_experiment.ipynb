{
 "cells": [
  {
   "cell_type": "markdown",
   "source": [
    "<h3>Add Basic Imports</>"
   ],
   "metadata": {
    "collapsed": false
   }
  },
  {
   "cell_type": "code",
   "execution_count": 6,
   "outputs": [],
   "source": [
    "import sys\n",
    "sys.path.insert(0, '../')\n",
    "import numpy as np\n",
    "from qhdopt import QHD\n",
    "from qhdopt.utils.benchmark_utils import get_function_from_qp_file, run_test"
   ],
   "metadata": {
    "collapsed": false
   }
  },
  {
   "cell_type": "markdown",
   "source": [
    "<h3> Defining list of functions</>"
   ],
   "metadata": {
    "collapsed": false
   }
  },
  {
   "cell_type": "code",
   "execution_count": 2,
   "metadata": {},
   "outputs": [],
   "source": [
    "from sympy import symbols, log, sin, cos, exp\n",
    "\n",
    "# Define the symbols\n",
    "x, y, z = symbols('x y z')\n",
    "\n",
    "functions = [get_function_from_qp_file(50),\n",
    "            get_function_from_qp_file(60),\n",
    "            get_function_from_qp_file(75),\n",
    "            (-4*x**2 + 3*x*y - 2 * y ** 2 + 3 * x - y, [x, y]), # penalty = 1\n",
    "             (-2*(x-1/3)**2 + y**2 -y*log(3*x + 1/2)/3 + 5*(x**2 - y**2 - x - 0.5)**2, [x, y]),\n",
    "             (y**1.5 - (y-0.75)*exp(4*x),  [x, y]),\n",
    "             (x**2 - 3*y**2 + 2*sin(1.5*np.pi*x) *cos(1.5*np.pi*y) + x - 3*y, [x, y]),\n",
    "             ((2*y-1)**2*(z-0.4) - (2*x-1)*z + (2*x-1.5)**2*y, [x, y, z]),\n",
    "             (2*exp(-x) * (2*z-1)**2 - 3*(2*y-0.7)**2 * exp(-z) + log(x + 1) * (y-0.8), [x, y, z]), # penalty = 1.2\n",
    "             (x * sin(2*np.pi*y) - 0.5*(y-0.3)**2 * cos(3*np.pi*z) + sin(4*np.pi*x), [x, y, z]), # penalty = 1\n",
    "             ]"
   ]
  },
  {
   "cell_type": "markdown",
   "source": [
    "<h3> List of parameters </>"
   ],
   "metadata": {
    "collapsed": false
   }
  },
  {
   "cell_type": "code",
   "execution_count": 7,
   "metadata": {
    "collapsed": false
   },
   "outputs": [],
   "source": [
    "resolution = 8\n",
    "anneal_schedule = [[0,0],[20, 1]]\n",
    "numruns = 1000\n",
    "backend = \"dwave\"\n",
    "tol = 1e-3\n",
    "penalty_coefficient = 3e-2\n",
    "api_key_file = \"\"\n",
    "embedding_scheme = \"unary\""
   ]
  },
  {
   "cell_type": "markdown",
   "source": [
    "<h3> Running benchmark on 10 problems</>"
   ],
   "metadata": {
    "collapsed": false
   }
  },
  {
   "cell_type": "markdown",
   "metadata": {},
   "source": [
    "## Penalty Ratio = 1.2"
   ]
  },
  {
   "cell_type": "code",
   "execution_count": 4,
   "outputs": [],
   "source": [
    "penalty_ratio = 1.2\n",
    "data = np.zeros((len(functions), 12))"
   ],
   "metadata": {
    "collapsed": false
   }
  },
  {
   "cell_type": "code",
   "execution_count": 5,
   "metadata": {},
   "outputs": [
    {
     "name": "stdout",
     "output_type": "stream",
     "text": [
      "Test problem 3:\n",
      "Received Task from D-Wave:\n",
      "2024-01-19 17:02:44\n",
      "Backend QPU Time: 0.11413796999999999\n",
      "Overhead Time: 2.480968870133667\n",
      "\n",
      "******************************************************************************\n",
      "This program contains Ipopt, a library for large-scale nonlinear optimization.\n",
      " Ipopt is released as open source code under the Eclipse Public License (EPL).\n",
      "         For more information visit https://github.com/coin-or/Ipopt\n",
      "******************************************************************************\n",
      "\n",
      "* Coarse solution\n",
      "Minimizer: [0. 1.]\n",
      "Minimum: -3.0\n",
      "\n",
      "* Fine-tuned solution\n",
      "Minimizer: [-9.99831607e-09  1.00000001e+00]\n",
      "Minimum: -3.000000059989896\n",
      "Success rate: 0.988\n",
      "\n",
      "* Runtime breakdown\n",
      "SimuQ compilation: 0.000 s\n",
      "Backend runtime: 2.595 s\n",
      "Decoding time: 0.036 s\n",
      "Fine-tuning time: 7.144 s\n",
      "* Total time: 9.775 s\n",
      "Test problem 4:\n"
     ]
    },
    {
     "ename": "KeyboardInterrupt",
     "evalue": "",
     "output_type": "error",
     "traceback": [
      "\u001B[0;31m---------------------------------------------------------------------------\u001B[0m",
      "\u001B[0;31mKeyboardInterrupt\u001B[0m                         Traceback (most recent call last)",
      "Cell \u001B[0;32mIn[5], line 6\u001B[0m\n\u001B[1;32m      4\u001B[0m model \u001B[38;5;241m=\u001B[39m QHD\u001B[38;5;241m.\u001B[39mSymPy(function, syms)\n\u001B[1;32m      5\u001B[0m model\u001B[38;5;241m.\u001B[39mdwave_setup(resolution, numruns, api_key\u001B[38;5;241m=\u001B[39mapi_key, embedding_scheme\u001B[38;5;241m=\u001B[39membedding_scheme, anneal_schedule\u001B[38;5;241m=\u001B[39manneal_schedule, penalty_coefficient\u001B[38;5;241m=\u001B[39mpenalty_coefficient, penalty_ratio\u001B[38;5;241m=\u001B[39mpenalty_ratio, post_processing_method\u001B[38;5;241m=\u001B[39m\u001B[38;5;124m\"\u001B[39m\u001B[38;5;124mIPOPT\u001B[39m\u001B[38;5;124m\"\u001B[39m)\n\u001B[0;32m----> 6\u001B[0m data[i] \u001B[38;5;241m=\u001B[39m \u001B[43mrun_test\u001B[49m\u001B[43m(\u001B[49m\u001B[43mmodel\u001B[49m\u001B[43m)\u001B[49m\n",
      "File \u001B[0;32m~/Documents/GitHub/QHDOPT/src/qhdopt/utils/benchmark_utils.py:29\u001B[0m, in \u001B[0;36mrun_test\u001B[0;34m(model, tol)\u001B[0m\n\u001B[1;32m     27\u001B[0m data_vector \u001B[38;5;241m=\u001B[39m np\u001B[38;5;241m.\u001B[39mzeros(\u001B[38;5;241m12\u001B[39m)\n\u001B[1;32m     28\u001B[0m \u001B[38;5;66;03m# Run QHD with post-processor = Ipopt\u001B[39;00m\n\u001B[0;32m---> 29\u001B[0m current_best_qhd \u001B[38;5;241m=\u001B[39m \u001B[43mmodel\u001B[49m\u001B[38;5;241;43m.\u001B[39;49m\u001B[43moptimize\u001B[49m\u001B[43m(\u001B[49m\u001B[43mverbose\u001B[49m\u001B[38;5;241;43m=\u001B[39;49m\u001B[38;5;241;43m1\u001B[39;49m\u001B[43m)\u001B[49m\n\u001B[1;32m     30\u001B[0m qhd_ipopt_success_prob \u001B[38;5;241m=\u001B[39m calc_success_prob(current_best_qhd, model\u001B[38;5;241m.\u001B[39mpost_processed_samples, model\u001B[38;5;241m.\u001B[39mshots, model\u001B[38;5;241m.\u001B[39mf_eval, tol)\n\u001B[1;32m     31\u001B[0m data_vector[\u001B[38;5;241m0\u001B[39m] \u001B[38;5;241m=\u001B[39m model\u001B[38;5;241m.\u001B[39minfo[\u001B[38;5;124m\"\u001B[39m\u001B[38;5;124maverage_qpu_time\u001B[39m\u001B[38;5;124m\"\u001B[39m]\n",
      "File \u001B[0;32m~/Documents/GitHub/QHDOPT/src/qhdopt/QHD.py:223\u001B[0m, in \u001B[0;36mQHD.optimize\u001B[0;34m(self, fine_tune, verbose)\u001B[0m\n\u001B[1;32m    222\u001B[0m \u001B[38;5;28;01mdef\u001B[39;00m \u001B[38;5;21moptimize\u001B[39m(\u001B[38;5;28mself\u001B[39m, fine_tune\u001B[38;5;241m=\u001B[39m\u001B[38;5;28;01mTrue\u001B[39;00m, verbose\u001B[38;5;241m=\u001B[39m\u001B[38;5;241m0\u001B[39m):\n\u001B[0;32m--> 223\u001B[0m     raw_samples \u001B[38;5;241m=\u001B[39m \u001B[38;5;28;43mself\u001B[39;49m\u001B[38;5;241;43m.\u001B[39;49m\u001B[43mbackend\u001B[49m\u001B[38;5;241;43m.\u001B[39;49m\u001B[43mexec\u001B[49m\u001B[43m(\u001B[49m\u001B[43mverbose\u001B[49m\u001B[38;5;241;43m=\u001B[39;49m\u001B[38;5;241;43m1\u001B[39;49m\u001B[43m,\u001B[49m\u001B[43m \u001B[49m\u001B[43minfo\u001B[49m\u001B[38;5;241;43m=\u001B[39;49m\u001B[38;5;28;43mself\u001B[39;49m\u001B[38;5;241;43m.\u001B[39;49m\u001B[43minfo\u001B[49m\u001B[43m)\u001B[49m\n\u001B[1;32m    225\u001B[0m     \u001B[38;5;28mself\u001B[39m\u001B[38;5;241m.\u001B[39mraw_samples \u001B[38;5;241m=\u001B[39m raw_samples\n\u001B[1;32m    227\u001B[0m     coarse_minimizer, coarse_minimum, \u001B[38;5;28mself\u001B[39m\u001B[38;5;241m.\u001B[39mqhd_samples \u001B[38;5;241m=\u001B[39m \u001B[38;5;28mself\u001B[39m\u001B[38;5;241m.\u001B[39mbackend\u001B[38;5;241m.\u001B[39mdecoder(raw_samples,\n\u001B[1;32m    228\u001B[0m                                                                               \u001B[38;5;28mself\u001B[39m\u001B[38;5;241m.\u001B[39mf_eval)\n",
      "File \u001B[0;32m~/Documents/GitHub/QHDOPT/src/qhdopt/backend/dwave_backend.py:69\u001B[0m, in \u001B[0;36mDwaveBackend.exec\u001B[0;34m(self, verbose, info)\u001B[0m\n\u001B[1;32m     66\u001B[0m     \u001B[38;5;28mprint\u001B[39m(\u001B[38;5;124m\"\u001B[39m\u001B[38;5;124mSubmit Task to D-Wave:\u001B[39m\u001B[38;5;124m\"\u001B[39m)\n\u001B[1;32m     67\u001B[0m     \u001B[38;5;28mprint\u001B[39m(time\u001B[38;5;241m.\u001B[39mstrftime(\u001B[38;5;124m\"\u001B[39m\u001B[38;5;124m%\u001B[39m\u001B[38;5;124mY-\u001B[39m\u001B[38;5;124m%\u001B[39m\u001B[38;5;124mm-\u001B[39m\u001B[38;5;132;01m%d\u001B[39;00m\u001B[38;5;124m \u001B[39m\u001B[38;5;124m%\u001B[39m\u001B[38;5;124mH:\u001B[39m\u001B[38;5;124m%\u001B[39m\u001B[38;5;124mM:\u001B[39m\u001B[38;5;124m%\u001B[39m\u001B[38;5;124mS\u001B[39m\u001B[38;5;124m\"\u001B[39m, time\u001B[38;5;241m.\u001B[39mgmtime()))\n\u001B[0;32m---> 69\u001B[0m \u001B[43mdwp\u001B[49m\u001B[38;5;241;43m.\u001B[39;49m\u001B[43mrun\u001B[49m\u001B[43m(\u001B[49m\u001B[43mshots\u001B[49m\u001B[38;5;241;43m=\u001B[39;49m\u001B[38;5;28;43mself\u001B[39;49m\u001B[38;5;241;43m.\u001B[39;49m\u001B[43mshots\u001B[49m\u001B[43m)\u001B[49m\n\u001B[1;32m     70\u001B[0m info[\u001B[38;5;124m\"\u001B[39m\u001B[38;5;124mtime_end_backend\u001B[39m\u001B[38;5;124m\"\u001B[39m] \u001B[38;5;241m=\u001B[39m time\u001B[38;5;241m.\u001B[39mtime()\n\u001B[1;32m     71\u001B[0m info[\u001B[38;5;124m\"\u001B[39m\u001B[38;5;124maverage_qpu_time\u001B[39m\u001B[38;5;124m\"\u001B[39m] \u001B[38;5;241m=\u001B[39m dwp\u001B[38;5;241m.\u001B[39mavg_qpu_time\n",
      "File \u001B[0;32m~/Documents/GitHub/SimuQ/src/simuq/dwave/dwave_provider.py:66\u001B[0m, in \u001B[0;36mDWaveProvider.run\u001B[0;34m(self, shots)\u001B[0m\n\u001B[1;32m     59\u001B[0m h, J, anneal_schedule \u001B[38;5;241m=\u001B[39m \u001B[38;5;28mself\u001B[39m\u001B[38;5;241m.\u001B[39mprog\n\u001B[1;32m     60\u001B[0m response \u001B[38;5;241m=\u001B[39m sampler\u001B[38;5;241m.\u001B[39msample_ising(h, J,\n\u001B[1;32m     61\u001B[0m                                chain_strength\u001B[38;5;241m=\u001B[39m\u001B[38;5;28mself\u001B[39m\u001B[38;5;241m.\u001B[39mchain_strength,\n\u001B[1;32m     62\u001B[0m                                num_reads\u001B[38;5;241m=\u001B[39m\u001B[38;5;28mself\u001B[39m\u001B[38;5;241m.\u001B[39mshots,\n\u001B[1;32m     63\u001B[0m                                anneal_schedule\u001B[38;5;241m=\u001B[39manneal_schedule,\n\u001B[1;32m     64\u001B[0m                                answer_mode\u001B[38;5;241m=\u001B[39m\u001B[38;5;124m\"\u001B[39m\u001B[38;5;124mraw\u001B[39m\u001B[38;5;124m\"\u001B[39m\n\u001B[1;32m     65\u001B[0m                                 )\n\u001B[0;32m---> 66\u001B[0m \u001B[38;5;28mself\u001B[39m\u001B[38;5;241m.\u001B[39msamples \u001B[38;5;241m=\u001B[39m \u001B[38;5;28mlist\u001B[39m(\u001B[43mresponse\u001B[49m\u001B[38;5;241;43m.\u001B[39;49m\u001B[43msamples\u001B[49m\u001B[43m(\u001B[49m\u001B[43m)\u001B[49m)\n\u001B[1;32m     67\u001B[0m \u001B[38;5;28mself\u001B[39m\u001B[38;5;241m.\u001B[39mavg_qpu_time \u001B[38;5;241m=\u001B[39m response\u001B[38;5;241m.\u001B[39minfo[\u001B[38;5;124m'\u001B[39m\u001B[38;5;124mtiming\u001B[39m\u001B[38;5;124m'\u001B[39m][\u001B[38;5;124m'\u001B[39m\u001B[38;5;124mqpu_access_time\u001B[39m\u001B[38;5;124m'\u001B[39m] \u001B[38;5;241m*\u001B[39m \u001B[38;5;241m1e-6\u001B[39m \u001B[38;5;241m/\u001B[39m \u001B[38;5;28mself\u001B[39m\u001B[38;5;241m.\u001B[39mshots\n\u001B[1;32m     68\u001B[0m \u001B[38;5;28mself\u001B[39m\u001B[38;5;241m.\u001B[39mtime_on_machine \u001B[38;5;241m=\u001B[39m (response\u001B[38;5;241m.\u001B[39minfo[\u001B[38;5;124m'\u001B[39m\u001B[38;5;124mtiming\u001B[39m\u001B[38;5;124m'\u001B[39m][\u001B[38;5;124m'\u001B[39m\u001B[38;5;124mqpu_access_time\u001B[39m\u001B[38;5;124m'\u001B[39m] \u001B[38;5;241m+\u001B[39m response\u001B[38;5;241m.\u001B[39minfo[\u001B[38;5;124m'\u001B[39m\u001B[38;5;124mtiming\u001B[39m\u001B[38;5;124m'\u001B[39m][\u001B[38;5;124m'\u001B[39m\u001B[38;5;124mtotal_post_processing_time\u001B[39m\u001B[38;5;124m'\u001B[39m])\u001B[38;5;241m*\u001B[39m\u001B[38;5;241m1e-6\u001B[39m\n",
      "File \u001B[0;32m~/miniconda3/envs/QHDOPT-dev/lib/python3.9/site-packages/dimod/sampleset.py:1215\u001B[0m, in \u001B[0;36mSampleSet.samples\u001B[0;34m(self, n, sorted_by)\u001B[0m\n\u001B[1;32m   1213\u001B[0m     samples \u001B[38;5;241m=\u001B[39m \u001B[38;5;28mself\u001B[39m\u001B[38;5;241m.\u001B[39mrecord\u001B[38;5;241m.\u001B[39msample\n\u001B[1;32m   1214\u001B[0m \u001B[38;5;28;01melse\u001B[39;00m:\n\u001B[0;32m-> 1215\u001B[0m     order \u001B[38;5;241m=\u001B[39m np\u001B[38;5;241m.\u001B[39margsort(\u001B[38;5;28;43mself\u001B[39;49m\u001B[38;5;241;43m.\u001B[39;49m\u001B[43mrecord\u001B[49m[sorted_by])\n\u001B[1;32m   1216\u001B[0m     samples \u001B[38;5;241m=\u001B[39m \u001B[38;5;28mself\u001B[39m\u001B[38;5;241m.\u001B[39mrecord\u001B[38;5;241m.\u001B[39msample[order]\n\u001B[1;32m   1218\u001B[0m \u001B[38;5;28;01mreturn\u001B[39;00m SamplesArray(samples, \u001B[38;5;28mself\u001B[39m\u001B[38;5;241m.\u001B[39mvariables)\n",
      "File \u001B[0;32m~/miniconda3/envs/QHDOPT-dev/lib/python3.9/site-packages/dimod/sampleset.py:1121\u001B[0m, in \u001B[0;36mSampleSet.record\u001B[0;34m(self)\u001B[0m\n\u001B[1;32m   1105\u001B[0m \u001B[38;5;129m@property\u001B[39m\n\u001B[1;32m   1106\u001B[0m \u001B[38;5;28;01mdef\u001B[39;00m \u001B[38;5;21mrecord\u001B[39m(\u001B[38;5;28mself\u001B[39m):\n\u001B[1;32m   1107\u001B[0m \u001B[38;5;250m    \u001B[39m\u001B[38;5;124;03m\"\"\":obj:`numpy.recarray` containing the samples, energies, number of occurences, and other sample data.\u001B[39;00m\n\u001B[1;32m   1108\u001B[0m \n\u001B[1;32m   1109\u001B[0m \u001B[38;5;124;03m    Examples:\u001B[39;00m\n\u001B[0;32m   (...)\u001B[0m\n\u001B[1;32m   1119\u001B[0m \n\u001B[1;32m   1120\u001B[0m \u001B[38;5;124;03m    \"\"\"\u001B[39;00m\n\u001B[0;32m-> 1121\u001B[0m     \u001B[38;5;28;43mself\u001B[39;49m\u001B[38;5;241;43m.\u001B[39;49m\u001B[43mresolve\u001B[49m\u001B[43m(\u001B[49m\u001B[43m)\u001B[49m\n\u001B[1;32m   1122\u001B[0m     \u001B[38;5;28;01mreturn\u001B[39;00m \u001B[38;5;28mself\u001B[39m\u001B[38;5;241m.\u001B[39m_record\n",
      "File \u001B[0;32m~/miniconda3/envs/QHDOPT-dev/lib/python3.9/site-packages/dimod/sampleset.py:1485\u001B[0m, in \u001B[0;36mSampleSet.resolve\u001B[0;34m(self)\u001B[0m\n\u001B[1;32m   1483\u001B[0m \u001B[38;5;66;03m# if it doesn't have the attribute then it is already resolved\u001B[39;00m\n\u001B[1;32m   1484\u001B[0m \u001B[38;5;28;01mif\u001B[39;00m \u001B[38;5;28mhasattr\u001B[39m(\u001B[38;5;28mself\u001B[39m, \u001B[38;5;124m'\u001B[39m\u001B[38;5;124m_future\u001B[39m\u001B[38;5;124m'\u001B[39m):\n\u001B[0;32m-> 1485\u001B[0m     samples \u001B[38;5;241m=\u001B[39m \u001B[38;5;28;43mself\u001B[39;49m\u001B[38;5;241;43m.\u001B[39;49m\u001B[43m_result_hook\u001B[49m\u001B[43m(\u001B[49m\u001B[38;5;28;43mself\u001B[39;49m\u001B[38;5;241;43m.\u001B[39;49m\u001B[43m_future\u001B[49m\u001B[43m)\u001B[49m\n\u001B[1;32m   1486\u001B[0m     \u001B[38;5;28mself\u001B[39m\u001B[38;5;241m.\u001B[39m\u001B[38;5;21m__init__\u001B[39m(samples\u001B[38;5;241m.\u001B[39mrecord, samples\u001B[38;5;241m.\u001B[39mvariables, samples\u001B[38;5;241m.\u001B[39minfo, samples\u001B[38;5;241m.\u001B[39mvartype)\n\u001B[1;32m   1487\u001B[0m     \u001B[38;5;28;01mdel\u001B[39;00m \u001B[38;5;28mself\u001B[39m\u001B[38;5;241m.\u001B[39m_future\n",
      "File \u001B[0;32m~/miniconda3/envs/QHDOPT-dev/lib/python3.9/site-packages/dwave/system/composites/embedding.py:284\u001B[0m, in \u001B[0;36mEmbeddingComposite.sample.<locals>.async_unembed\u001B[0;34m(response)\u001B[0m\n\u001B[1;32m    279\u001B[0m \u001B[38;5;28;01mdef\u001B[39;00m \u001B[38;5;21masync_unembed\u001B[39m(response):\n\u001B[1;32m    280\u001B[0m     \u001B[38;5;66;03m# unembed the sampleset aysnchronously.\u001B[39;00m\n\u001B[1;32m    282\u001B[0m     warninghandler\u001B[38;5;241m.\u001B[39mchain_break(response, embedding)\n\u001B[0;32m--> 284\u001B[0m     sampleset \u001B[38;5;241m=\u001B[39m \u001B[43munembed_sampleset\u001B[49m\u001B[43m(\u001B[49m\u001B[43mresponse\u001B[49m\u001B[43m,\u001B[49m\u001B[43m \u001B[49m\u001B[43membedding\u001B[49m\u001B[43m,\u001B[49m\u001B[43m \u001B[49m\u001B[43msource_bqm\u001B[49m\u001B[38;5;241;43m=\u001B[39;49m\u001B[43mbqm\u001B[49m\u001B[43m,\u001B[49m\n\u001B[1;32m    285\u001B[0m \u001B[43m                                  \u001B[49m\u001B[43mchain_break_method\u001B[49m\u001B[38;5;241;43m=\u001B[39;49m\u001B[43mchain_break_method\u001B[49m\u001B[43m,\u001B[49m\n\u001B[1;32m    286\u001B[0m \u001B[43m                                  \u001B[49m\u001B[43mchain_break_fraction\u001B[49m\u001B[38;5;241;43m=\u001B[39;49m\u001B[43mchain_break_fraction\u001B[49m\u001B[43m,\u001B[49m\n\u001B[1;32m    287\u001B[0m \u001B[43m                                  \u001B[49m\u001B[43mreturn_embedding\u001B[49m\u001B[38;5;241;43m=\u001B[39;49m\u001B[43mreturn_embedding\u001B[49m\u001B[43m)\u001B[49m\n\u001B[1;32m    289\u001B[0m     \u001B[38;5;28;01mif\u001B[39;00m return_embedding:\n\u001B[1;32m    290\u001B[0m         sampleset\u001B[38;5;241m.\u001B[39minfo[\u001B[38;5;124m'\u001B[39m\u001B[38;5;124membedding_context\u001B[39m\u001B[38;5;124m'\u001B[39m]\u001B[38;5;241m.\u001B[39mupdate(\n\u001B[1;32m    291\u001B[0m             embedding_parameters\u001B[38;5;241m=\u001B[39membedding_parameters,\n\u001B[1;32m    292\u001B[0m             chain_strength\u001B[38;5;241m=\u001B[39membedding\u001B[38;5;241m.\u001B[39mchain_strength)\n",
      "File \u001B[0;32m~/miniconda3/envs/QHDOPT-dev/lib/python3.9/site-packages/dwave/embedding/transforms.py:606\u001B[0m, in \u001B[0;36munembed_sampleset\u001B[0;34m(target_sampleset, embedding, source_bqm, chain_break_method, chain_break_fraction, return_embedding)\u001B[0m\n\u001B[1;32m    603\u001B[0m \u001B[38;5;28;01mexcept\u001B[39;00m \u001B[38;5;167;01mKeyError\u001B[39;00m:\n\u001B[1;32m    604\u001B[0m     \u001B[38;5;28;01mraise\u001B[39;00m \u001B[38;5;167;01mValueError\u001B[39;00m(\u001B[38;5;124m\"\u001B[39m\u001B[38;5;124mgiven bqm does not match the embedding\u001B[39m\u001B[38;5;124m\"\u001B[39m)\n\u001B[0;32m--> 606\u001B[0m record \u001B[38;5;241m=\u001B[39m \u001B[43mtarget_sampleset\u001B[49m\u001B[38;5;241;43m.\u001B[39;49m\u001B[43mrecord\u001B[49m\n\u001B[1;32m    608\u001B[0m unembedded, idxs \u001B[38;5;241m=\u001B[39m chain_break_method(target_sampleset, chains)\n\u001B[1;32m    610\u001B[0m reserved \u001B[38;5;241m=\u001B[39m {\u001B[38;5;124m'\u001B[39m\u001B[38;5;124msample\u001B[39m\u001B[38;5;124m'\u001B[39m, \u001B[38;5;124m'\u001B[39m\u001B[38;5;124menergy\u001B[39m\u001B[38;5;124m'\u001B[39m}\n",
      "File \u001B[0;32m~/miniconda3/envs/QHDOPT-dev/lib/python3.9/site-packages/dimod/sampleset.py:1121\u001B[0m, in \u001B[0;36mSampleSet.record\u001B[0;34m(self)\u001B[0m\n\u001B[1;32m   1105\u001B[0m \u001B[38;5;129m@property\u001B[39m\n\u001B[1;32m   1106\u001B[0m \u001B[38;5;28;01mdef\u001B[39;00m \u001B[38;5;21mrecord\u001B[39m(\u001B[38;5;28mself\u001B[39m):\n\u001B[1;32m   1107\u001B[0m \u001B[38;5;250m    \u001B[39m\u001B[38;5;124;03m\"\"\":obj:`numpy.recarray` containing the samples, energies, number of occurences, and other sample data.\u001B[39;00m\n\u001B[1;32m   1108\u001B[0m \n\u001B[1;32m   1109\u001B[0m \u001B[38;5;124;03m    Examples:\u001B[39;00m\n\u001B[0;32m   (...)\u001B[0m\n\u001B[1;32m   1119\u001B[0m \n\u001B[1;32m   1120\u001B[0m \u001B[38;5;124;03m    \"\"\"\u001B[39;00m\n\u001B[0;32m-> 1121\u001B[0m     \u001B[38;5;28;43mself\u001B[39;49m\u001B[38;5;241;43m.\u001B[39;49m\u001B[43mresolve\u001B[49m\u001B[43m(\u001B[49m\u001B[43m)\u001B[49m\n\u001B[1;32m   1122\u001B[0m     \u001B[38;5;28;01mreturn\u001B[39;00m \u001B[38;5;28mself\u001B[39m\u001B[38;5;241m.\u001B[39m_record\n",
      "File \u001B[0;32m~/miniconda3/envs/QHDOPT-dev/lib/python3.9/site-packages/dimod/sampleset.py:1485\u001B[0m, in \u001B[0;36mSampleSet.resolve\u001B[0;34m(self)\u001B[0m\n\u001B[1;32m   1483\u001B[0m \u001B[38;5;66;03m# if it doesn't have the attribute then it is already resolved\u001B[39;00m\n\u001B[1;32m   1484\u001B[0m \u001B[38;5;28;01mif\u001B[39;00m \u001B[38;5;28mhasattr\u001B[39m(\u001B[38;5;28mself\u001B[39m, \u001B[38;5;124m'\u001B[39m\u001B[38;5;124m_future\u001B[39m\u001B[38;5;124m'\u001B[39m):\n\u001B[0;32m-> 1485\u001B[0m     samples \u001B[38;5;241m=\u001B[39m \u001B[38;5;28;43mself\u001B[39;49m\u001B[38;5;241;43m.\u001B[39;49m\u001B[43m_result_hook\u001B[49m\u001B[43m(\u001B[49m\u001B[38;5;28;43mself\u001B[39;49m\u001B[38;5;241;43m.\u001B[39;49m\u001B[43m_future\u001B[49m\u001B[43m)\u001B[49m\n\u001B[1;32m   1486\u001B[0m     \u001B[38;5;28mself\u001B[39m\u001B[38;5;241m.\u001B[39m\u001B[38;5;21m__init__\u001B[39m(samples\u001B[38;5;241m.\u001B[39mrecord, samples\u001B[38;5;241m.\u001B[39mvariables, samples\u001B[38;5;241m.\u001B[39minfo, samples\u001B[38;5;241m.\u001B[39mvartype)\n\u001B[1;32m   1487\u001B[0m     \u001B[38;5;28;01mdel\u001B[39;00m \u001B[38;5;28mself\u001B[39m\u001B[38;5;241m.\u001B[39m_future\n",
      "File \u001B[0;32m~/miniconda3/envs/QHDOPT-dev/lib/python3.9/site-packages/dwave/system/samplers/dwave_sampler.py:439\u001B[0m, in \u001B[0;36mDWaveSampler.sample.<locals>._hook\u001B[0;34m(computation)\u001B[0m\n\u001B[1;32m    436\u001B[0m     \u001B[38;5;28;01mreturn\u001B[39;00m sampleset\n\u001B[1;32m    438\u001B[0m \u001B[38;5;28;01mtry\u001B[39;00m:\n\u001B[0;32m--> 439\u001B[0m     \u001B[38;5;28;01mreturn\u001B[39;00m \u001B[43mresolve\u001B[49m\u001B[43m(\u001B[49m\u001B[43mcomputation\u001B[49m\u001B[43m)\u001B[49m\n\u001B[1;32m    441\u001B[0m \u001B[38;5;28;01mexcept\u001B[39;00m (ProblemUploadError, RequestTimeout, PollingTimeout) \u001B[38;5;28;01mas\u001B[39;00m exc:\n\u001B[1;32m    442\u001B[0m     \u001B[38;5;28;01mif\u001B[39;00m \u001B[38;5;129;01mnot\u001B[39;00m \u001B[38;5;28mself\u001B[39m\u001B[38;5;241m.\u001B[39mfailover:\n",
      "File \u001B[0;32m~/miniconda3/envs/QHDOPT-dev/lib/python3.9/site-packages/dwave/system/samplers/dwave_sampler.py:429\u001B[0m, in \u001B[0;36mDWaveSampler.sample.<locals>._hook.<locals>.resolve\u001B[0;34m(computation)\u001B[0m\n\u001B[1;32m    427\u001B[0m \u001B[38;5;28;01mdef\u001B[39;00m \u001B[38;5;21mresolve\u001B[39m(computation):\n\u001B[1;32m    428\u001B[0m     sampleset \u001B[38;5;241m=\u001B[39m computation\u001B[38;5;241m.\u001B[39msampleset\n\u001B[0;32m--> 429\u001B[0m     \u001B[43msampleset\u001B[49m\u001B[38;5;241;43m.\u001B[39;49m\u001B[43mresolve\u001B[49m\u001B[43m(\u001B[49m\u001B[43m)\u001B[49m\n\u001B[1;32m    431\u001B[0m     \u001B[38;5;28;01mif\u001B[39;00m warninghandler \u001B[38;5;129;01mis\u001B[39;00m \u001B[38;5;129;01mnot\u001B[39;00m \u001B[38;5;28;01mNone\u001B[39;00m:\n\u001B[1;32m    432\u001B[0m         warninghandler\u001B[38;5;241m.\u001B[39mtoo_few_samples(sampleset)\n",
      "File \u001B[0;32m~/miniconda3/envs/QHDOPT-dev/lib/python3.9/site-packages/dimod/sampleset.py:1485\u001B[0m, in \u001B[0;36mSampleSet.resolve\u001B[0;34m(self)\u001B[0m\n\u001B[1;32m   1483\u001B[0m \u001B[38;5;66;03m# if it doesn't have the attribute then it is already resolved\u001B[39;00m\n\u001B[1;32m   1484\u001B[0m \u001B[38;5;28;01mif\u001B[39;00m \u001B[38;5;28mhasattr\u001B[39m(\u001B[38;5;28mself\u001B[39m, \u001B[38;5;124m'\u001B[39m\u001B[38;5;124m_future\u001B[39m\u001B[38;5;124m'\u001B[39m):\n\u001B[0;32m-> 1485\u001B[0m     samples \u001B[38;5;241m=\u001B[39m \u001B[38;5;28;43mself\u001B[39;49m\u001B[38;5;241;43m.\u001B[39;49m\u001B[43m_result_hook\u001B[49m\u001B[43m(\u001B[49m\u001B[38;5;28;43mself\u001B[39;49m\u001B[38;5;241;43m.\u001B[39;49m\u001B[43m_future\u001B[49m\u001B[43m)\u001B[49m\n\u001B[1;32m   1486\u001B[0m     \u001B[38;5;28mself\u001B[39m\u001B[38;5;241m.\u001B[39m\u001B[38;5;21m__init__\u001B[39m(samples\u001B[38;5;241m.\u001B[39mrecord, samples\u001B[38;5;241m.\u001B[39mvariables, samples\u001B[38;5;241m.\u001B[39minfo, samples\u001B[38;5;241m.\u001B[39mvartype)\n\u001B[1;32m   1487\u001B[0m     \u001B[38;5;28;01mdel\u001B[39;00m \u001B[38;5;28mself\u001B[39m\u001B[38;5;241m.\u001B[39m_future\n",
      "File \u001B[0;32m~/miniconda3/envs/QHDOPT-dev/lib/python3.9/site-packages/dwave/cloud/computation.py:823\u001B[0m, in \u001B[0;36mFuture.sampleset.<locals>.<lambda>\u001B[0;34m(f)\u001B[0m\n\u001B[1;32m    818\u001B[0m \u001B[38;5;28;01mexcept\u001B[39;00m \u001B[38;5;167;01mImportError\u001B[39;00m:\n\u001B[1;32m    819\u001B[0m     \u001B[38;5;28;01mraise\u001B[39;00m \u001B[38;5;167;01mRuntimeError\u001B[39;00m(\u001B[38;5;124m\"\u001B[39m\u001B[38;5;124mCan\u001B[39m\u001B[38;5;124m'\u001B[39m\u001B[38;5;124mt construct SampleSet without dimod. \u001B[39m\u001B[38;5;124m\"\u001B[39m\n\u001B[1;32m    820\u001B[0m                        \u001B[38;5;124m\"\u001B[39m\u001B[38;5;124mRe-install the library with \u001B[39m\u001B[38;5;124m'\u001B[39m\u001B[38;5;124mbqm\u001B[39m\u001B[38;5;124m'\u001B[39m\u001B[38;5;124m support.\u001B[39m\u001B[38;5;124m\"\u001B[39m)\n\u001B[1;32m    822\u001B[0m \u001B[38;5;28mself\u001B[39m\u001B[38;5;241m.\u001B[39m_sampleset \u001B[38;5;241m=\u001B[39m sampleset \u001B[38;5;241m=\u001B[39m dimod\u001B[38;5;241m.\u001B[39mSampleSet\u001B[38;5;241m.\u001B[39mfrom_future(\n\u001B[0;32m--> 823\u001B[0m     \u001B[38;5;28mself\u001B[39m, \u001B[38;5;28;01mlambda\u001B[39;00m f: \u001B[43mf\u001B[49m\u001B[38;5;241;43m.\u001B[39;49m\u001B[43mwait_sampleset\u001B[49m\u001B[43m(\u001B[49m\u001B[43m)\u001B[49m)\n\u001B[1;32m    825\u001B[0m \u001B[38;5;66;03m# propagate id to sampleset as well\u001B[39;00m\n\u001B[1;32m    826\u001B[0m \u001B[38;5;66;03m# note: this requires dimod>=0.8.21 (before that version SampleSet\u001B[39;00m\n\u001B[1;32m    827\u001B[0m \u001B[38;5;66;03m# had slots set which prevented dynamic addition of attributes).\u001B[39;00m\n\u001B[1;32m    828\u001B[0m sampleset\u001B[38;5;241m.\u001B[39mwait_id \u001B[38;5;241m=\u001B[39m \u001B[38;5;28mself\u001B[39m\u001B[38;5;241m.\u001B[39mwait_id\n",
      "File \u001B[0;32m~/miniconda3/envs/QHDOPT-dev/lib/python3.9/site-packages/dwave/cloud/computation.py:755\u001B[0m, in \u001B[0;36mFuture.wait_sampleset\u001B[0;34m(self)\u001B[0m\n\u001B[1;32m    752\u001B[0m \u001B[38;5;250m\u001B[39m\u001B[38;5;124;03m\"\"\"Blocking sampleset getter.\"\"\"\u001B[39;00m\n\u001B[1;32m    754\u001B[0m \u001B[38;5;66;03m# blocking result get\u001B[39;00m\n\u001B[0;32m--> 755\u001B[0m result \u001B[38;5;241m=\u001B[39m \u001B[38;5;28;43mself\u001B[39;49m\u001B[38;5;241;43m.\u001B[39;49m\u001B[43m_load_result\u001B[49m\u001B[43m(\u001B[49m\u001B[43m)\u001B[49m\n\u001B[1;32m    757\u001B[0m \u001B[38;5;66;03m# common problem info: id/label\u001B[39;00m\n\u001B[1;32m    758\u001B[0m problem_info \u001B[38;5;241m=\u001B[39m \u001B[38;5;28mdict\u001B[39m(problem_id\u001B[38;5;241m=\u001B[39m\u001B[38;5;28mself\u001B[39m\u001B[38;5;241m.\u001B[39mid)\n",
      "File \u001B[0;32m~/miniconda3/envs/QHDOPT-dev/lib/python3.9/site-packages/dwave/cloud/computation.py:889\u001B[0m, in \u001B[0;36mFuture._load_result\u001B[0;34m(self)\u001B[0m\n\u001B[1;32m    886\u001B[0m \u001B[38;5;250m\u001B[39m\u001B[38;5;124;03m\"\"\"Get the result, waiting and decoding as needed.\"\"\"\u001B[39;00m\n\u001B[1;32m    887\u001B[0m \u001B[38;5;28;01mif\u001B[39;00m \u001B[38;5;28mself\u001B[39m\u001B[38;5;241m.\u001B[39m_result \u001B[38;5;129;01mis\u001B[39;00m \u001B[38;5;28;01mNone\u001B[39;00m:\n\u001B[1;32m    888\u001B[0m     \u001B[38;5;66;03m# Wait for the query response\u001B[39;00m\n\u001B[0;32m--> 889\u001B[0m     \u001B[38;5;28;43mself\u001B[39;49m\u001B[38;5;241;43m.\u001B[39;49m\u001B[43mwait\u001B[49m\u001B[43m(\u001B[49m\u001B[43mtimeout\u001B[49m\u001B[38;5;241;43m=\u001B[39;49m\u001B[38;5;28;43;01mNone\u001B[39;49;00m\u001B[43m)\u001B[49m\n\u001B[1;32m    891\u001B[0m     \u001B[38;5;66;03m# Check for other error conditions\u001B[39;00m\n\u001B[1;32m    892\u001B[0m     \u001B[38;5;28;01mif\u001B[39;00m \u001B[38;5;28mself\u001B[39m\u001B[38;5;241m.\u001B[39m_exception \u001B[38;5;129;01mis\u001B[39;00m \u001B[38;5;129;01mnot\u001B[39;00m \u001B[38;5;28;01mNone\u001B[39;00m:\n",
      "File \u001B[0;32m~/miniconda3/envs/QHDOPT-dev/lib/python3.9/site-packages/dwave/cloud/computation.py:416\u001B[0m, in \u001B[0;36mFuture.wait\u001B[0;34m(self, timeout)\u001B[0m\n\u001B[1;32m    381\u001B[0m \u001B[38;5;28;01mdef\u001B[39;00m \u001B[38;5;21mwait\u001B[39m(\u001B[38;5;28mself\u001B[39m, timeout\u001B[38;5;241m=\u001B[39m\u001B[38;5;28;01mNone\u001B[39;00m):\n\u001B[1;32m    382\u001B[0m \u001B[38;5;250m    \u001B[39m\u001B[38;5;124;03m\"\"\"Wait for the solver to receive a response for a submitted problem.\u001B[39;00m\n\u001B[1;32m    383\u001B[0m \n\u001B[1;32m    384\u001B[0m \u001B[38;5;124;03m    Blocking call that waits for a :class:`Future` object to complete.\u001B[39;00m\n\u001B[0;32m   (...)\u001B[0m\n\u001B[1;32m    414\u001B[0m \u001B[38;5;124;03m        >>> client.close()         # doctest: +SKIP\u001B[39;00m\n\u001B[1;32m    415\u001B[0m \u001B[38;5;124;03m    \"\"\"\u001B[39;00m\n\u001B[0;32m--> 416\u001B[0m     \u001B[38;5;28;01mreturn\u001B[39;00m \u001B[38;5;28;43mself\u001B[39;49m\u001B[38;5;241;43m.\u001B[39;49m\u001B[43m_results_ready_event\u001B[49m\u001B[38;5;241;43m.\u001B[39;49m\u001B[43mwait\u001B[49m\u001B[43m(\u001B[49m\u001B[43mtimeout\u001B[49m\u001B[43m)\u001B[49m\n",
      "File \u001B[0;32m~/miniconda3/envs/QHDOPT-dev/lib/python3.9/threading.py:581\u001B[0m, in \u001B[0;36mEvent.wait\u001B[0;34m(self, timeout)\u001B[0m\n\u001B[1;32m    579\u001B[0m signaled \u001B[38;5;241m=\u001B[39m \u001B[38;5;28mself\u001B[39m\u001B[38;5;241m.\u001B[39m_flag\n\u001B[1;32m    580\u001B[0m \u001B[38;5;28;01mif\u001B[39;00m \u001B[38;5;129;01mnot\u001B[39;00m signaled:\n\u001B[0;32m--> 581\u001B[0m     signaled \u001B[38;5;241m=\u001B[39m \u001B[38;5;28;43mself\u001B[39;49m\u001B[38;5;241;43m.\u001B[39;49m\u001B[43m_cond\u001B[49m\u001B[38;5;241;43m.\u001B[39;49m\u001B[43mwait\u001B[49m\u001B[43m(\u001B[49m\u001B[43mtimeout\u001B[49m\u001B[43m)\u001B[49m\n\u001B[1;32m    582\u001B[0m \u001B[38;5;28;01mreturn\u001B[39;00m signaled\n",
      "File \u001B[0;32m~/miniconda3/envs/QHDOPT-dev/lib/python3.9/threading.py:312\u001B[0m, in \u001B[0;36mCondition.wait\u001B[0;34m(self, timeout)\u001B[0m\n\u001B[1;32m    310\u001B[0m \u001B[38;5;28;01mtry\u001B[39;00m:    \u001B[38;5;66;03m# restore state no matter what (e.g., KeyboardInterrupt)\u001B[39;00m\n\u001B[1;32m    311\u001B[0m     \u001B[38;5;28;01mif\u001B[39;00m timeout \u001B[38;5;129;01mis\u001B[39;00m \u001B[38;5;28;01mNone\u001B[39;00m:\n\u001B[0;32m--> 312\u001B[0m         \u001B[43mwaiter\u001B[49m\u001B[38;5;241;43m.\u001B[39;49m\u001B[43macquire\u001B[49m\u001B[43m(\u001B[49m\u001B[43m)\u001B[49m\n\u001B[1;32m    313\u001B[0m         gotit \u001B[38;5;241m=\u001B[39m \u001B[38;5;28;01mTrue\u001B[39;00m\n\u001B[1;32m    314\u001B[0m     \u001B[38;5;28;01melse\u001B[39;00m:\n",
      "\u001B[0;31mKeyboardInterrupt\u001B[0m: "
     ]
    }
   ],
   "source": [
    "for i in range(0, len(functions)):\n",
    "    print(f\"Test problem {i}:\")\n",
    "    function, syms = functions[i]\n",
    "    model = QHD.SymPy(function, syms)\n",
    "    model.dwave_setup(resolution, numruns, api_key_from_file=api_key_file, embedding_scheme=embedding_scheme, anneal_schedule=anneal_schedule, penalty_coefficient=penalty_coefficient, penalty_ratio=penalty_ratio, post_processing_method=\"IPOPT\")\n",
    "    data[i] = run_test(model)"
   ]
  },
  {
   "cell_type": "markdown",
   "source": [
    "## Penalty Ratio = 1"
   ],
   "metadata": {
    "collapsed": false
   }
  },
  {
   "cell_type": "code",
   "execution_count": 20,
   "outputs": [
    {
     "name": "stdout",
     "output_type": "stream",
     "text": [
      "Test problem 0:\n"
     ]
    },
    {
     "ename": "KeyboardInterrupt",
     "evalue": "",
     "output_type": "error",
     "traceback": [
      "\u001B[0;31m---------------------------------------------------------------------------\u001B[0m",
      "\u001B[0;31mKeyboardInterrupt\u001B[0m                         Traceback (most recent call last)",
      "Cell \u001B[0;32mIn[20], line 6\u001B[0m\n\u001B[1;32m      4\u001B[0m \u001B[38;5;28mprint\u001B[39m(\u001B[38;5;124mf\u001B[39m\u001B[38;5;124m\"\u001B[39m\u001B[38;5;124mTest problem \u001B[39m\u001B[38;5;132;01m{\u001B[39;00mi\u001B[38;5;132;01m}\u001B[39;00m\u001B[38;5;124m:\u001B[39m\u001B[38;5;124m\"\u001B[39m)\n\u001B[1;32m      5\u001B[0m function, free_vars \u001B[38;5;241m=\u001B[39m functions[i]\n\u001B[0;32m----> 6\u001B[0m data[i] \u001B[38;5;241m=\u001B[39m \u001B[43mrun_test\u001B[49m\u001B[43m(\u001B[49m\u001B[43mfunction\u001B[49m\u001B[43m,\u001B[49m\u001B[43m \u001B[49m\u001B[43mfree_vars\u001B[49m\u001B[43m,\u001B[49m\u001B[43m \u001B[49m\u001B[43mtol\u001B[49m\u001B[43m,\u001B[49m\u001B[43m \u001B[49m\u001B[43mpenalty_ratio\u001B[49m\u001B[43m)\u001B[49m\n",
      "Cell \u001B[0;32mIn[17], line 6\u001B[0m, in \u001B[0;36mrun_test\u001B[0;34m(func, syms, tol, penalty_ratio)\u001B[0m\n\u001B[1;32m      4\u001B[0m model\u001B[38;5;241m.\u001B[39mdwave_setup(resolution, numruns, api_key\u001B[38;5;241m=\u001B[39mapi_key, embedding_scheme\u001B[38;5;241m=\u001B[39membedding_scheme, anneal_schedule\u001B[38;5;241m=\u001B[39manneal_schedule, penalty_coefficient\u001B[38;5;241m=\u001B[39mpenalty_coefficient, penalty_ratio\u001B[38;5;241m=\u001B[39mpenalty_ratio, post_processing_method\u001B[38;5;241m=\u001B[39m\u001B[38;5;124m\"\u001B[39m\u001B[38;5;124mIPOPT\u001B[39m\u001B[38;5;124m\"\u001B[39m)\n\u001B[1;32m      5\u001B[0m \u001B[38;5;66;03m# Run QHD with post-processor = Ipopt\u001B[39;00m\n\u001B[0;32m----> 6\u001B[0m current_best_qhd \u001B[38;5;241m=\u001B[39m \u001B[43mmodel\u001B[49m\u001B[38;5;241;43m.\u001B[39;49m\u001B[43moptimize\u001B[49m\u001B[43m(\u001B[49m\u001B[43m)\u001B[49m\n\u001B[1;32m      7\u001B[0m qhd_ipopt_success_count \u001B[38;5;241m=\u001B[39m count_success_events(current_best_qhd, model\u001B[38;5;241m.\u001B[39mpost_processed_samples, model\u001B[38;5;241m.\u001B[39mf_eval, tol)\n\u001B[1;32m      8\u001B[0m data_vector[\u001B[38;5;241m0\u001B[39m] \u001B[38;5;241m=\u001B[39m model[\u001B[38;5;124m\"\u001B[39m\u001B[38;5;124minfo\u001B[39m\u001B[38;5;124m\"\u001B[39m][\u001B[38;5;124m\"\u001B[39m\u001B[38;5;124maverage_qpu_time\u001B[39m\u001B[38;5;124m\"\u001B[39m]\n",
      "File \u001B[0;32m~/Documents/GitHub/QHDOPT-dev/src/qhdopt/interface.py:664\u001B[0m, in \u001B[0;36mQHD.optimize\u001B[0;34m(self, fine_tune, verbose)\u001B[0m\n\u001B[1;32m    661\u001B[0m \u001B[38;5;28mself\u001B[39m\u001B[38;5;241m.\u001B[39mqubits \u001B[38;5;241m=\u001B[39m [Qubit(\u001B[38;5;28mself\u001B[39m\u001B[38;5;241m.\u001B[39mqs) \u001B[38;5;28;01mfor\u001B[39;00m _ \u001B[38;5;129;01min\u001B[39;00m \u001B[38;5;28mrange\u001B[39m(\u001B[38;5;28mself\u001B[39m\u001B[38;5;241m.\u001B[39mdimension \u001B[38;5;241m*\u001B[39m \u001B[38;5;28mself\u001B[39m\u001B[38;5;241m.\u001B[39mr)]\n\u001B[1;32m    663\u001B[0m \u001B[38;5;28;01mif\u001B[39;00m \u001B[38;5;28mself\u001B[39m\u001B[38;5;241m.\u001B[39mbackend \u001B[38;5;241m==\u001B[39m \u001B[38;5;124m\"\u001B[39m\u001B[38;5;124mdwave\u001B[39m\u001B[38;5;124m\"\u001B[39m:\n\u001B[0;32m--> 664\u001B[0m     raw_samples \u001B[38;5;241m=\u001B[39m \u001B[38;5;28;43mself\u001B[39;49m\u001B[38;5;241;43m.\u001B[39;49m\u001B[43mdwave_exec\u001B[49m\u001B[43m(\u001B[49m\u001B[43mverbose\u001B[49m\u001B[38;5;241;43m=\u001B[39;49m\u001B[43mverbose\u001B[49m\u001B[43m)\u001B[49m\n\u001B[1;32m    665\u001B[0m \u001B[38;5;28;01melif\u001B[39;00m \u001B[38;5;28mself\u001B[39m\u001B[38;5;241m.\u001B[39mbackend \u001B[38;5;241m==\u001B[39m \u001B[38;5;124m\"\u001B[39m\u001B[38;5;124mionq\u001B[39m\u001B[38;5;124m\"\u001B[39m:\n\u001B[1;32m    666\u001B[0m     raw_samples \u001B[38;5;241m=\u001B[39m \u001B[38;5;28mself\u001B[39m\u001B[38;5;241m.\u001B[39mionq_exec(verbose\u001B[38;5;241m=\u001B[39mverbose, with_noise\u001B[38;5;241m=\u001B[39m\u001B[38;5;28;01mTrue\u001B[39;00m)\n",
      "File \u001B[0;32m~/Documents/GitHub/QHDOPT-dev/src/qhdopt/interface.py:355\u001B[0m, in \u001B[0;36mQHD.dwave_exec\u001B[0;34m(self, verbose)\u001B[0m\n\u001B[1;32m    352\u001B[0m \u001B[38;5;28mself\u001B[39m\u001B[38;5;241m.\u001B[39mprvd \u001B[38;5;241m=\u001B[39m dwp\n\u001B[1;32m    354\u001B[0m \u001B[38;5;28mself\u001B[39m\u001B[38;5;241m.\u001B[39minfo[\u001B[38;5;124m\"\u001B[39m\u001B[38;5;124mtime_start_compile\u001B[39m\u001B[38;5;124m\"\u001B[39m] \u001B[38;5;241m=\u001B[39m time\u001B[38;5;241m.\u001B[39mtime()\n\u001B[0;32m--> 355\u001B[0m \u001B[43mdwp\u001B[49m\u001B[38;5;241m.\u001B[39mcompile(\u001B[38;5;28mself\u001B[39m\u001B[38;5;241m.\u001B[39mqs, \u001B[38;5;28mself\u001B[39m\u001B[38;5;241m.\u001B[39manneal_schedule, chain_strength, \u001B[38;5;28mself\u001B[39m\u001B[38;5;241m.\u001B[39mshots)\n\u001B[1;32m    356\u001B[0m \u001B[38;5;28mself\u001B[39m\u001B[38;5;241m.\u001B[39minfo[\u001B[38;5;124m\"\u001B[39m\u001B[38;5;124mtime_end_compile\u001B[39m\u001B[38;5;124m\"\u001B[39m] \u001B[38;5;241m=\u001B[39m time\u001B[38;5;241m.\u001B[39mtime()\n\u001B[1;32m    357\u001B[0m \u001B[38;5;28;01mif\u001B[39;00m verbose \u001B[38;5;241m>\u001B[39m \u001B[38;5;241m1\u001B[39m:\n",
      "File \u001B[0;32m~/Documents/GitHub/QHDOPT-dev/src/qhdopt/interface.py:355\u001B[0m, in \u001B[0;36mQHD.dwave_exec\u001B[0;34m(self, verbose)\u001B[0m\n\u001B[1;32m    352\u001B[0m \u001B[38;5;28mself\u001B[39m\u001B[38;5;241m.\u001B[39mprvd \u001B[38;5;241m=\u001B[39m dwp\n\u001B[1;32m    354\u001B[0m \u001B[38;5;28mself\u001B[39m\u001B[38;5;241m.\u001B[39minfo[\u001B[38;5;124m\"\u001B[39m\u001B[38;5;124mtime_start_compile\u001B[39m\u001B[38;5;124m\"\u001B[39m] \u001B[38;5;241m=\u001B[39m time\u001B[38;5;241m.\u001B[39mtime()\n\u001B[0;32m--> 355\u001B[0m \u001B[43mdwp\u001B[49m\u001B[38;5;241m.\u001B[39mcompile(\u001B[38;5;28mself\u001B[39m\u001B[38;5;241m.\u001B[39mqs, \u001B[38;5;28mself\u001B[39m\u001B[38;5;241m.\u001B[39manneal_schedule, chain_strength, \u001B[38;5;28mself\u001B[39m\u001B[38;5;241m.\u001B[39mshots)\n\u001B[1;32m    356\u001B[0m \u001B[38;5;28mself\u001B[39m\u001B[38;5;241m.\u001B[39minfo[\u001B[38;5;124m\"\u001B[39m\u001B[38;5;124mtime_end_compile\u001B[39m\u001B[38;5;124m\"\u001B[39m] \u001B[38;5;241m=\u001B[39m time\u001B[38;5;241m.\u001B[39mtime()\n\u001B[1;32m    357\u001B[0m \u001B[38;5;28;01mif\u001B[39;00m verbose \u001B[38;5;241m>\u001B[39m \u001B[38;5;241m1\u001B[39m:\n",
      "File \u001B[0;32m_pydevd_bundle/pydevd_cython_darwin_39_64.pyx:1179\u001B[0m, in \u001B[0;36m_pydevd_bundle.pydevd_cython_darwin_39_64.SafeCallWrapper.__call__\u001B[0;34m()\u001B[0m\n",
      "File \u001B[0;32m_pydevd_bundle/pydevd_cython_darwin_39_64.pyx:620\u001B[0m, in \u001B[0;36m_pydevd_bundle.pydevd_cython_darwin_39_64.PyDBFrame.trace_dispatch\u001B[0;34m()\u001B[0m\n",
      "File \u001B[0;32m_pydevd_bundle/pydevd_cython_darwin_39_64.pyx:929\u001B[0m, in \u001B[0;36m_pydevd_bundle.pydevd_cython_darwin_39_64.PyDBFrame.trace_dispatch\u001B[0;34m()\u001B[0m\n",
      "File \u001B[0;32m_pydevd_bundle/pydevd_cython_darwin_39_64.pyx:920\u001B[0m, in \u001B[0;36m_pydevd_bundle.pydevd_cython_darwin_39_64.PyDBFrame.trace_dispatch\u001B[0;34m()\u001B[0m\n",
      "File \u001B[0;32m_pydevd_bundle/pydevd_cython_darwin_39_64.pyx:317\u001B[0m, in \u001B[0;36m_pydevd_bundle.pydevd_cython_darwin_39_64.PyDBFrame.do_wait_suspend\u001B[0;34m()\u001B[0m\n",
      "File \u001B[0;32m/Applications/PyCharm.app/Contents/plugins/python/helpers/pydev/pydevd.py:1160\u001B[0m, in \u001B[0;36mPyDB.do_wait_suspend\u001B[0;34m(self, thread, frame, event, arg, send_suspend_message, is_unhandled_exception)\u001B[0m\n\u001B[1;32m   1157\u001B[0m         from_this_thread\u001B[38;5;241m.\u001B[39mappend(frame_id)\n\u001B[1;32m   1159\u001B[0m \u001B[38;5;28;01mwith\u001B[39;00m \u001B[38;5;28mself\u001B[39m\u001B[38;5;241m.\u001B[39m_threads_suspended_single_notification\u001B[38;5;241m.\u001B[39mnotify_thread_suspended(thread_id, stop_reason):\n\u001B[0;32m-> 1160\u001B[0m     \u001B[38;5;28;43mself\u001B[39;49m\u001B[38;5;241;43m.\u001B[39;49m\u001B[43m_do_wait_suspend\u001B[49m\u001B[43m(\u001B[49m\u001B[43mthread\u001B[49m\u001B[43m,\u001B[49m\u001B[43m \u001B[49m\u001B[43mframe\u001B[49m\u001B[43m,\u001B[49m\u001B[43m \u001B[49m\u001B[43mevent\u001B[49m\u001B[43m,\u001B[49m\u001B[43m \u001B[49m\u001B[43marg\u001B[49m\u001B[43m,\u001B[49m\u001B[43m \u001B[49m\u001B[43msuspend_type\u001B[49m\u001B[43m,\u001B[49m\u001B[43m \u001B[49m\u001B[43mfrom_this_thread\u001B[49m\u001B[43m)\u001B[49m\n",
      "File \u001B[0;32m/Applications/PyCharm.app/Contents/plugins/python/helpers/pydev/pydevd.py:1175\u001B[0m, in \u001B[0;36mPyDB._do_wait_suspend\u001B[0;34m(self, thread, frame, event, arg, suspend_type, from_this_thread)\u001B[0m\n\u001B[1;32m   1172\u001B[0m             \u001B[38;5;28mself\u001B[39m\u001B[38;5;241m.\u001B[39m_call_mpl_hook()\n\u001B[1;32m   1174\u001B[0m         \u001B[38;5;28mself\u001B[39m\u001B[38;5;241m.\u001B[39mprocess_internal_commands()\n\u001B[0;32m-> 1175\u001B[0m         \u001B[43mtime\u001B[49m\u001B[38;5;241;43m.\u001B[39;49m\u001B[43msleep\u001B[49m\u001B[43m(\u001B[49m\u001B[38;5;241;43m0.01\u001B[39;49m\u001B[43m)\u001B[49m\n\u001B[1;32m   1177\u001B[0m \u001B[38;5;28mself\u001B[39m\u001B[38;5;241m.\u001B[39mcancel_async_evaluation(get_current_thread_id(thread), \u001B[38;5;28mstr\u001B[39m(\u001B[38;5;28mid\u001B[39m(frame)))\n\u001B[1;32m   1179\u001B[0m \u001B[38;5;66;03m# process any stepping instructions\u001B[39;00m\n",
      "\u001B[0;31mKeyboardInterrupt\u001B[0m: "
     ]
    }
   ],
   "source": [
    "penalty_ratio = 1\n",
    "data = np.zeros((len(functions), 12))\n",
    "for i in range(len(functions)):\n",
    "    print(f\"Test problem {i}:\")\n",
    "    function, free_vars = functions[i]\n",
    "    data[i] = run_test(function, free_vars)"
   ],
   "metadata": {
    "collapsed": false
   }
  },
  {
   "cell_type": "code",
   "execution_count": null,
   "outputs": [],
   "source": [],
   "metadata": {
    "collapsed": false
   }
  }
 ],
 "metadata": {
  "kernelspec": {
   "display_name": "Python 3",
   "language": "python",
   "name": "python3"
  },
  "language_info": {
   "codemirror_mode": {
    "name": "ipython",
    "version": 3
   },
   "file_extension": ".py",
   "mimetype": "text/x-python",
   "name": "python",
   "nbconvert_exporter": "python",
   "pygments_lexer": "ipython3",
   "version": "3.9.18"
  }
 },
 "nbformat": 4,
 "nbformat_minor": 0
}
