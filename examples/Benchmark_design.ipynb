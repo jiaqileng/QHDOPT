{
 "cells": [
  {
   "cell_type": "markdown",
   "source": [
    "<h3>Add Basic Imports</>"
   ],
   "metadata": {
    "collapsed": false
   }
  },
  {
   "cell_type": "code",
   "execution_count": 37,
   "outputs": [],
   "source": [
    "import sys\n",
    "sys.path.insert(0, '../')\n",
    "import numpy as np\n",
    "from qhdopt import QHD"
   ],
   "metadata": {
    "collapsed": false
   }
  },
  {
   "cell_type": "markdown",
   "source": [
    "<h3> Helper function to create Sympy function from QP file </>"
   ],
   "metadata": {
    "collapsed": false
   }
  },
  {
   "cell_type": "code",
   "execution_count": 2,
   "outputs": [],
   "source": [
    "def get_function_from_qp_file(dimension):\n",
    "    with open(f\"{dimension}d_instance.npy\", 'rb') as f:\n",
    "        Q = np.load(f)\n",
    "        b = np.load(f)\n",
    "    return QHD.quad_to_gen(Q, b)"
   ],
   "metadata": {
    "collapsed": false
   }
  },
  {
   "cell_type": "markdown",
   "source": [
    "<h3> Defining list of functions</>"
   ],
   "metadata": {
    "collapsed": false
   }
  },
  {
   "cell_type": "code",
   "execution_count": 3,
   "metadata": {},
   "outputs": [],
   "source": [
    "from sympy import symbols, log, sin, cos, exp, expand, lambdify, N\n",
    "from sympy.core.evalf import evalf\n",
    "\n",
    "# Define the symbols\n",
    "x, y, z = symbols('x y z')\n",
    "\n",
    "functions = [get_function_from_qp_file(50),\n",
    "            get_function_from_qp_file(60),\n",
    "            get_function_from_qp_file(75),\n",
    "            (-4*x**2 + 3*x*y - 2 * y ** 2 + 3 * x - y, [x, y]), # penalty = 1\n",
    "             (-2*(x-1/3)**2 + y**2 -y*log(3*x + 1/2)/3 + 5*(x**2 - y**2 - x - 0.5)**2, [x, y]),\n",
    "             (y**1.5 - (y-0.75)*exp(4*x),  [x, y]),\n",
    "             (x**2 - 3*y**2 + 2*sin(1.5*np.pi*x) *cos(1.5*np.pi*y) + x - 3*y, [x, y]),\n",
    "             ((2*y-1)**2*(z-0.4) - (2*x-1)*z + (2*x-1.5)**2*y, [x, y, z]),\n",
    "             (2*exp(-x) * (2*z-1)**2 - 3*(2*y-0.7)**2 * exp(-z) + log(x + 1) * (y-0.8), [x, y, z]), # penalty = 1.2\n",
    "             (x * sin(2*np.pi*y) - 0.5*(y-0.3)**2 * cos(3*np.pi*z) + sin(4*np.pi*x), [x, y, z]), # penalty = 1\n",
    "             ]"
   ]
  },
  {
   "cell_type": "markdown",
   "source": [
    "<h3> List of parameters </>"
   ],
   "metadata": {
    "collapsed": false
   }
  },
  {
   "cell_type": "code",
   "execution_count": 38,
   "metadata": {
    "collapsed": false
   },
   "outputs": [],
   "source": [
    "resolution = 8\n",
    "anneal_schedule = [[0,0],[20, 1]]\n",
    "numruns = 1000\n",
    "backend = \"dwave\"\n",
    "tol = 1e-3\n",
    "penalty_coefficient = 3e-2\n",
    "api_key = \"KEY_GOES_HERE\"\n",
    "embedding_scheme = \"unary\""
   ]
  },
  {
   "cell_type": "markdown",
   "source": [
    "<h3> Helper function to calculate TTS </>"
   ],
   "metadata": {
    "collapsed": false
   }
  },
  {
   "cell_type": "code",
   "execution_count": 5,
   "outputs": [],
   "source": [
    "success_prop = 0.99\n",
    "def TTS(t_f, p_s):\n",
    "    p_s = min(p_s, success_prop)\n",
    "    return t_f*(np.log(1 - success_prop) / (np.log(1 - p_s)))"
   ],
   "metadata": {
    "collapsed": false
   }
  },
  {
   "cell_type": "code",
   "execution_count": 16,
   "metadata": {},
   "outputs": [],
   "source": [
    "def count_success_events(best, samples, f, tol):\n",
    "    number_success = 0\n",
    "    for sample in samples:\n",
    "        if sample is not None and abs(f(sample).item() - best) < tol:\n",
    "            number_success +=1\n",
    "    return number_success"
   ]
  },
  {
   "cell_type": "markdown",
   "source": [
    "<h3> Function to run benchmark for a single problem </>"
   ],
   "metadata": {
    "collapsed": false
   }
  },
  {
   "cell_type": "code",
   "execution_count": 34,
   "metadata": {},
   "outputs": [],
   "source": [
    "def run_test(func, syms, tol, penalty_ratio):\n",
    "    data_vector = np.zeros(12)\n",
    "    model = QHD.SymPy(func, syms)\n",
    "    model.dwave_setup(resolution, numruns, api_key=api_key, embedding_scheme=embedding_scheme, anneal_schedule=anneal_schedule, penalty_coefficient=penalty_coefficient, penalty_ratio=penalty_ratio, post_processing_method=\"IPOPT\")\n",
    "    # Run QHD with post-processor = Ipopt\n",
    "    current_best_qhd = model.optimize()\n",
    "    qhd_ipopt_success_count = count_success_events(current_best_qhd, model.post_processed_samples, model.f_eval, tol)\n",
    "    data_vector[0] = model.info[\"average_qpu_time\"]\n",
    "    data_vector[1] = model.info[\"post_processing_time\"]\n",
    "    data_vector[2] = qhd_ipopt_success_count/model.shots\n",
    "    data_vector[3] = TTS(data_vector[0] + data_vector[1], data_vector[2])\n",
    "\n",
    "    # Same QHD samples post-processed by TNC\n",
    "    model.post_processing_method = \"TNC\"\n",
    "    model.post_process()\n",
    "    qhd_tnc_success_count = count_success_events(current_best_qhd, model.post_processed_samples, model.f_eval, tol)\n",
    "    data_vector[4] = model.info[\"average_qpu_time\"]\n",
    "    data_vector[5] = model.info[\"post_processing_time\"]\n",
    "    data_vector[6] = qhd_tnc_success_count/model.shots\n",
    "    data_vector[7] = TTS(data_vector[4] + data_vector[5], data_vector[6])\n",
    "\n",
    "    # Run Ipopt with random init\n",
    "    model.qhd_samples = np.random.rand(model.shots, model.dimension)\n",
    "    model.post_processing_method = \"IPOPT\"\n",
    "    _, current_best, post_processing_time = model.post_process()\n",
    "    ipopt_success_count = count_success_events(current_best_qhd, model.post_processed_samples, model.f_eval, tol)\n",
    "    data_vector[8] = post_processing_time\n",
    "    data_vector[9] = ipopt_success_count/model.shots\n",
    "\n",
    "    # Run TNC with random init\n",
    "    model.post_processing_method = \"TNC\"\n",
    "    model.num_occurrences = np.ones(model.shots, dtype=int)\n",
    "    _, _, post_processing_time = model.post_process()\n",
    "    tnc_success_count = count_success_events(current_best_qhd, model.post_processed_samples, model.f_eval, tol)\n",
    "\n",
    "    data_vector[10] = post_processing_time\n",
    "    data_vector[11] = tnc_success_count/model.shots\n",
    "\n",
    "    return data_vector\n"
   ]
  },
  {
   "cell_type": "markdown",
   "source": [
    "<h3> Running benchmark on 10 problems</>"
   ],
   "metadata": {
    "collapsed": false
   }
  },
  {
   "cell_type": "markdown",
   "metadata": {},
   "source": [
    "## Penalty Ratio = 1"
   ]
  },
  {
   "cell_type": "code",
   "execution_count": 20,
   "metadata": {},
   "outputs": [
    {
     "name": "stdout",
     "output_type": "stream",
     "text": [
      "Test problem 0:\n"
     ]
    },
    {
     "ename": "KeyboardInterrupt",
     "evalue": "",
     "output_type": "error",
     "traceback": [
      "\u001B[0;31m---------------------------------------------------------------------------\u001B[0m",
      "\u001B[0;31mKeyboardInterrupt\u001B[0m                         Traceback (most recent call last)",
      "Cell \u001B[0;32mIn[20], line 6\u001B[0m\n\u001B[1;32m      4\u001B[0m \u001B[38;5;28mprint\u001B[39m(\u001B[38;5;124mf\u001B[39m\u001B[38;5;124m\"\u001B[39m\u001B[38;5;124mTest problem \u001B[39m\u001B[38;5;132;01m{\u001B[39;00mi\u001B[38;5;132;01m}\u001B[39;00m\u001B[38;5;124m:\u001B[39m\u001B[38;5;124m\"\u001B[39m)\n\u001B[1;32m      5\u001B[0m function, free_vars \u001B[38;5;241m=\u001B[39m functions[i]\n\u001B[0;32m----> 6\u001B[0m data[i] \u001B[38;5;241m=\u001B[39m \u001B[43mrun_test\u001B[49m\u001B[43m(\u001B[49m\u001B[43mfunction\u001B[49m\u001B[43m,\u001B[49m\u001B[43m \u001B[49m\u001B[43mfree_vars\u001B[49m\u001B[43m,\u001B[49m\u001B[43m \u001B[49m\u001B[43mtol\u001B[49m\u001B[43m,\u001B[49m\u001B[43m \u001B[49m\u001B[43mpenalty_ratio\u001B[49m\u001B[43m)\u001B[49m\n",
      "Cell \u001B[0;32mIn[17], line 6\u001B[0m, in \u001B[0;36mrun_test\u001B[0;34m(func, syms, tol, penalty_ratio)\u001B[0m\n\u001B[1;32m      4\u001B[0m model\u001B[38;5;241m.\u001B[39mdwave_setup(resolution, numruns, api_key\u001B[38;5;241m=\u001B[39mapi_key, embedding_scheme\u001B[38;5;241m=\u001B[39membedding_scheme, anneal_schedule\u001B[38;5;241m=\u001B[39manneal_schedule, penalty_coefficient\u001B[38;5;241m=\u001B[39mpenalty_coefficient, penalty_ratio\u001B[38;5;241m=\u001B[39mpenalty_ratio, post_processing_method\u001B[38;5;241m=\u001B[39m\u001B[38;5;124m\"\u001B[39m\u001B[38;5;124mIPOPT\u001B[39m\u001B[38;5;124m\"\u001B[39m)\n\u001B[1;32m      5\u001B[0m \u001B[38;5;66;03m# Run QHD with post-processor = Ipopt\u001B[39;00m\n\u001B[0;32m----> 6\u001B[0m current_best_qhd \u001B[38;5;241m=\u001B[39m \u001B[43mmodel\u001B[49m\u001B[38;5;241;43m.\u001B[39;49m\u001B[43moptimize\u001B[49m\u001B[43m(\u001B[49m\u001B[43m)\u001B[49m\n\u001B[1;32m      7\u001B[0m qhd_ipopt_success_count \u001B[38;5;241m=\u001B[39m count_success_events(current_best_qhd, model\u001B[38;5;241m.\u001B[39mpost_processed_samples, model\u001B[38;5;241m.\u001B[39mf_eval, tol)\n\u001B[1;32m      8\u001B[0m data_vector[\u001B[38;5;241m0\u001B[39m] \u001B[38;5;241m=\u001B[39m model[\u001B[38;5;124m\"\u001B[39m\u001B[38;5;124minfo\u001B[39m\u001B[38;5;124m\"\u001B[39m][\u001B[38;5;124m\"\u001B[39m\u001B[38;5;124maverage_qpu_time\u001B[39m\u001B[38;5;124m\"\u001B[39m]\n",
      "File \u001B[0;32m~/Documents/GitHub/QHDOPT-dev/src/qhdopt/interface.py:664\u001B[0m, in \u001B[0;36mQHD.optimize\u001B[0;34m(self, fine_tune, verbose)\u001B[0m\n\u001B[1;32m    661\u001B[0m \u001B[38;5;28mself\u001B[39m\u001B[38;5;241m.\u001B[39mqubits \u001B[38;5;241m=\u001B[39m [Qubit(\u001B[38;5;28mself\u001B[39m\u001B[38;5;241m.\u001B[39mqs) \u001B[38;5;28;01mfor\u001B[39;00m _ \u001B[38;5;129;01min\u001B[39;00m \u001B[38;5;28mrange\u001B[39m(\u001B[38;5;28mself\u001B[39m\u001B[38;5;241m.\u001B[39mdimension \u001B[38;5;241m*\u001B[39m \u001B[38;5;28mself\u001B[39m\u001B[38;5;241m.\u001B[39mr)]\n\u001B[1;32m    663\u001B[0m \u001B[38;5;28;01mif\u001B[39;00m \u001B[38;5;28mself\u001B[39m\u001B[38;5;241m.\u001B[39mbackend \u001B[38;5;241m==\u001B[39m \u001B[38;5;124m\"\u001B[39m\u001B[38;5;124mdwave\u001B[39m\u001B[38;5;124m\"\u001B[39m:\n\u001B[0;32m--> 664\u001B[0m     raw_samples \u001B[38;5;241m=\u001B[39m \u001B[38;5;28;43mself\u001B[39;49m\u001B[38;5;241;43m.\u001B[39;49m\u001B[43mdwave_exec\u001B[49m\u001B[43m(\u001B[49m\u001B[43mverbose\u001B[49m\u001B[38;5;241;43m=\u001B[39;49m\u001B[43mverbose\u001B[49m\u001B[43m)\u001B[49m\n\u001B[1;32m    665\u001B[0m \u001B[38;5;28;01melif\u001B[39;00m \u001B[38;5;28mself\u001B[39m\u001B[38;5;241m.\u001B[39mbackend \u001B[38;5;241m==\u001B[39m \u001B[38;5;124m\"\u001B[39m\u001B[38;5;124mionq\u001B[39m\u001B[38;5;124m\"\u001B[39m:\n\u001B[1;32m    666\u001B[0m     raw_samples \u001B[38;5;241m=\u001B[39m \u001B[38;5;28mself\u001B[39m\u001B[38;5;241m.\u001B[39mionq_exec(verbose\u001B[38;5;241m=\u001B[39mverbose, with_noise\u001B[38;5;241m=\u001B[39m\u001B[38;5;28;01mTrue\u001B[39;00m)\n",
      "File \u001B[0;32m~/Documents/GitHub/QHDOPT-dev/src/qhdopt/interface.py:355\u001B[0m, in \u001B[0;36mQHD.dwave_exec\u001B[0;34m(self, verbose)\u001B[0m\n\u001B[1;32m    352\u001B[0m \u001B[38;5;28mself\u001B[39m\u001B[38;5;241m.\u001B[39mprvd \u001B[38;5;241m=\u001B[39m dwp\n\u001B[1;32m    354\u001B[0m \u001B[38;5;28mself\u001B[39m\u001B[38;5;241m.\u001B[39minfo[\u001B[38;5;124m\"\u001B[39m\u001B[38;5;124mtime_start_compile\u001B[39m\u001B[38;5;124m\"\u001B[39m] \u001B[38;5;241m=\u001B[39m time\u001B[38;5;241m.\u001B[39mtime()\n\u001B[0;32m--> 355\u001B[0m \u001B[43mdwp\u001B[49m\u001B[38;5;241m.\u001B[39mcompile(\u001B[38;5;28mself\u001B[39m\u001B[38;5;241m.\u001B[39mqs, \u001B[38;5;28mself\u001B[39m\u001B[38;5;241m.\u001B[39manneal_schedule, chain_strength, \u001B[38;5;28mself\u001B[39m\u001B[38;5;241m.\u001B[39mshots)\n\u001B[1;32m    356\u001B[0m \u001B[38;5;28mself\u001B[39m\u001B[38;5;241m.\u001B[39minfo[\u001B[38;5;124m\"\u001B[39m\u001B[38;5;124mtime_end_compile\u001B[39m\u001B[38;5;124m\"\u001B[39m] \u001B[38;5;241m=\u001B[39m time\u001B[38;5;241m.\u001B[39mtime()\n\u001B[1;32m    357\u001B[0m \u001B[38;5;28;01mif\u001B[39;00m verbose \u001B[38;5;241m>\u001B[39m \u001B[38;5;241m1\u001B[39m:\n",
      "File \u001B[0;32m~/Documents/GitHub/QHDOPT-dev/src/qhdopt/interface.py:355\u001B[0m, in \u001B[0;36mQHD.dwave_exec\u001B[0;34m(self, verbose)\u001B[0m\n\u001B[1;32m    352\u001B[0m \u001B[38;5;28mself\u001B[39m\u001B[38;5;241m.\u001B[39mprvd \u001B[38;5;241m=\u001B[39m dwp\n\u001B[1;32m    354\u001B[0m \u001B[38;5;28mself\u001B[39m\u001B[38;5;241m.\u001B[39minfo[\u001B[38;5;124m\"\u001B[39m\u001B[38;5;124mtime_start_compile\u001B[39m\u001B[38;5;124m\"\u001B[39m] \u001B[38;5;241m=\u001B[39m time\u001B[38;5;241m.\u001B[39mtime()\n\u001B[0;32m--> 355\u001B[0m \u001B[43mdwp\u001B[49m\u001B[38;5;241m.\u001B[39mcompile(\u001B[38;5;28mself\u001B[39m\u001B[38;5;241m.\u001B[39mqs, \u001B[38;5;28mself\u001B[39m\u001B[38;5;241m.\u001B[39manneal_schedule, chain_strength, \u001B[38;5;28mself\u001B[39m\u001B[38;5;241m.\u001B[39mshots)\n\u001B[1;32m    356\u001B[0m \u001B[38;5;28mself\u001B[39m\u001B[38;5;241m.\u001B[39minfo[\u001B[38;5;124m\"\u001B[39m\u001B[38;5;124mtime_end_compile\u001B[39m\u001B[38;5;124m\"\u001B[39m] \u001B[38;5;241m=\u001B[39m time\u001B[38;5;241m.\u001B[39mtime()\n\u001B[1;32m    357\u001B[0m \u001B[38;5;28;01mif\u001B[39;00m verbose \u001B[38;5;241m>\u001B[39m \u001B[38;5;241m1\u001B[39m:\n",
      "File \u001B[0;32m_pydevd_bundle/pydevd_cython_darwin_39_64.pyx:1179\u001B[0m, in \u001B[0;36m_pydevd_bundle.pydevd_cython_darwin_39_64.SafeCallWrapper.__call__\u001B[0;34m()\u001B[0m\n",
      "File \u001B[0;32m_pydevd_bundle/pydevd_cython_darwin_39_64.pyx:620\u001B[0m, in \u001B[0;36m_pydevd_bundle.pydevd_cython_darwin_39_64.PyDBFrame.trace_dispatch\u001B[0;34m()\u001B[0m\n",
      "File \u001B[0;32m_pydevd_bundle/pydevd_cython_darwin_39_64.pyx:929\u001B[0m, in \u001B[0;36m_pydevd_bundle.pydevd_cython_darwin_39_64.PyDBFrame.trace_dispatch\u001B[0;34m()\u001B[0m\n",
      "File \u001B[0;32m_pydevd_bundle/pydevd_cython_darwin_39_64.pyx:920\u001B[0m, in \u001B[0;36m_pydevd_bundle.pydevd_cython_darwin_39_64.PyDBFrame.trace_dispatch\u001B[0;34m()\u001B[0m\n",
      "File \u001B[0;32m_pydevd_bundle/pydevd_cython_darwin_39_64.pyx:317\u001B[0m, in \u001B[0;36m_pydevd_bundle.pydevd_cython_darwin_39_64.PyDBFrame.do_wait_suspend\u001B[0;34m()\u001B[0m\n",
      "File \u001B[0;32m/Applications/PyCharm.app/Contents/plugins/python/helpers/pydev/pydevd.py:1160\u001B[0m, in \u001B[0;36mPyDB.do_wait_suspend\u001B[0;34m(self, thread, frame, event, arg, send_suspend_message, is_unhandled_exception)\u001B[0m\n\u001B[1;32m   1157\u001B[0m         from_this_thread\u001B[38;5;241m.\u001B[39mappend(frame_id)\n\u001B[1;32m   1159\u001B[0m \u001B[38;5;28;01mwith\u001B[39;00m \u001B[38;5;28mself\u001B[39m\u001B[38;5;241m.\u001B[39m_threads_suspended_single_notification\u001B[38;5;241m.\u001B[39mnotify_thread_suspended(thread_id, stop_reason):\n\u001B[0;32m-> 1160\u001B[0m     \u001B[38;5;28;43mself\u001B[39;49m\u001B[38;5;241;43m.\u001B[39;49m\u001B[43m_do_wait_suspend\u001B[49m\u001B[43m(\u001B[49m\u001B[43mthread\u001B[49m\u001B[43m,\u001B[49m\u001B[43m \u001B[49m\u001B[43mframe\u001B[49m\u001B[43m,\u001B[49m\u001B[43m \u001B[49m\u001B[43mevent\u001B[49m\u001B[43m,\u001B[49m\u001B[43m \u001B[49m\u001B[43marg\u001B[49m\u001B[43m,\u001B[49m\u001B[43m \u001B[49m\u001B[43msuspend_type\u001B[49m\u001B[43m,\u001B[49m\u001B[43m \u001B[49m\u001B[43mfrom_this_thread\u001B[49m\u001B[43m)\u001B[49m\n",
      "File \u001B[0;32m/Applications/PyCharm.app/Contents/plugins/python/helpers/pydev/pydevd.py:1175\u001B[0m, in \u001B[0;36mPyDB._do_wait_suspend\u001B[0;34m(self, thread, frame, event, arg, suspend_type, from_this_thread)\u001B[0m\n\u001B[1;32m   1172\u001B[0m             \u001B[38;5;28mself\u001B[39m\u001B[38;5;241m.\u001B[39m_call_mpl_hook()\n\u001B[1;32m   1174\u001B[0m         \u001B[38;5;28mself\u001B[39m\u001B[38;5;241m.\u001B[39mprocess_internal_commands()\n\u001B[0;32m-> 1175\u001B[0m         \u001B[43mtime\u001B[49m\u001B[38;5;241;43m.\u001B[39;49m\u001B[43msleep\u001B[49m\u001B[43m(\u001B[49m\u001B[38;5;241;43m0.01\u001B[39;49m\u001B[43m)\u001B[49m\n\u001B[1;32m   1177\u001B[0m \u001B[38;5;28mself\u001B[39m\u001B[38;5;241m.\u001B[39mcancel_async_evaluation(get_current_thread_id(thread), \u001B[38;5;28mstr\u001B[39m(\u001B[38;5;28mid\u001B[39m(frame)))\n\u001B[1;32m   1179\u001B[0m \u001B[38;5;66;03m# process any stepping instructions\u001B[39;00m\n",
      "\u001B[0;31mKeyboardInterrupt\u001B[0m: "
     ]
    }
   ],
   "source": [
    "penalty_ratio = 1\n",
    "data = np.zeros((len(functions), 12))\n",
    "for i in range(len(functions)):\n",
    "    print(f\"Test problem {i}:\")\n",
    "    function, free_vars = functions[i]\n",
    "    data[i] = run_test(function, free_vars, tol, penalty_ratio)"
   ]
  },
  {
   "cell_type": "markdown",
   "metadata": {},
   "source": [
    "## Penalty Ratio = 1.2"
   ]
  },
  {
   "cell_type": "code",
   "execution_count": 39,
   "outputs": [],
   "source": [
    "penalty_ratio = 1.2\n",
    "data = np.zeros((len(functions), 12))"
   ],
   "metadata": {
    "collapsed": false
   }
  },
  {
   "cell_type": "code",
   "execution_count": 35,
   "metadata": {},
   "outputs": [
    {
     "name": "stdout",
     "output_type": "stream",
     "text": [
      "Test problem 3:\n",
      "Test problem 4:\n"
     ]
    },
    {
     "ename": "KeyboardInterrupt",
     "evalue": "",
     "output_type": "error",
     "traceback": [
      "\u001B[0;31m---------------------------------------------------------------------------\u001B[0m",
      "\u001B[0;31mKeyboardInterrupt\u001B[0m                         Traceback (most recent call last)",
      "Cell \u001B[0;32mIn[35], line 4\u001B[0m\n\u001B[1;32m      2\u001B[0m \u001B[38;5;28mprint\u001B[39m(\u001B[38;5;124mf\u001B[39m\u001B[38;5;124m\"\u001B[39m\u001B[38;5;124mTest problem \u001B[39m\u001B[38;5;132;01m{\u001B[39;00mi\u001B[38;5;132;01m}\u001B[39;00m\u001B[38;5;124m:\u001B[39m\u001B[38;5;124m\"\u001B[39m)\n\u001B[1;32m      3\u001B[0m function, free_vars \u001B[38;5;241m=\u001B[39m functions[i]\n\u001B[0;32m----> 4\u001B[0m data[i] \u001B[38;5;241m=\u001B[39m \u001B[43mrun_test\u001B[49m\u001B[43m(\u001B[49m\u001B[43mfunction\u001B[49m\u001B[43m,\u001B[49m\u001B[43m \u001B[49m\u001B[43mfree_vars\u001B[49m\u001B[43m,\u001B[49m\u001B[43m \u001B[49m\u001B[43mtol\u001B[49m\u001B[43m,\u001B[49m\u001B[43m \u001B[49m\u001B[43mpenalty_ratio\u001B[49m\u001B[43m)\u001B[49m\n",
      "Cell \u001B[0;32mIn[34], line 6\u001B[0m, in \u001B[0;36mrun_test\u001B[0;34m(func, syms, tol, penalty_ratio)\u001B[0m\n\u001B[1;32m      4\u001B[0m model\u001B[38;5;241m.\u001B[39mdwave_setup(resolution, numruns, api_key\u001B[38;5;241m=\u001B[39mapi_key, embedding_scheme\u001B[38;5;241m=\u001B[39membedding_scheme, anneal_schedule\u001B[38;5;241m=\u001B[39manneal_schedule, penalty_coefficient\u001B[38;5;241m=\u001B[39mpenalty_coefficient, penalty_ratio\u001B[38;5;241m=\u001B[39mpenalty_ratio, post_processing_method\u001B[38;5;241m=\u001B[39m\u001B[38;5;124m\"\u001B[39m\u001B[38;5;124mIPOPT\u001B[39m\u001B[38;5;124m\"\u001B[39m)\n\u001B[1;32m      5\u001B[0m \u001B[38;5;66;03m# Run QHD with post-processor = Ipopt\u001B[39;00m\n\u001B[0;32m----> 6\u001B[0m current_best_qhd \u001B[38;5;241m=\u001B[39m \u001B[43mmodel\u001B[49m\u001B[38;5;241;43m.\u001B[39;49m\u001B[43moptimize\u001B[49m\u001B[43m(\u001B[49m\u001B[43m)\u001B[49m\n\u001B[1;32m      7\u001B[0m qhd_ipopt_success_count \u001B[38;5;241m=\u001B[39m count_success_events(current_best_qhd, model\u001B[38;5;241m.\u001B[39mpost_processed_samples, model\u001B[38;5;241m.\u001B[39mf_eval, tol)\n\u001B[1;32m      8\u001B[0m data_vector[\u001B[38;5;241m0\u001B[39m] \u001B[38;5;241m=\u001B[39m model\u001B[38;5;241m.\u001B[39minfo[\u001B[38;5;124m\"\u001B[39m\u001B[38;5;124maverage_qpu_time\u001B[39m\u001B[38;5;124m\"\u001B[39m]\n",
      "File \u001B[0;32m~/Documents/GitHub/QHDOPT-dev/src/qhdopt/interface.py:683\u001B[0m, in \u001B[0;36mQHD.optimize\u001B[0;34m(self, fine_tune, verbose)\u001B[0m\n\u001B[1;32m    681\u001B[0m \u001B[38;5;28mself\u001B[39m\u001B[38;5;241m.\u001B[39minfo[\u001B[38;5;124m\"\u001B[39m\u001B[38;5;124mfine_tune_status\u001B[39m\u001B[38;5;124m\"\u001B[39m] \u001B[38;5;241m=\u001B[39m fine_tune\n\u001B[1;32m    682\u001B[0m \u001B[38;5;28;01mif\u001B[39;00m fine_tune:\n\u001B[0;32m--> 683\u001B[0m     refined_minimizer, refined_minimum, _ \u001B[38;5;241m=\u001B[39m \u001B[38;5;28;43mself\u001B[39;49m\u001B[38;5;241;43m.\u001B[39;49m\u001B[43mpost_process\u001B[49m\u001B[43m(\u001B[49m\u001B[43m)\u001B[49m\n\u001B[1;32m    684\u001B[0m     \u001B[38;5;28mself\u001B[39m\u001B[38;5;241m.\u001B[39minfo[\u001B[38;5;124m\"\u001B[39m\u001B[38;5;124mrefined_minimizer\u001B[39m\u001B[38;5;124m\"\u001B[39m], \u001B[38;5;28mself\u001B[39m\u001B[38;5;241m.\u001B[39minfo[\u001B[38;5;124m\"\u001B[39m\u001B[38;5;124mrefined_minimum\u001B[39m\u001B[38;5;124m\"\u001B[39m] \u001B[38;5;241m=\u001B[39m (\n\u001B[1;32m    685\u001B[0m         refined_minimizer,\n\u001B[1;32m    686\u001B[0m         refined_minimum,\n\u001B[1;32m    687\u001B[0m     )\n\u001B[1;32m    688\u001B[0m     \u001B[38;5;28mself\u001B[39m\u001B[38;5;241m.\u001B[39minfo[\u001B[38;5;124m\"\u001B[39m\u001B[38;5;124mtime_end_finetuning\u001B[39m\u001B[38;5;124m\"\u001B[39m] \u001B[38;5;241m=\u001B[39m time\u001B[38;5;241m.\u001B[39mtime()\n",
      "File \u001B[0;32m~/Documents/GitHub/QHDOPT-dev/src/qhdopt/interface.py:625\u001B[0m, in \u001B[0;36mQHD.post_process\u001B[0;34m(self)\u001B[0m\n\u001B[1;32m    616\u001B[0m     result \u001B[38;5;241m=\u001B[39m minimize(\n\u001B[1;32m    617\u001B[0m         f_eval_jit,\n\u001B[1;32m    618\u001B[0m         x0,\n\u001B[0;32m   (...)\u001B[0m\n\u001B[1;32m    622\u001B[0m         options\u001B[38;5;241m=\u001B[39m{\u001B[38;5;124m\"\u001B[39m\u001B[38;5;124mgtol\u001B[39m\u001B[38;5;124m\"\u001B[39m: \u001B[38;5;241m1e-6\u001B[39m, \u001B[38;5;124m\"\u001B[39m\u001B[38;5;124meps\u001B[39m\u001B[38;5;124m\"\u001B[39m: \u001B[38;5;241m1e-9\u001B[39m},\n\u001B[1;32m    623\u001B[0m     )\n\u001B[1;32m    624\u001B[0m \u001B[38;5;28;01melif\u001B[39;00m \u001B[38;5;28mself\u001B[39m\u001B[38;5;241m.\u001B[39mpost_processing_method \u001B[38;5;241m==\u001B[39m \u001B[38;5;124m\"\u001B[39m\u001B[38;5;124mIPOPT\u001B[39m\u001B[38;5;124m\"\u001B[39m:\n\u001B[0;32m--> 625\u001B[0m     result \u001B[38;5;241m=\u001B[39m \u001B[43mcyipopt\u001B[49m\u001B[38;5;241;43m.\u001B[39;49m\u001B[43mminimize_ipopt\u001B[49m\u001B[43m(\u001B[49m\n\u001B[1;32m    626\u001B[0m \u001B[43m        \u001B[49m\u001B[43mf_eval_jit\u001B[49m\u001B[43m,\u001B[49m\n\u001B[1;32m    627\u001B[0m \u001B[43m        \u001B[49m\u001B[43mx0\u001B[49m\u001B[43m,\u001B[49m\n\u001B[1;32m    628\u001B[0m \u001B[43m        \u001B[49m\u001B[43mjac\u001B[49m\u001B[38;5;241;43m=\u001B[39;49m\u001B[43mf_eval_grad\u001B[49m\u001B[43m,\u001B[49m\n\u001B[1;32m    629\u001B[0m \u001B[43m        \u001B[49m\u001B[43mhess\u001B[49m\u001B[38;5;241;43m=\u001B[39;49m\u001B[43mobj_hess\u001B[49m\u001B[43m,\u001B[49m\n\u001B[1;32m    630\u001B[0m \u001B[43m        \u001B[49m\u001B[43mbounds\u001B[49m\u001B[38;5;241;43m=\u001B[39;49m\u001B[43mbounds\u001B[49m\u001B[43m,\u001B[49m\n\u001B[1;32m    631\u001B[0m \u001B[43m        \u001B[49m\u001B[43moptions\u001B[49m\u001B[38;5;241;43m=\u001B[39;49m\u001B[43m{\u001B[49m\u001B[38;5;124;43m\"\u001B[39;49m\u001B[38;5;124;43mtol\u001B[39;49m\u001B[38;5;124;43m\"\u001B[39;49m\u001B[43m:\u001B[49m\u001B[43m \u001B[49m\u001B[38;5;241;43m1e-6\u001B[39;49m\u001B[43m,\u001B[49m\u001B[43m \u001B[49m\u001B[38;5;124;43m\"\u001B[39;49m\u001B[38;5;124;43mmax_iter\u001B[39;49m\u001B[38;5;124;43m\"\u001B[39;49m\u001B[43m:\u001B[49m\u001B[43m \u001B[49m\u001B[38;5;241;43m100\u001B[39;49m\u001B[43m}\u001B[49m\u001B[43m,\u001B[49m\n\u001B[1;32m    632\u001B[0m \u001B[43m    \u001B[49m\u001B[43m)\u001B[49m\n\u001B[1;32m    633\u001B[0m \u001B[38;5;28;01melse\u001B[39;00m:\n\u001B[1;32m    634\u001B[0m     \u001B[38;5;28;01mraise\u001B[39;00m \u001B[38;5;167;01mException\u001B[39;00m(\n\u001B[1;32m    635\u001B[0m         \u001B[38;5;124m\"\u001B[39m\u001B[38;5;124mThe Specified Post Processing Method is Not Supported.\u001B[39m\u001B[38;5;124m\"\u001B[39m\n\u001B[1;32m    636\u001B[0m     )\n",
      "File \u001B[0;32m~/miniconda3/envs/QHDOPT-dev/lib/python3.9/site-packages/cyipopt/scipy_interface.py:603\u001B[0m, in \u001B[0;36mminimize_ipopt\u001B[0;34m(fun, x0, args, kwargs, method, jac, hess, hessp, bounds, constraints, tol, callback, options)\u001B[0m\n\u001B[1;32m    600\u001B[0m         msg \u001B[38;5;241m=\u001B[39m \u001B[38;5;124m'\u001B[39m\u001B[38;5;124mInvalid option for IPOPT: \u001B[39m\u001B[38;5;132;01m{0}\u001B[39;00m\u001B[38;5;124m: \u001B[39m\u001B[38;5;132;01m{1}\u001B[39;00m\u001B[38;5;124m (Original message: \u001B[39m\u001B[38;5;124m\"\u001B[39m\u001B[38;5;132;01m{2}\u001B[39;00m\u001B[38;5;124m\"\u001B[39m\u001B[38;5;124m)\u001B[39m\u001B[38;5;124m'\u001B[39m\n\u001B[1;32m    601\u001B[0m         \u001B[38;5;28;01mraise\u001B[39;00m \u001B[38;5;167;01mTypeError\u001B[39;00m(msg\u001B[38;5;241m.\u001B[39mformat(option, value, e))\n\u001B[0;32m--> 603\u001B[0m x, info \u001B[38;5;241m=\u001B[39m \u001B[43mnlp\u001B[49m\u001B[38;5;241;43m.\u001B[39;49m\u001B[43msolve\u001B[49m\u001B[43m(\u001B[49m\u001B[43mx0\u001B[49m\u001B[43m)\u001B[49m\n\u001B[1;32m    605\u001B[0m \u001B[38;5;28;01mreturn\u001B[39;00m OptimizeResult(x\u001B[38;5;241m=\u001B[39mx,\n\u001B[1;32m    606\u001B[0m                       success\u001B[38;5;241m=\u001B[39minfo[\u001B[38;5;124m'\u001B[39m\u001B[38;5;124mstatus\u001B[39m\u001B[38;5;124m'\u001B[39m] \u001B[38;5;241m==\u001B[39m \u001B[38;5;241m0\u001B[39m,\n\u001B[1;32m    607\u001B[0m                       status\u001B[38;5;241m=\u001B[39minfo[\u001B[38;5;124m'\u001B[39m\u001B[38;5;124mstatus\u001B[39m\u001B[38;5;124m'\u001B[39m],\n\u001B[0;32m   (...)\u001B[0m\n\u001B[1;32m    612\u001B[0m                       njev\u001B[38;5;241m=\u001B[39mproblem\u001B[38;5;241m.\u001B[39mnjev,\n\u001B[1;32m    613\u001B[0m                       nit\u001B[38;5;241m=\u001B[39mproblem\u001B[38;5;241m.\u001B[39mnit)\n",
      "File \u001B[0;32m~/miniconda3/envs/QHDOPT-dev/lib/python3.9/site-packages/cyipopt/cython/ipopt_wrapper.pyx:658\u001B[0m, in \u001B[0;36mipopt_wrapper.Problem.solve\u001B[0;34m()\u001B[0m\n",
      "File \u001B[0;32m~/miniconda3/envs/QHDOPT-dev/lib/python3.9/site-packages/cyipopt/cython/ipopt_wrapper.pyx:871\u001B[0m, in \u001B[0;36mipopt_wrapper.objective_cb\u001B[0;34m()\u001B[0m\n",
      "File \u001B[0;32m~/miniconda3/envs/QHDOPT-dev/lib/python3.9/site-packages/cyipopt/scipy_interface.py:191\u001B[0m, in \u001B[0;36mIpoptProblemWrapper.objective\u001B[0;34m(self, x)\u001B[0m\n\u001B[1;32m    188\u001B[0m \u001B[38;5;250m    \u001B[39m\u001B[38;5;124;03m\"\"\" For backwards compatibility. \"\"\"\u001B[39;00m\n\u001B[1;32m    189\u001B[0m     \u001B[38;5;28;01mreturn\u001B[39;00m (\u001B[38;5;28mself\u001B[39m\u001B[38;5;241m.\u001B[39mobjective(x), \u001B[38;5;28mself\u001B[39m\u001B[38;5;241m.\u001B[39mgradient(x, \u001B[38;5;241m*\u001B[39m\u001B[38;5;241m*\u001B[39m\u001B[38;5;28mself\u001B[39m\u001B[38;5;241m.\u001B[39mkwargs))\n\u001B[0;32m--> 191\u001B[0m \u001B[38;5;28;01mdef\u001B[39;00m \u001B[38;5;21mobjective\u001B[39m(\u001B[38;5;28mself\u001B[39m, x):\n\u001B[1;32m    192\u001B[0m     \u001B[38;5;28mself\u001B[39m\u001B[38;5;241m.\u001B[39mnfev \u001B[38;5;241m+\u001B[39m\u001B[38;5;241m=\u001B[39m \u001B[38;5;241m1\u001B[39m\n\u001B[1;32m    193\u001B[0m     \u001B[38;5;28;01mreturn\u001B[39;00m \u001B[38;5;28mself\u001B[39m\u001B[38;5;241m.\u001B[39mfun(x, \u001B[38;5;241m*\u001B[39m\u001B[38;5;28mself\u001B[39m\u001B[38;5;241m.\u001B[39margs, \u001B[38;5;241m*\u001B[39m\u001B[38;5;241m*\u001B[39m\u001B[38;5;28mself\u001B[39m\u001B[38;5;241m.\u001B[39mkwargs)\n",
      "\u001B[0;31mKeyboardInterrupt\u001B[0m: "
     ]
    }
   ],
   "source": [
    "for i in range(3, len(functions)):\n",
    "    print(f\"Test problem {i}:\")\n",
    "    function, free_vars = functions[i]\n",
    "    data[i] = run_test(function, free_vars, tol, penalty_ratio)"
   ]
  }
 ],
 "metadata": {
  "kernelspec": {
   "display_name": "Python 3",
   "language": "python",
   "name": "python3"
  },
  "language_info": {
   "codemirror_mode": {
    "name": "ipython",
    "version": 3
   },
   "file_extension": ".py",
   "mimetype": "text/x-python",
   "name": "python",
   "nbconvert_exporter": "python",
   "pygments_lexer": "ipython3",
   "version": "3.9.18"
  }
 },
 "nbformat": 4,
 "nbformat_minor": 0
}
