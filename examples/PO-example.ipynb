{
 "cells": [
  {
   "cell_type": "code",
   "execution_count": null,
   "id": "da501b3f",
   "metadata": {
    "pycharm": {
     "is_executing": true
    }
   },
   "outputs": [],
   "source": [
    "import sys\n",
    "sys.path.insert(0, '../')\n",
    "from qhdopt import QHD\n",
    "from sympy import symbols"
   ]
  },
  {
   "cell_type": "code",
   "execution_count": null,
   "id": "8a824537",
   "metadata": {
    "pycharm": {
     "is_executing": true
    }
   },
   "outputs": [],
   "source": [
    "x, y, z = symbols('x y z')\n",
    "f = (y**2) * z - x * z + (x**2) * y"
   ]
  },
  {
   "cell_type": "code",
   "execution_count": null,
   "id": "79be7152",
   "metadata": {
    "pycharm": {
     "is_executing": true
    }
   },
   "outputs": [],
   "source": [
    "model = QHD.SymPy(f, [x, y, z])"
   ]
  },
  {
   "cell_type": "code",
   "execution_count": null,
   "id": "e432f07f",
   "metadata": {
    "pycharm": {
     "is_executing": true
    }
   },
   "outputs": [],
   "source": [
    "model.dwave_setup(8, api_key_from_file='../dwave_API_key')"
   ]
  },
  {
   "cell_type": "code",
   "execution_count": null,
   "id": "1756e1ec",
   "metadata": {
    "pycharm": {
     "is_executing": true
    }
   },
   "outputs": [],
   "source": [
    "model.optimize(verbose = 1)"
   ]
  },
  {
   "cell_type": "code",
   "execution_count": null,
   "id": "be108bbd",
   "metadata": {
    "pycharm": {
     "is_executing": true
    }
   },
   "outputs": [],
   "source": [
    "model.qutip_setup(4, time_discretization=40)"
   ]
  },
  {
   "cell_type": "code",
   "execution_count": null,
   "id": "44bb7530",
   "metadata": {
    "pycharm": {
     "is_executing": true
    }
   },
   "outputs": [],
   "source": [
    "model.optimize(verbose = 1)"
   ]
  },
  {
   "cell_type": "code",
   "execution_count": null,
   "id": "186756cb",
   "metadata": {
    "pycharm": {
     "is_executing": true
    }
   },
   "outputs": [],
   "source": [
    "model.ionq_setup(6, api_key_from_file='../ionq_API_key', time_discretization=5, shots = 1000)"
   ]
  },
  {
   "cell_type": "code",
   "execution_count": null,
   "id": "55c0cadc",
   "metadata": {
    "pycharm": {
     "is_executing": true
    }
   },
   "outputs": [],
   "source": [
    "model.optimize(verbose = 1)"
   ]
  }
 ],
 "metadata": {
  "kernelspec": {
   "display_name": "qhdopt",
   "language": "python",
   "name": "qhdopt"
  },
  "language_info": {
   "codemirror_mode": {
    "name": "ipython",
    "version": 3
   },
   "file_extension": ".py",
   "mimetype": "text/x-python",
   "name": "python",
   "nbconvert_exporter": "python",
   "pygments_lexer": "ipython3",
   "version": "3.12.1"
  }
 },
 "nbformat": 4,
 "nbformat_minor": 5
}
