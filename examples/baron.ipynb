{
 "cells": [
  {
   "cell_type": "code",
   "execution_count": null,
   "metadata": {
    "collapsed": true
   },
   "outputs": [],
   "source": [
    "import numpy as np\n",
    "import pyomo.environ as pyo\n",
    "\n",
    "def get_Q_b(problem_num):\n",
    "    with open(f\"resources/50d_instance{problem_num}.npy\", 'rb') as f:\n",
    "        Q = np.load(f)\n",
    "        b = np.load(f)\n",
    "        # global_sol = np.load(f)\n",
    "    return Q, b\n",
    "\n",
    "Q, w = get_Q_b(5)\n",
    "n = len(Q)\n",
    "\n",
    "# Create a model\n",
    "model = pyo.ConcreteModel()\n",
    "\n",
    "# Indices for the variables\n",
    "model.I = range(n)\n",
    "\n",
    "# Variables between 0 and 1\n",
    "model.x = pyo.Var(model.I, within=pyo.UnitInterval)\n",
    "\n",
    "# Objective function: 0.5 * x^T Q x + w^T x\n",
    "def obj_rule(model):\n",
    "    return 0.5 * sum(model.x[i] * Q[i, j] * model.x[j] for i in model.I for j in model.I) + sum(w[i] * model.x[i] for i in model.I)\n",
    "\n",
    "model.objective = pyo.Objective(rule=obj_rule, sense=pyo.minimize)\n",
    "\n",
    "# Solver configuration\n",
    "solver = pyo.SolverFactory('baron')\n",
    "\n",
    "# Solve the model\n",
    "results = solver.solve(model, tee=True)  # tee=True to display solver output\n",
    "\n",
    "# Display the results\n",
    "print(\"Status:\", results.solver.status)\n",
    "print(\"Termination Condition:\", results.solver.termination_condition)\n",
    "\n",
    "for i in model.I:\n",
    "    print(f\"x[{i}] = {pyo.value(model.x[i])}\")"
   ]
  },
  {
   "cell_type": "code",
   "execution_count": null,
   "outputs": [],
   "source": [
    "model = pyo.ConcreteModel()\n",
    "\n",
    "# Index set for the variables\n",
    "model.I = pyo.RangeSet(0, n-1)\n",
    "\n",
    "# Variables, define range for x_i, for example, between 0 and pi\n",
    "model.x = pyo.Var(model.I, bounds=(0, 1))\n",
    "\n",
    "def objective_rule(model):\n",
    "    # Summing over all i, j for the Q_ij * exp(x_i) * exp(x_j) terms\n",
    "    expr1 = sum(0.5 * Q[i, j] * pyo.exp(model.x[i]) * pyo.exp(model.x[j]) for i in model.I for j in model.I)\n",
    "    # Summing over all i for the w_i * exp(-x_i) terms\n",
    "    expr2 = sum(w[i] * pyo.exp(-model.x[i]) for i in model.I)\n",
    "    return expr1 + expr2\n",
    "\n",
    "model.objective = pyo.Objective(rule=objective_rule, sense=pyo.minimize)\n",
    "solver = pyo.SolverFactory('baron')\n",
    "\n",
    "# Solve the model\n",
    "results = solver.solve(model, tee=True)\n",
    "\n",
    "print(\"Status:\", results.solver.status)\n",
    "print(\"Termination Condition:\", results.solver.termination_condition)\n",
    "for i in model.I:\n",
    "    print(f\"x[{i}] = {pyo.value(model.x[i])}\")"
   ],
   "metadata": {
    "collapsed": false
   }
  },
  {
   "cell_type": "code",
   "execution_count": null,
   "outputs": [],
   "source": [],
   "metadata": {
    "collapsed": false
   }
  }
 ],
 "metadata": {
  "kernelspec": {
   "display_name": "Python 3",
   "language": "python",
   "name": "python3"
  },
  "language_info": {
   "codemirror_mode": {
    "name": "ipython",
    "version": 2
   },
   "file_extension": ".py",
   "mimetype": "text/x-python",
   "name": "python",
   "nbconvert_exporter": "python",
   "pygments_lexer": "ipython2",
   "version": "2.7.6"
  }
 },
 "nbformat": 4,
 "nbformat_minor": 0
}
