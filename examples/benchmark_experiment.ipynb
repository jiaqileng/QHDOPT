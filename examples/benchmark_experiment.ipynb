{
 "cells": [
  {
   "cell_type": "code",
   "execution_count": 1,
   "metadata": {
    "collapsed": true
   },
   "outputs": [
    {
     "name": "stderr",
     "output_type": "stream",
     "text": [
      "/Users/samuelkushnir/miniconda3/envs/QHDOPT-dev/lib/python3.9/site-packages/qutip/__init__.py:65: UserWarning: The new version of Cython, (>= 3.0.0) is not supported.\n",
      "  warnings.warn(\n"
     ]
    }
   ],
   "source": [
    "import numpy as np\n",
    "from qhdopt import QHD\n",
    "from qhdopt.utils.benchmark_utils import run_test"
   ]
  },
  {
   "cell_type": "code",
   "execution_count": 2,
   "outputs": [],
   "source": [
    "from sympy import symbols, exp\n",
    "\n",
    "def get_Q_b(problem_num):\n",
    "    with open(f\"resources/50d_instance{problem_num}.npy\", 'rb') as f:\n",
    "        Q = np.load(f)\n",
    "        b = np.load(f)\n",
    "        # global_sol = np.load(f)\n",
    "    return Q, b\n",
    "\n",
    "def create_sympy_func(Q, b):\n",
    "    x = symbols(f\"x:{len(Q)}\")\n",
    "    f = 0\n",
    "    for i in range(len(Q)):\n",
    "        qii = Q[i][i]\n",
    "        bi = b[i]\n",
    "        f += 0.5 * qii * exp(x[i]) * exp(x[i]) + bi * exp(-x[i])\n",
    "    for i in range(len(Q)):\n",
    "        for j in range(i + 1, len(Q)):\n",
    "            f += Q[i][j] * exp(x[i]) * exp(x[j])\n",
    "    return f, list(x)"
   ],
   "metadata": {
    "collapsed": false
   }
  },
  {
   "cell_type": "code",
   "execution_count": 3,
   "outputs": [],
   "source": [
    "resolution = 4\n",
    "anneal_schedule = [[0,0],[20, 1]]\n",
    "numruns = 1000\n",
    "backend = \"dwave\"\n",
    "tol = 1e-3\n",
    "api_key_file = \"/Users/samuelkushnir/Documents/dwave_api_key.txt\"\n",
    "embedding_scheme = \"unary\"\n",
    "NUM_PROBLEMS = 5"
   ],
   "metadata": {
    "collapsed": false
   }
  },
  {
   "cell_type": "code",
   "execution_count": 4,
   "outputs": [],
   "source": [
    "QP_problems = [get_Q_b(i) for i in range(1, NUM_PROBLEMS + 1)]\n",
    "data = np.zeros((len(QP_problems)*2, 16))"
   ],
   "metadata": {
    "collapsed": false
   }
  },
  {
   "cell_type": "code",
   "execution_count": 5,
   "outputs": [
    {
     "name": "stdout",
     "output_type": "stream",
     "text": [
      "Test problem 0:\n",
      "\n",
      "******************************************************************************\n",
      "This program contains Ipopt, a library for large-scale nonlinear optimization.\n",
      " Ipopt is released as open source code under the Eclipse Public License (EPL).\n",
      "         For more information visit https://github.com/coin-or/Ipopt\n",
      "******************************************************************************\n",
      "\n",
      "Test problem 1:\n",
      "Test problem 2:\n",
      "Test problem 3:\n",
      "Test problem 4:\n"
     ]
    }
   ],
   "source": [
    "# QP Problems\n",
    "for i in range(NUM_PROBLEMS):\n",
    "    print(f\"Test problem {i}:\")\n",
    "    model = QHD.QP(*QP_problems[i])\n",
    "    model.dwave_setup(resolution, numruns, api_key_from_file=api_key_file, embedding_scheme=embedding_scheme, anneal_schedule=anneal_schedule,post_processing_method=\"IPOPT\")\n",
    "    data[i] = run_test(model)"
   ],
   "metadata": {
    "collapsed": false
   }
  },
  {
   "cell_type": "code",
   "execution_count": 7,
   "outputs": [
    {
     "name": "stdout",
     "output_type": "stream",
     "text": [
      "Test problem 0:\n",
      "Test problem 1:\n",
      "Test problem 2:\n",
      "Test problem 3:\n",
      "Test problem 4:\n"
     ]
    }
   ],
   "source": [
    "# Non-QP Problems\n",
    "for i in range(NUM_PROBLEMS):\n",
    "    data_i = NUM_PROBLEMS + i\n",
    "    print(f\"Test problem {i}:\")\n",
    "    model = QHD.SymPy(*create_sympy_func(*QP_problems[i]))\n",
    "    model.dwave_setup(resolution, numruns, api_key_from_file=api_key_file, embedding_scheme=embedding_scheme, anneal_schedule=anneal_schedule,post_processing_method=\"IPOPT\")\n",
    "    data[data_i] = run_test(model)"
   ],
   "metadata": {
    "collapsed": false
   }
  },
  {
   "cell_type": "code",
   "execution_count": null,
   "outputs": [],
   "source": [],
   "metadata": {
    "collapsed": false
   }
  }
 ],
 "metadata": {
  "kernelspec": {
   "display_name": "Python 3",
   "language": "python",
   "name": "python3"
  },
  "language_info": {
   "codemirror_mode": {
    "name": "ipython",
    "version": 2
   },
   "file_extension": ".py",
   "mimetype": "text/x-python",
   "name": "python",
   "nbconvert_exporter": "python",
   "pygments_lexer": "ipython2",
   "version": "2.7.6"
  }
 },
 "nbformat": 4,
 "nbformat_minor": 0
}
