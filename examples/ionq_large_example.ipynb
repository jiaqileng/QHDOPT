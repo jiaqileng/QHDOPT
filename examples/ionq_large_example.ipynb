{
 "cells": [
  {
   "cell_type": "code",
   "execution_count": null,
   "metadata": {},
   "outputs": [],
   "source": [
    "import numpy as np\n",
    "import scipy"
   ]
  },
  {
   "cell_type": "code",
   "execution_count": null,
   "metadata": {},
   "outputs": [],
   "source": [
    "seed = 42\n",
    "\n",
    "np.random.seed(seed)\n",
    "\n",
    "n = 50\n",
    "U = scipy.stats.ortho_group(n, seed).rvs()\n",
    "eig = np.random.normal(-10, 5, (n))\n",
    "Q = U.T @ np.diag(eig) @ U\n",
    "w = np.random.normal(0, 10, (n))"
   ]
  },
  {
   "cell_type": "code",
   "execution_count": null,
   "metadata": {},
   "outputs": [],
   "source": [
    "from qhdopt import QHD\n",
    "\n",
    "model = QHD.QP(Q, w)\n",
    "model.ionq_setup(resolution=4, api_key=\"\", time_discretization=10, compile_only=True)\n",
    "model.compile_only()\n",
    "c = model.qhd_base.backend.get_circuit()"
   ]
  }
 ],
 "metadata": {
  "kernelspec": {
   "display_name": "qhdopt",
   "language": "python",
   "name": "python3"
  },
  "language_info": {
   "codemirror_mode": {
    "name": "ipython",
    "version": 3
   },
   "file_extension": ".py",
   "mimetype": "text/x-python",
   "name": "python",
   "nbconvert_exporter": "python",
   "pygments_lexer": "ipython3",
   "version": "3.12.5"
  }
 },
 "nbformat": 4,
 "nbformat_minor": 2
}
