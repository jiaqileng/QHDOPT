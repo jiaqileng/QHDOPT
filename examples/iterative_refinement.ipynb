{
 "cells": [
  {
   "cell_type": "code",
   "execution_count": 1,
   "outputs": [
    {
     "name": "stderr",
     "output_type": "stream",
     "text": [
      "/Users/samuelkushnir/miniconda3/envs/QHDOPT-dev/lib/python3.9/site-packages/qutip/__init__.py:65: UserWarning: The new version of Cython, (>= 3.0.0) is not supported.\n",
      "  warnings.warn(\n"
     ]
    }
   ],
   "source": [
    "import sys\n",
    "sys.path.insert(0, '../')\n",
    "import numpy as np\n",
    "import mpmath\n",
    "from iterative_refinement_utils import IR_QHD"
   ],
   "metadata": {
    "collapsed": false
   }
  },
  {
   "cell_type": "code",
   "execution_count": 2,
   "outputs": [
    {
     "name": "stdout",
     "output_type": "stream",
     "text": [
      "Error at 1th step: 0.10000014305114740542634876874217297881841659545898\n",
      "Error at 2th step: 0.025000125169753972809161268742172978818416595458984\n"
     ]
    },
    {
     "ename": "KeyboardInterrupt",
     "evalue": "",
     "output_type": "error",
     "traceback": [
      "\u001B[0;31m---------------------------------------------------------------------------\u001B[0m",
      "\u001B[0;31mKeyboardInterrupt\u001B[0m                         Traceback (most recent call last)",
      "Cell \u001B[0;32mIn[2], line 15\u001B[0m\n\u001B[1;32m     11\u001B[0m \u001B[38;5;66;03m# Calculate b using mpmath's dot product\u001B[39;00m\n\u001B[1;32m     12\u001B[0m b_mpmath \u001B[38;5;241m=\u001B[39m A_mpmath \u001B[38;5;241m*\u001B[39m x_mpmath\n\u001B[0;32m---> 15\u001B[0m res, c \u001B[38;5;241m=\u001B[39m \u001B[43mIR_QHD\u001B[49m\u001B[43m(\u001B[49m\u001B[43mA_mpmath\u001B[49m\u001B[43m,\u001B[49m\u001B[43m \u001B[49m\u001B[43mb_mpmath\u001B[49m\u001B[43m,\u001B[49m\u001B[43m \u001B[49m\u001B[38;5;241;43m1e-16\u001B[39;49m\u001B[43m)\u001B[49m\n",
      "File \u001B[0;32m~/Documents/GitHub/QHDOPT/examples/iterative_refinement_utils.py:31\u001B[0m, in \u001B[0;36mIR_QHD\u001B[0;34m(matrix, vector, IRprecision)\u001B[0m\n\u001B[1;32m     29\u001B[0m res\u001B[38;5;241m=\u001B[39m[]\n\u001B[1;32m     30\u001B[0m \u001B[38;5;28;01mwhile\u001B[39;00m np\u001B[38;5;241m.\u001B[39mlinalg\u001B[38;5;241m.\u001B[39mnorm(r)\u001B[38;5;241m>\u001B[39mIRprecision:\n\u001B[0;32m---> 31\u001B[0m     c \u001B[38;5;241m=\u001B[39m \u001B[43mrun_qhd\u001B[49m\u001B[43m(\u001B[49m\u001B[43mto_numpy\u001B[49m\u001B[43m(\u001B[49m\u001B[43mmatrix\u001B[49m\u001B[43m)\u001B[49m\u001B[43m,\u001B[49m\u001B[43m \u001B[49m\u001B[43mnabla\u001B[49m\u001B[38;5;241;43m*\u001B[39;49m\u001B[43mr\u001B[49m\u001B[43m)\u001B[49m\n\u001B[1;32m     32\u001B[0m     c \u001B[38;5;241m=\u001B[39m mpmath\u001B[38;5;241m.\u001B[39mmatrix(c)\n\u001B[1;32m     33\u001B[0m     x \u001B[38;5;241m=\u001B[39m x \u001B[38;5;241m+\u001B[39m (\u001B[38;5;241m1\u001B[39m\u001B[38;5;241m/\u001B[39mnabla)\u001B[38;5;241m*\u001B[39mc                           \u001B[38;5;66;03m# Updating solution\u001B[39;00m\n",
      "File \u001B[0;32m~/Documents/GitHub/QHDOPT/examples/iterative_refinement_utils.py:14\u001B[0m, in \u001B[0;36mrun_qhd\u001B[0;34m(matrix, vector)\u001B[0m\n\u001B[1;32m     12\u001B[0m model \u001B[38;5;241m=\u001B[39m QHD\u001B[38;5;241m.\u001B[39mQP(matrix, vector, bounds\u001B[38;5;241m=\u001B[39m(\u001B[38;5;241m-\u001B[39m\u001B[38;5;241m1\u001B[39m, \u001B[38;5;241m1\u001B[39m))\n\u001B[1;32m     13\u001B[0m model\u001B[38;5;241m.\u001B[39mdwave_setup(\u001B[38;5;241m20\u001B[39m, api_key_from_file\u001B[38;5;241m=\u001B[39m\u001B[38;5;124m'\u001B[39m\u001B[38;5;124m/Users/samuelkushnir/Documents/dwave_api_key.txt\u001B[39m\u001B[38;5;124m'\u001B[39m, embedding_scheme\u001B[38;5;241m=\u001B[39m\u001B[38;5;124m\"\u001B[39m\u001B[38;5;124mhamming\u001B[39m\u001B[38;5;124m\"\u001B[39m)\n\u001B[0;32m---> 14\u001B[0m response \u001B[38;5;241m=\u001B[39m \u001B[43mmodel\u001B[49m\u001B[38;5;241;43m.\u001B[39;49m\u001B[43moptimize\u001B[49m\u001B[43m(\u001B[49m\u001B[43mverbose\u001B[49m\u001B[38;5;241;43m=\u001B[39;49m\u001B[38;5;241;43m0\u001B[39;49m\u001B[43m,\u001B[49m\u001B[43m \u001B[49m\u001B[43mfine_tune\u001B[49m\u001B[38;5;241;43m=\u001B[39;49m\u001B[38;5;28;43;01mFalse\u001B[39;49;00m\u001B[43m)\u001B[49m\n\u001B[1;32m     15\u001B[0m \u001B[38;5;28;01mreturn\u001B[39;00m response\u001B[38;5;241m.\u001B[39mminimizer\n",
      "File \u001B[0;32m~/Documents/GitHub/QHDOPT/src/qhdopt/qhd.py:230\u001B[0m, in \u001B[0;36mQHD.optimize\u001B[0;34m(self, fine_tune, compile_only, verbose)\u001B[0m\n\u001B[1;32m    229\u001B[0m \u001B[38;5;28;01mdef\u001B[39;00m \u001B[38;5;21moptimize\u001B[39m(\u001B[38;5;28mself\u001B[39m, fine_tune\u001B[38;5;241m=\u001B[39m\u001B[38;5;28;01mTrue\u001B[39;00m, compile_only\u001B[38;5;241m=\u001B[39m\u001B[38;5;28;01mFalse\u001B[39;00m, verbose\u001B[38;5;241m=\u001B[39m\u001B[38;5;241m0\u001B[39m):\n\u001B[0;32m--> 230\u001B[0m     raw_samples \u001B[38;5;241m=\u001B[39m \u001B[38;5;28;43mself\u001B[39;49m\u001B[38;5;241;43m.\u001B[39;49m\u001B[43mbackend\u001B[49m\u001B[38;5;241;43m.\u001B[39;49m\u001B[43mexec\u001B[49m\u001B[43m(\u001B[49m\u001B[43mverbose\u001B[49m\u001B[38;5;241;43m=\u001B[39;49m\u001B[43mverbose\u001B[49m\u001B[43m,\u001B[49m\u001B[43m \u001B[49m\u001B[43minfo\u001B[49m\u001B[38;5;241;43m=\u001B[39;49m\u001B[38;5;28;43mself\u001B[39;49m\u001B[38;5;241;43m.\u001B[39;49m\u001B[43minfo\u001B[49m\u001B[43m,\u001B[49m\u001B[43m \u001B[49m\u001B[43mcompile_only\u001B[49m\u001B[38;5;241;43m=\u001B[39;49m\u001B[43mcompile_only\u001B[49m\u001B[43m)\u001B[49m\n\u001B[1;32m    232\u001B[0m     \u001B[38;5;28;01mif\u001B[39;00m compile_only:\n\u001B[1;32m    233\u001B[0m         \u001B[38;5;28;01mreturn\u001B[39;00m\n",
      "File \u001B[0;32m~/Documents/GitHub/QHDOPT/src/qhdopt/backend/dwave_backend.py:75\u001B[0m, in \u001B[0;36mDWaveBackend.exec\u001B[0;34m(self, verbose, info, compile_only)\u001B[0m\n\u001B[1;32m     73\u001B[0m     \u001B[38;5;28mprint\u001B[39m(\u001B[38;5;124m\"\u001B[39m\u001B[38;5;124mSubmit Task to D-Wave:\u001B[39m\u001B[38;5;124m\"\u001B[39m)\n\u001B[1;32m     74\u001B[0m     \u001B[38;5;28mprint\u001B[39m(time\u001B[38;5;241m.\u001B[39mstrftime(\u001B[38;5;124m\"\u001B[39m\u001B[38;5;124m%\u001B[39m\u001B[38;5;124mY-\u001B[39m\u001B[38;5;124m%\u001B[39m\u001B[38;5;124mm-\u001B[39m\u001B[38;5;132;01m%d\u001B[39;00m\u001B[38;5;124m \u001B[39m\u001B[38;5;124m%\u001B[39m\u001B[38;5;124mH:\u001B[39m\u001B[38;5;124m%\u001B[39m\u001B[38;5;124mM:\u001B[39m\u001B[38;5;124m%\u001B[39m\u001B[38;5;124mS\u001B[39m\u001B[38;5;124m\"\u001B[39m, time\u001B[38;5;241m.\u001B[39mgmtime()))\n\u001B[0;32m---> 75\u001B[0m \u001B[43mdwp\u001B[49m\u001B[38;5;241;43m.\u001B[39;49m\u001B[43mrun\u001B[49m\u001B[43m(\u001B[49m\u001B[43mshots\u001B[49m\u001B[38;5;241;43m=\u001B[39;49m\u001B[38;5;28;43mself\u001B[39;49m\u001B[38;5;241;43m.\u001B[39;49m\u001B[43mshots\u001B[49m\u001B[43m)\u001B[49m\n\u001B[1;32m     76\u001B[0m info[\u001B[38;5;124m\"\u001B[39m\u001B[38;5;124mbackend_time\u001B[39m\u001B[38;5;124m\"\u001B[39m] \u001B[38;5;241m=\u001B[39m time\u001B[38;5;241m.\u001B[39mtime() \u001B[38;5;241m-\u001B[39m end_compile_time\n\u001B[1;32m     77\u001B[0m info[\u001B[38;5;124m\"\u001B[39m\u001B[38;5;124maverage_qpu_time\u001B[39m\u001B[38;5;124m\"\u001B[39m] \u001B[38;5;241m=\u001B[39m dwp\u001B[38;5;241m.\u001B[39mavg_qpu_time\n",
      "File \u001B[0;32m~/Documents/GitHub/SimuQ/src/simuq/dwave/dwave_provider.py:73\u001B[0m, in \u001B[0;36mDWaveProvider.run\u001B[0;34m(self, shots)\u001B[0m\n\u001B[1;32m     66\u001B[0m h, J, anneal_schedule \u001B[38;5;241m=\u001B[39m \u001B[38;5;28mself\u001B[39m\u001B[38;5;241m.\u001B[39mprog\n\u001B[1;32m     67\u001B[0m response \u001B[38;5;241m=\u001B[39m sampler\u001B[38;5;241m.\u001B[39msample_ising(h, J,\n\u001B[1;32m     68\u001B[0m                                chain_strength\u001B[38;5;241m=\u001B[39m\u001B[38;5;28mself\u001B[39m\u001B[38;5;241m.\u001B[39mchain_strength,\n\u001B[1;32m     69\u001B[0m                                num_reads\u001B[38;5;241m=\u001B[39m\u001B[38;5;28mself\u001B[39m\u001B[38;5;241m.\u001B[39mshots,\n\u001B[1;32m     70\u001B[0m                                anneal_schedule\u001B[38;5;241m=\u001B[39manneal_schedule,\n\u001B[1;32m     71\u001B[0m                                answer_mode\u001B[38;5;241m=\u001B[39m\u001B[38;5;124m\"\u001B[39m\u001B[38;5;124mraw\u001B[39m\u001B[38;5;124m\"\u001B[39m\n\u001B[1;32m     72\u001B[0m                                 )\n\u001B[0;32m---> 73\u001B[0m \u001B[38;5;28mself\u001B[39m\u001B[38;5;241m.\u001B[39msamples \u001B[38;5;241m=\u001B[39m \u001B[38;5;28mlist\u001B[39m(\u001B[43mresponse\u001B[49m\u001B[38;5;241;43m.\u001B[39;49m\u001B[43msamples\u001B[49m\u001B[43m(\u001B[49m\u001B[43m)\u001B[49m)\n\u001B[1;32m     74\u001B[0m \u001B[38;5;28mself\u001B[39m\u001B[38;5;241m.\u001B[39mtime_on_machine \u001B[38;5;241m=\u001B[39m response\u001B[38;5;241m.\u001B[39minfo[\u001B[38;5;124m'\u001B[39m\u001B[38;5;124mtiming\u001B[39m\u001B[38;5;124m'\u001B[39m][\u001B[38;5;124m'\u001B[39m\u001B[38;5;124mqpu_access_time\u001B[39m\u001B[38;5;124m'\u001B[39m] \u001B[38;5;241m*\u001B[39m \u001B[38;5;241m1e-6\u001B[39m\n\u001B[1;32m     75\u001B[0m \u001B[38;5;28mself\u001B[39m\u001B[38;5;241m.\u001B[39mavg_qpu_time \u001B[38;5;241m=\u001B[39m response\u001B[38;5;241m.\u001B[39minfo[\u001B[38;5;124m'\u001B[39m\u001B[38;5;124mtiming\u001B[39m\u001B[38;5;124m'\u001B[39m][\u001B[38;5;124m'\u001B[39m\u001B[38;5;124mqpu_access_time\u001B[39m\u001B[38;5;124m'\u001B[39m] \u001B[38;5;241m*\u001B[39m \u001B[38;5;241m10e-6\u001B[39m \u001B[38;5;241m/\u001B[39m \u001B[38;5;28mself\u001B[39m\u001B[38;5;241m.\u001B[39mshots\n",
      "File \u001B[0;32m~/miniconda3/envs/QHDOPT-dev/lib/python3.9/site-packages/dimod/sampleset.py:1215\u001B[0m, in \u001B[0;36mSampleSet.samples\u001B[0;34m(self, n, sorted_by)\u001B[0m\n\u001B[1;32m   1213\u001B[0m     samples \u001B[38;5;241m=\u001B[39m \u001B[38;5;28mself\u001B[39m\u001B[38;5;241m.\u001B[39mrecord\u001B[38;5;241m.\u001B[39msample\n\u001B[1;32m   1214\u001B[0m \u001B[38;5;28;01melse\u001B[39;00m:\n\u001B[0;32m-> 1215\u001B[0m     order \u001B[38;5;241m=\u001B[39m np\u001B[38;5;241m.\u001B[39margsort(\u001B[38;5;28;43mself\u001B[39;49m\u001B[38;5;241;43m.\u001B[39;49m\u001B[43mrecord\u001B[49m[sorted_by])\n\u001B[1;32m   1216\u001B[0m     samples \u001B[38;5;241m=\u001B[39m \u001B[38;5;28mself\u001B[39m\u001B[38;5;241m.\u001B[39mrecord\u001B[38;5;241m.\u001B[39msample[order]\n\u001B[1;32m   1218\u001B[0m \u001B[38;5;28;01mreturn\u001B[39;00m SamplesArray(samples, \u001B[38;5;28mself\u001B[39m\u001B[38;5;241m.\u001B[39mvariables)\n",
      "File \u001B[0;32m~/miniconda3/envs/QHDOPT-dev/lib/python3.9/site-packages/dimod/sampleset.py:1121\u001B[0m, in \u001B[0;36mSampleSet.record\u001B[0;34m(self)\u001B[0m\n\u001B[1;32m   1105\u001B[0m \u001B[38;5;129m@property\u001B[39m\n\u001B[1;32m   1106\u001B[0m \u001B[38;5;28;01mdef\u001B[39;00m \u001B[38;5;21mrecord\u001B[39m(\u001B[38;5;28mself\u001B[39m):\n\u001B[1;32m   1107\u001B[0m \u001B[38;5;250m    \u001B[39m\u001B[38;5;124;03m\"\"\":obj:`numpy.recarray` containing the samples, energies, number of occurences, and other sample data.\u001B[39;00m\n\u001B[1;32m   1108\u001B[0m \n\u001B[1;32m   1109\u001B[0m \u001B[38;5;124;03m    Examples:\u001B[39;00m\n\u001B[0;32m   (...)\u001B[0m\n\u001B[1;32m   1119\u001B[0m \n\u001B[1;32m   1120\u001B[0m \u001B[38;5;124;03m    \"\"\"\u001B[39;00m\n\u001B[0;32m-> 1121\u001B[0m     \u001B[38;5;28;43mself\u001B[39;49m\u001B[38;5;241;43m.\u001B[39;49m\u001B[43mresolve\u001B[49m\u001B[43m(\u001B[49m\u001B[43m)\u001B[49m\n\u001B[1;32m   1122\u001B[0m     \u001B[38;5;28;01mreturn\u001B[39;00m \u001B[38;5;28mself\u001B[39m\u001B[38;5;241m.\u001B[39m_record\n",
      "File \u001B[0;32m~/miniconda3/envs/QHDOPT-dev/lib/python3.9/site-packages/dimod/sampleset.py:1485\u001B[0m, in \u001B[0;36mSampleSet.resolve\u001B[0;34m(self)\u001B[0m\n\u001B[1;32m   1483\u001B[0m \u001B[38;5;66;03m# if it doesn't have the attribute then it is already resolved\u001B[39;00m\n\u001B[1;32m   1484\u001B[0m \u001B[38;5;28;01mif\u001B[39;00m \u001B[38;5;28mhasattr\u001B[39m(\u001B[38;5;28mself\u001B[39m, \u001B[38;5;124m'\u001B[39m\u001B[38;5;124m_future\u001B[39m\u001B[38;5;124m'\u001B[39m):\n\u001B[0;32m-> 1485\u001B[0m     samples \u001B[38;5;241m=\u001B[39m \u001B[38;5;28;43mself\u001B[39;49m\u001B[38;5;241;43m.\u001B[39;49m\u001B[43m_result_hook\u001B[49m\u001B[43m(\u001B[49m\u001B[38;5;28;43mself\u001B[39;49m\u001B[38;5;241;43m.\u001B[39;49m\u001B[43m_future\u001B[49m\u001B[43m)\u001B[49m\n\u001B[1;32m   1486\u001B[0m     \u001B[38;5;28mself\u001B[39m\u001B[38;5;241m.\u001B[39m\u001B[38;5;21m__init__\u001B[39m(samples\u001B[38;5;241m.\u001B[39mrecord, samples\u001B[38;5;241m.\u001B[39mvariables, samples\u001B[38;5;241m.\u001B[39minfo, samples\u001B[38;5;241m.\u001B[39mvartype)\n\u001B[1;32m   1487\u001B[0m     \u001B[38;5;28;01mdel\u001B[39;00m \u001B[38;5;28mself\u001B[39m\u001B[38;5;241m.\u001B[39m_future\n",
      "File \u001B[0;32m~/miniconda3/envs/QHDOPT-dev/lib/python3.9/site-packages/dwave/system/composites/embedding.py:284\u001B[0m, in \u001B[0;36mEmbeddingComposite.sample.<locals>.async_unembed\u001B[0;34m(response)\u001B[0m\n\u001B[1;32m    279\u001B[0m \u001B[38;5;28;01mdef\u001B[39;00m \u001B[38;5;21masync_unembed\u001B[39m(response):\n\u001B[1;32m    280\u001B[0m     \u001B[38;5;66;03m# unembed the sampleset aysnchronously.\u001B[39;00m\n\u001B[1;32m    282\u001B[0m     warninghandler\u001B[38;5;241m.\u001B[39mchain_break(response, embedding)\n\u001B[0;32m--> 284\u001B[0m     sampleset \u001B[38;5;241m=\u001B[39m \u001B[43munembed_sampleset\u001B[49m\u001B[43m(\u001B[49m\u001B[43mresponse\u001B[49m\u001B[43m,\u001B[49m\u001B[43m \u001B[49m\u001B[43membedding\u001B[49m\u001B[43m,\u001B[49m\u001B[43m \u001B[49m\u001B[43msource_bqm\u001B[49m\u001B[38;5;241;43m=\u001B[39;49m\u001B[43mbqm\u001B[49m\u001B[43m,\u001B[49m\n\u001B[1;32m    285\u001B[0m \u001B[43m                                  \u001B[49m\u001B[43mchain_break_method\u001B[49m\u001B[38;5;241;43m=\u001B[39;49m\u001B[43mchain_break_method\u001B[49m\u001B[43m,\u001B[49m\n\u001B[1;32m    286\u001B[0m \u001B[43m                                  \u001B[49m\u001B[43mchain_break_fraction\u001B[49m\u001B[38;5;241;43m=\u001B[39;49m\u001B[43mchain_break_fraction\u001B[49m\u001B[43m,\u001B[49m\n\u001B[1;32m    287\u001B[0m \u001B[43m                                  \u001B[49m\u001B[43mreturn_embedding\u001B[49m\u001B[38;5;241;43m=\u001B[39;49m\u001B[43mreturn_embedding\u001B[49m\u001B[43m)\u001B[49m\n\u001B[1;32m    289\u001B[0m     \u001B[38;5;28;01mif\u001B[39;00m return_embedding:\n\u001B[1;32m    290\u001B[0m         sampleset\u001B[38;5;241m.\u001B[39minfo[\u001B[38;5;124m'\u001B[39m\u001B[38;5;124membedding_context\u001B[39m\u001B[38;5;124m'\u001B[39m]\u001B[38;5;241m.\u001B[39mupdate(\n\u001B[1;32m    291\u001B[0m             embedding_parameters\u001B[38;5;241m=\u001B[39membedding_parameters,\n\u001B[1;32m    292\u001B[0m             chain_strength\u001B[38;5;241m=\u001B[39membedding\u001B[38;5;241m.\u001B[39mchain_strength)\n",
      "File \u001B[0;32m~/miniconda3/envs/QHDOPT-dev/lib/python3.9/site-packages/dwave/embedding/transforms.py:606\u001B[0m, in \u001B[0;36munembed_sampleset\u001B[0;34m(target_sampleset, embedding, source_bqm, chain_break_method, chain_break_fraction, return_embedding)\u001B[0m\n\u001B[1;32m    603\u001B[0m \u001B[38;5;28;01mexcept\u001B[39;00m \u001B[38;5;167;01mKeyError\u001B[39;00m:\n\u001B[1;32m    604\u001B[0m     \u001B[38;5;28;01mraise\u001B[39;00m \u001B[38;5;167;01mValueError\u001B[39;00m(\u001B[38;5;124m\"\u001B[39m\u001B[38;5;124mgiven bqm does not match the embedding\u001B[39m\u001B[38;5;124m\"\u001B[39m)\n\u001B[0;32m--> 606\u001B[0m record \u001B[38;5;241m=\u001B[39m \u001B[43mtarget_sampleset\u001B[49m\u001B[38;5;241;43m.\u001B[39;49m\u001B[43mrecord\u001B[49m\n\u001B[1;32m    608\u001B[0m unembedded, idxs \u001B[38;5;241m=\u001B[39m chain_break_method(target_sampleset, chains)\n\u001B[1;32m    610\u001B[0m reserved \u001B[38;5;241m=\u001B[39m {\u001B[38;5;124m'\u001B[39m\u001B[38;5;124msample\u001B[39m\u001B[38;5;124m'\u001B[39m, \u001B[38;5;124m'\u001B[39m\u001B[38;5;124menergy\u001B[39m\u001B[38;5;124m'\u001B[39m}\n",
      "File \u001B[0;32m~/miniconda3/envs/QHDOPT-dev/lib/python3.9/site-packages/dimod/sampleset.py:1121\u001B[0m, in \u001B[0;36mSampleSet.record\u001B[0;34m(self)\u001B[0m\n\u001B[1;32m   1105\u001B[0m \u001B[38;5;129m@property\u001B[39m\n\u001B[1;32m   1106\u001B[0m \u001B[38;5;28;01mdef\u001B[39;00m \u001B[38;5;21mrecord\u001B[39m(\u001B[38;5;28mself\u001B[39m):\n\u001B[1;32m   1107\u001B[0m \u001B[38;5;250m    \u001B[39m\u001B[38;5;124;03m\"\"\":obj:`numpy.recarray` containing the samples, energies, number of occurences, and other sample data.\u001B[39;00m\n\u001B[1;32m   1108\u001B[0m \n\u001B[1;32m   1109\u001B[0m \u001B[38;5;124;03m    Examples:\u001B[39;00m\n\u001B[0;32m   (...)\u001B[0m\n\u001B[1;32m   1119\u001B[0m \n\u001B[1;32m   1120\u001B[0m \u001B[38;5;124;03m    \"\"\"\u001B[39;00m\n\u001B[0;32m-> 1121\u001B[0m     \u001B[38;5;28;43mself\u001B[39;49m\u001B[38;5;241;43m.\u001B[39;49m\u001B[43mresolve\u001B[49m\u001B[43m(\u001B[49m\u001B[43m)\u001B[49m\n\u001B[1;32m   1122\u001B[0m     \u001B[38;5;28;01mreturn\u001B[39;00m \u001B[38;5;28mself\u001B[39m\u001B[38;5;241m.\u001B[39m_record\n",
      "File \u001B[0;32m~/miniconda3/envs/QHDOPT-dev/lib/python3.9/site-packages/dimod/sampleset.py:1485\u001B[0m, in \u001B[0;36mSampleSet.resolve\u001B[0;34m(self)\u001B[0m\n\u001B[1;32m   1483\u001B[0m \u001B[38;5;66;03m# if it doesn't have the attribute then it is already resolved\u001B[39;00m\n\u001B[1;32m   1484\u001B[0m \u001B[38;5;28;01mif\u001B[39;00m \u001B[38;5;28mhasattr\u001B[39m(\u001B[38;5;28mself\u001B[39m, \u001B[38;5;124m'\u001B[39m\u001B[38;5;124m_future\u001B[39m\u001B[38;5;124m'\u001B[39m):\n\u001B[0;32m-> 1485\u001B[0m     samples \u001B[38;5;241m=\u001B[39m \u001B[38;5;28;43mself\u001B[39;49m\u001B[38;5;241;43m.\u001B[39;49m\u001B[43m_result_hook\u001B[49m\u001B[43m(\u001B[49m\u001B[38;5;28;43mself\u001B[39;49m\u001B[38;5;241;43m.\u001B[39;49m\u001B[43m_future\u001B[49m\u001B[43m)\u001B[49m\n\u001B[1;32m   1486\u001B[0m     \u001B[38;5;28mself\u001B[39m\u001B[38;5;241m.\u001B[39m\u001B[38;5;21m__init__\u001B[39m(samples\u001B[38;5;241m.\u001B[39mrecord, samples\u001B[38;5;241m.\u001B[39mvariables, samples\u001B[38;5;241m.\u001B[39minfo, samples\u001B[38;5;241m.\u001B[39mvartype)\n\u001B[1;32m   1487\u001B[0m     \u001B[38;5;28;01mdel\u001B[39;00m \u001B[38;5;28mself\u001B[39m\u001B[38;5;241m.\u001B[39m_future\n",
      "File \u001B[0;32m~/miniconda3/envs/QHDOPT-dev/lib/python3.9/site-packages/dwave/system/samplers/dwave_sampler.py:439\u001B[0m, in \u001B[0;36mDWaveSampler.sample.<locals>._hook\u001B[0;34m(computation)\u001B[0m\n\u001B[1;32m    436\u001B[0m     \u001B[38;5;28;01mreturn\u001B[39;00m sampleset\n\u001B[1;32m    438\u001B[0m \u001B[38;5;28;01mtry\u001B[39;00m:\n\u001B[0;32m--> 439\u001B[0m     \u001B[38;5;28;01mreturn\u001B[39;00m \u001B[43mresolve\u001B[49m\u001B[43m(\u001B[49m\u001B[43mcomputation\u001B[49m\u001B[43m)\u001B[49m\n\u001B[1;32m    441\u001B[0m \u001B[38;5;28;01mexcept\u001B[39;00m (ProblemUploadError, RequestTimeout, PollingTimeout) \u001B[38;5;28;01mas\u001B[39;00m exc:\n\u001B[1;32m    442\u001B[0m     \u001B[38;5;28;01mif\u001B[39;00m \u001B[38;5;129;01mnot\u001B[39;00m \u001B[38;5;28mself\u001B[39m\u001B[38;5;241m.\u001B[39mfailover:\n",
      "File \u001B[0;32m~/miniconda3/envs/QHDOPT-dev/lib/python3.9/site-packages/dwave/system/samplers/dwave_sampler.py:429\u001B[0m, in \u001B[0;36mDWaveSampler.sample.<locals>._hook.<locals>.resolve\u001B[0;34m(computation)\u001B[0m\n\u001B[1;32m    427\u001B[0m \u001B[38;5;28;01mdef\u001B[39;00m \u001B[38;5;21mresolve\u001B[39m(computation):\n\u001B[1;32m    428\u001B[0m     sampleset \u001B[38;5;241m=\u001B[39m computation\u001B[38;5;241m.\u001B[39msampleset\n\u001B[0;32m--> 429\u001B[0m     \u001B[43msampleset\u001B[49m\u001B[38;5;241;43m.\u001B[39;49m\u001B[43mresolve\u001B[49m\u001B[43m(\u001B[49m\u001B[43m)\u001B[49m\n\u001B[1;32m    431\u001B[0m     \u001B[38;5;28;01mif\u001B[39;00m warninghandler \u001B[38;5;129;01mis\u001B[39;00m \u001B[38;5;129;01mnot\u001B[39;00m \u001B[38;5;28;01mNone\u001B[39;00m:\n\u001B[1;32m    432\u001B[0m         warninghandler\u001B[38;5;241m.\u001B[39mtoo_few_samples(sampleset)\n",
      "File \u001B[0;32m~/miniconda3/envs/QHDOPT-dev/lib/python3.9/site-packages/dimod/sampleset.py:1485\u001B[0m, in \u001B[0;36mSampleSet.resolve\u001B[0;34m(self)\u001B[0m\n\u001B[1;32m   1483\u001B[0m \u001B[38;5;66;03m# if it doesn't have the attribute then it is already resolved\u001B[39;00m\n\u001B[1;32m   1484\u001B[0m \u001B[38;5;28;01mif\u001B[39;00m \u001B[38;5;28mhasattr\u001B[39m(\u001B[38;5;28mself\u001B[39m, \u001B[38;5;124m'\u001B[39m\u001B[38;5;124m_future\u001B[39m\u001B[38;5;124m'\u001B[39m):\n\u001B[0;32m-> 1485\u001B[0m     samples \u001B[38;5;241m=\u001B[39m \u001B[38;5;28;43mself\u001B[39;49m\u001B[38;5;241;43m.\u001B[39;49m\u001B[43m_result_hook\u001B[49m\u001B[43m(\u001B[49m\u001B[38;5;28;43mself\u001B[39;49m\u001B[38;5;241;43m.\u001B[39;49m\u001B[43m_future\u001B[49m\u001B[43m)\u001B[49m\n\u001B[1;32m   1486\u001B[0m     \u001B[38;5;28mself\u001B[39m\u001B[38;5;241m.\u001B[39m\u001B[38;5;21m__init__\u001B[39m(samples\u001B[38;5;241m.\u001B[39mrecord, samples\u001B[38;5;241m.\u001B[39mvariables, samples\u001B[38;5;241m.\u001B[39minfo, samples\u001B[38;5;241m.\u001B[39mvartype)\n\u001B[1;32m   1487\u001B[0m     \u001B[38;5;28;01mdel\u001B[39;00m \u001B[38;5;28mself\u001B[39m\u001B[38;5;241m.\u001B[39m_future\n",
      "File \u001B[0;32m~/miniconda3/envs/QHDOPT-dev/lib/python3.9/site-packages/dwave/cloud/computation.py:823\u001B[0m, in \u001B[0;36mFuture.sampleset.<locals>.<lambda>\u001B[0;34m(f)\u001B[0m\n\u001B[1;32m    818\u001B[0m \u001B[38;5;28;01mexcept\u001B[39;00m \u001B[38;5;167;01mImportError\u001B[39;00m:\n\u001B[1;32m    819\u001B[0m     \u001B[38;5;28;01mraise\u001B[39;00m \u001B[38;5;167;01mRuntimeError\u001B[39;00m(\u001B[38;5;124m\"\u001B[39m\u001B[38;5;124mCan\u001B[39m\u001B[38;5;124m'\u001B[39m\u001B[38;5;124mt construct SampleSet without dimod. \u001B[39m\u001B[38;5;124m\"\u001B[39m\n\u001B[1;32m    820\u001B[0m                        \u001B[38;5;124m\"\u001B[39m\u001B[38;5;124mRe-install the library with \u001B[39m\u001B[38;5;124m'\u001B[39m\u001B[38;5;124mbqm\u001B[39m\u001B[38;5;124m'\u001B[39m\u001B[38;5;124m support.\u001B[39m\u001B[38;5;124m\"\u001B[39m)\n\u001B[1;32m    822\u001B[0m \u001B[38;5;28mself\u001B[39m\u001B[38;5;241m.\u001B[39m_sampleset \u001B[38;5;241m=\u001B[39m sampleset \u001B[38;5;241m=\u001B[39m dimod\u001B[38;5;241m.\u001B[39mSampleSet\u001B[38;5;241m.\u001B[39mfrom_future(\n\u001B[0;32m--> 823\u001B[0m     \u001B[38;5;28mself\u001B[39m, \u001B[38;5;28;01mlambda\u001B[39;00m f: \u001B[43mf\u001B[49m\u001B[38;5;241;43m.\u001B[39;49m\u001B[43mwait_sampleset\u001B[49m\u001B[43m(\u001B[49m\u001B[43m)\u001B[49m)\n\u001B[1;32m    825\u001B[0m \u001B[38;5;66;03m# propagate id to sampleset as well\u001B[39;00m\n\u001B[1;32m    826\u001B[0m \u001B[38;5;66;03m# note: this requires dimod>=0.8.21 (before that version SampleSet\u001B[39;00m\n\u001B[1;32m    827\u001B[0m \u001B[38;5;66;03m# had slots set which prevented dynamic addition of attributes).\u001B[39;00m\n\u001B[1;32m    828\u001B[0m sampleset\u001B[38;5;241m.\u001B[39mwait_id \u001B[38;5;241m=\u001B[39m \u001B[38;5;28mself\u001B[39m\u001B[38;5;241m.\u001B[39mwait_id\n",
      "File \u001B[0;32m~/miniconda3/envs/QHDOPT-dev/lib/python3.9/site-packages/dwave/cloud/computation.py:755\u001B[0m, in \u001B[0;36mFuture.wait_sampleset\u001B[0;34m(self)\u001B[0m\n\u001B[1;32m    752\u001B[0m \u001B[38;5;250m\u001B[39m\u001B[38;5;124;03m\"\"\"Blocking sampleset getter.\"\"\"\u001B[39;00m\n\u001B[1;32m    754\u001B[0m \u001B[38;5;66;03m# blocking result get\u001B[39;00m\n\u001B[0;32m--> 755\u001B[0m result \u001B[38;5;241m=\u001B[39m \u001B[38;5;28;43mself\u001B[39;49m\u001B[38;5;241;43m.\u001B[39;49m\u001B[43m_load_result\u001B[49m\u001B[43m(\u001B[49m\u001B[43m)\u001B[49m\n\u001B[1;32m    757\u001B[0m \u001B[38;5;66;03m# common problem info: id/label\u001B[39;00m\n\u001B[1;32m    758\u001B[0m problem_info \u001B[38;5;241m=\u001B[39m \u001B[38;5;28mdict\u001B[39m(problem_id\u001B[38;5;241m=\u001B[39m\u001B[38;5;28mself\u001B[39m\u001B[38;5;241m.\u001B[39mid)\n",
      "File \u001B[0;32m~/miniconda3/envs/QHDOPT-dev/lib/python3.9/site-packages/dwave/cloud/computation.py:889\u001B[0m, in \u001B[0;36mFuture._load_result\u001B[0;34m(self)\u001B[0m\n\u001B[1;32m    886\u001B[0m \u001B[38;5;250m\u001B[39m\u001B[38;5;124;03m\"\"\"Get the result, waiting and decoding as needed.\"\"\"\u001B[39;00m\n\u001B[1;32m    887\u001B[0m \u001B[38;5;28;01mif\u001B[39;00m \u001B[38;5;28mself\u001B[39m\u001B[38;5;241m.\u001B[39m_result \u001B[38;5;129;01mis\u001B[39;00m \u001B[38;5;28;01mNone\u001B[39;00m:\n\u001B[1;32m    888\u001B[0m     \u001B[38;5;66;03m# Wait for the query response\u001B[39;00m\n\u001B[0;32m--> 889\u001B[0m     \u001B[38;5;28;43mself\u001B[39;49m\u001B[38;5;241;43m.\u001B[39;49m\u001B[43mwait\u001B[49m\u001B[43m(\u001B[49m\u001B[43mtimeout\u001B[49m\u001B[38;5;241;43m=\u001B[39;49m\u001B[38;5;28;43;01mNone\u001B[39;49;00m\u001B[43m)\u001B[49m\n\u001B[1;32m    891\u001B[0m     \u001B[38;5;66;03m# Check for other error conditions\u001B[39;00m\n\u001B[1;32m    892\u001B[0m     \u001B[38;5;28;01mif\u001B[39;00m \u001B[38;5;28mself\u001B[39m\u001B[38;5;241m.\u001B[39m_exception \u001B[38;5;129;01mis\u001B[39;00m \u001B[38;5;129;01mnot\u001B[39;00m \u001B[38;5;28;01mNone\u001B[39;00m:\n",
      "File \u001B[0;32m~/miniconda3/envs/QHDOPT-dev/lib/python3.9/site-packages/dwave/cloud/computation.py:416\u001B[0m, in \u001B[0;36mFuture.wait\u001B[0;34m(self, timeout)\u001B[0m\n\u001B[1;32m    381\u001B[0m \u001B[38;5;28;01mdef\u001B[39;00m \u001B[38;5;21mwait\u001B[39m(\u001B[38;5;28mself\u001B[39m, timeout\u001B[38;5;241m=\u001B[39m\u001B[38;5;28;01mNone\u001B[39;00m):\n\u001B[1;32m    382\u001B[0m \u001B[38;5;250m    \u001B[39m\u001B[38;5;124;03m\"\"\"Wait for the solver to receive a response for a submitted problem.\u001B[39;00m\n\u001B[1;32m    383\u001B[0m \n\u001B[1;32m    384\u001B[0m \u001B[38;5;124;03m    Blocking call that waits for a :class:`Future` object to complete.\u001B[39;00m\n\u001B[0;32m   (...)\u001B[0m\n\u001B[1;32m    414\u001B[0m \u001B[38;5;124;03m        >>> client.close()         # doctest: +SKIP\u001B[39;00m\n\u001B[1;32m    415\u001B[0m \u001B[38;5;124;03m    \"\"\"\u001B[39;00m\n\u001B[0;32m--> 416\u001B[0m     \u001B[38;5;28;01mreturn\u001B[39;00m \u001B[38;5;28;43mself\u001B[39;49m\u001B[38;5;241;43m.\u001B[39;49m\u001B[43m_results_ready_event\u001B[49m\u001B[38;5;241;43m.\u001B[39;49m\u001B[43mwait\u001B[49m\u001B[43m(\u001B[49m\u001B[43mtimeout\u001B[49m\u001B[43m)\u001B[49m\n",
      "File \u001B[0;32m~/miniconda3/envs/QHDOPT-dev/lib/python3.9/threading.py:581\u001B[0m, in \u001B[0;36mEvent.wait\u001B[0;34m(self, timeout)\u001B[0m\n\u001B[1;32m    579\u001B[0m signaled \u001B[38;5;241m=\u001B[39m \u001B[38;5;28mself\u001B[39m\u001B[38;5;241m.\u001B[39m_flag\n\u001B[1;32m    580\u001B[0m \u001B[38;5;28;01mif\u001B[39;00m \u001B[38;5;129;01mnot\u001B[39;00m signaled:\n\u001B[0;32m--> 581\u001B[0m     signaled \u001B[38;5;241m=\u001B[39m \u001B[38;5;28;43mself\u001B[39;49m\u001B[38;5;241;43m.\u001B[39;49m\u001B[43m_cond\u001B[49m\u001B[38;5;241;43m.\u001B[39;49m\u001B[43mwait\u001B[49m\u001B[43m(\u001B[49m\u001B[43mtimeout\u001B[49m\u001B[43m)\u001B[49m\n\u001B[1;32m    582\u001B[0m \u001B[38;5;28;01mreturn\u001B[39;00m signaled\n",
      "File \u001B[0;32m~/miniconda3/envs/QHDOPT-dev/lib/python3.9/threading.py:312\u001B[0m, in \u001B[0;36mCondition.wait\u001B[0;34m(self, timeout)\u001B[0m\n\u001B[1;32m    310\u001B[0m \u001B[38;5;28;01mtry\u001B[39;00m:    \u001B[38;5;66;03m# restore state no matter what (e.g., KeyboardInterrupt)\u001B[39;00m\n\u001B[1;32m    311\u001B[0m     \u001B[38;5;28;01mif\u001B[39;00m timeout \u001B[38;5;129;01mis\u001B[39;00m \u001B[38;5;28;01mNone\u001B[39;00m:\n\u001B[0;32m--> 312\u001B[0m         \u001B[43mwaiter\u001B[49m\u001B[38;5;241;43m.\u001B[39;49m\u001B[43macquire\u001B[49m\u001B[43m(\u001B[49m\u001B[43m)\u001B[49m\n\u001B[1;32m    313\u001B[0m         gotit \u001B[38;5;241m=\u001B[39m \u001B[38;5;28;01mTrue\u001B[39;00m\n\u001B[1;32m    314\u001B[0m     \u001B[38;5;28;01melse\u001B[39;00m:\n",
      "\u001B[0;31mKeyboardInterrupt\u001B[0m: "
     ]
    }
   ],
   "source": [
    "# Set the desired precision (number of decimal places)\n",
    "mpmath.mp.dps = 50  # for example, 50 decimal places\n",
    "# Set A explicitly for this example:\n",
    "A = np.array([[2, 0], [0, 3]])\n",
    "# Convert A to mpmath matrix\n",
    "A_mpmath = mpmath.matrix(A)\n",
    "\n",
    "# High precision x vector\n",
    "x_mpmath = mpmath.matrix([0.5, 0.33333333333333333333])\n",
    "\n",
    "# Calculate b using mpmath's dot product\n",
    "b_mpmath = A_mpmath * x_mpmath\n",
    "\n",
    "\n",
    "res, c = IR_QHD(A_mpmath, b_mpmath, 1e-16)"
   ],
   "metadata": {
    "collapsed": false
   }
  },
  {
   "cell_type": "markdown",
   "source": [
    "Harder Problem"
   ],
   "metadata": {
    "collapsed": false
   }
  },
  {
   "cell_type": "code",
   "execution_count": 4,
   "outputs": [
    {
     "name": "stdout",
     "output_type": "stream",
     "text": [
      "Received Task from D-Wave:\n",
      "2024-02-05 17:17:34\n",
      "Backend QPU Time: 0.02762997\n",
      "Overhead Time: 6.139835955216675\n",
      "\n",
      "0.095146324746063333622592845886094031848068481434762\n",
      "Received Task from D-Wave:\n",
      "2024-02-05 17:17:54\n",
      "Backend QPU Time: 0.02780357\n",
      "Overhead Time: 4.323018401893311\n",
      "\n",
      "0.038338876415363294773416776002613046843878034013572\n",
      "Received Task from D-Wave:\n",
      "2024-02-05 17:18:10\n",
      "Backend QPU Time: 0.03158237\n",
      "Overhead Time: 9.081648812098388\n",
      "\n",
      "0.028768975563847665524706203672308336155140007436724\n",
      "Received Task from D-Wave:\n",
      "2024-02-05 17:18:43\n",
      "Backend QPU Time: 0.02787477\n",
      "Overhead Time: 27.947911200687866\n",
      "\n",
      "0.0063007368883041022814374327888738053938570372388421\n",
      "Received Task from D-Wave:\n",
      "2024-02-05 17:19:11\n",
      "Backend QPU Time: 0.03081677\n",
      "Overhead Time: 27.20747210939453\n",
      "\n",
      "0.0013008472048886950973654562623973295044637715687906\n",
      "Received Task from D-Wave:\n",
      "2024-02-05 17:19:42\n",
      "Backend QPU Time: 0.02798717\n",
      "Overhead Time: 31.279914927702027\n",
      "\n",
      "0.0013183843134461790608344949776018288574300889241562\n",
      "Received Task from D-Wave:\n",
      "2024-02-05 17:19:50\n",
      "Backend QPU Time: 0.02571077\n",
      "Overhead Time: 6.8514051948895265\n",
      "\n",
      "0.001037997299495003655220445607010605510793827294399\n",
      "Received Task from D-Wave:\n",
      "2024-02-05 17:19:56\n",
      "Backend QPU Time: 0.031207969999999998\n",
      "Overhead Time: 5.591908761643677\n",
      "\n",
      "0.00061717448011183475893678031281098615990160776228571\n",
      "Received Task from D-Wave:\n",
      "2024-02-05 17:20:01\n",
      "Backend QPU Time: 0.025434369999999998\n",
      "Overhead Time: 5.2830506611279295\n",
      "\n",
      "0.00029020959525097990077477438555179673784343947647271\n",
      "Received Task from D-Wave:\n",
      "2024-02-05 17:20:07\n",
      "Backend QPU Time: 0.031164769999999998\n",
      "Overhead Time: 4.95979129803894\n",
      "\n",
      "0.000051331537161312172715618060644990416550654481582927\n",
      "Received Task from D-Wave:\n",
      "2024-02-05 17:20:15\n",
      "Backend QPU Time: 0.025528369999999998\n",
      "Overhead Time: 7.977185548685913\n",
      "\n",
      "0.000016715810574992192350368940291326558433387592097693\n",
      "Received Task from D-Wave:\n",
      "2024-02-05 17:20:23\n",
      "Backend QPU Time: 0.030275569999999998\n",
      "Overhead Time: 7.607902540122681\n",
      "\n",
      "0.0000022524035713503783592983688602946861880106232342109\n",
      "Received Task from D-Wave:\n",
      "2024-02-05 17:20:29\n",
      "Backend QPU Time: 0.02820157\n",
      "Overhead Time: 5.769326458488159\n",
      "\n",
      "0.00000050069637872816021205181105196492294798170225060891\n",
      "Received Task from D-Wave:\n",
      "2024-02-05 17:20:36\n",
      "Backend QPU Time: 0.02693037\n",
      "Overhead Time: 7.0226845363110355\n",
      "\n",
      "0.0000003342588408358448875933099939004231505286308321923\n",
      "Received Task from D-Wave:\n",
      "2024-02-05 17:20:41\n",
      "Backend QPU Time: 0.02573557\n",
      "Overhead Time: 4.0900121202008055\n",
      "\n",
      "0.000000073945675123655028878284948453856332453049563720774\n",
      "Received Task from D-Wave:\n",
      "2024-02-05 17:20:46\n",
      "Backend QPU Time: 0.02809797\n",
      "Overhead Time: 4.842515128144531\n",
      "\n",
      "0.0000000088677374522432340978038697340948179904962443127521\n",
      "Received Task from D-Wave:\n",
      "2024-02-05 17:20:52\n",
      "Backend QPU Time: 0.03036957\n",
      "Overhead Time: 5.535034368293457\n",
      "\n",
      "0.00000000073751838354290876945319377822729631333224356195957\n",
      "Received Task from D-Wave:\n",
      "2024-02-05 17:20:58\n",
      "Backend QPU Time: 0.031427569999999995\n",
      "Overhead Time: 5.506741337165527\n",
      "\n",
      "0.00000000073751838354290876945319377822729631333224356195957\n",
      "Received Task from D-Wave:\n",
      "2024-02-05 17:21:03\n",
      "Backend QPU Time: 0.025902369999999997\n",
      "Overhead Time: 4.615968605494385\n",
      "\n",
      "0.00000000029691093918786856878430903784062055652794859897273\n",
      "Received Task from D-Wave:\n",
      "2024-02-05 17:21:08\n",
      "Backend QPU Time: 0.02541597\n",
      "Overhead Time: 5.304665254441528\n",
      "\n",
      "0.000000000014711976305867906517596751083287615802642583023151\n",
      "Received Task from D-Wave:\n",
      "2024-02-05 17:21:14\n",
      "Backend QPU Time: 0.03114717\n",
      "Overhead Time: 5.164621663160401\n",
      "\n",
      "0.00000000000083417637037569679223131303740406480417105092321335\n",
      "Received Task from D-Wave:\n",
      "2024-02-05 17:21:19\n",
      "Backend QPU Time: 0.03057557\n",
      "Overhead Time: 5.1622025405041505\n",
      "\n",
      "0.00000000000083417637037569679223131303740406480417105092321335\n",
      "Received Task from D-Wave:\n",
      "2024-02-05 17:21:25\n",
      "Backend QPU Time: 0.03150157\n",
      "Overhead Time: 4.772593221412354\n",
      "\n",
      "0.00000000000061310032388524481827425489364423617230841404025191\n",
      "Received Task from D-Wave:\n",
      "2024-02-05 17:21:30\n",
      "Backend QPU Time: 0.027941169999999998\n",
      "Overhead Time: 4.951856908536987\n",
      "\n",
      "0.00000000000011322802448071159399071583312452137630264135434227\n",
      "Received Task from D-Wave:\n",
      "2024-02-05 17:21:36\n",
      "Backend QPU Time: 0.03153357\n",
      "Overhead Time: 5.302352338126831\n",
      "\n",
      "0.000000000000096710532695106394007050960206011399167152115144562\n",
      "Received Task from D-Wave:\n",
      "2024-02-05 17:21:41\n",
      "Backend QPU Time: 0.028023169999999997\n",
      "Overhead Time: 5.501077009672241\n",
      "\n",
      "0.0000000000000051886395335365004924968470806777476314495746608858\n",
      "Received Task from D-Wave:\n",
      "2024-02-05 17:21:47\n",
      "Backend QPU Time: 0.03130077\n",
      "Overhead Time: 5.720764173313599\n",
      "\n",
      "0.0000000000000014572563516996013726366713141472989378175430664577\n",
      "Received Task from D-Wave:\n",
      "2024-02-05 17:22:04\n",
      "Backend QPU Time: 0.026105569999999998\n",
      "Overhead Time: 16.4134696253125\n",
      "\n",
      "3.6186243324418523640580646820351644158577670078424e-16\n",
      "Received Task from D-Wave:\n",
      "2024-02-05 17:22:08\n",
      "Backend QPU Time: 0.027207169999999996\n",
      "Overhead Time: 3.883796658048706\n",
      "\n",
      "4.5973457228009677764359529867766552571325339604522e-17\n"
     ]
    }
   ],
   "source": [
    "A = np.array([[2.3413, 1.858], [1.858, 0.563]])\n",
    "# Convert A to mpmath matrix\n",
    "A_mpmath = mpmath.matrix(A)\n",
    "\n",
    "# High precision x vector\n",
    "x_mpmath = mpmath.matrix([0.34987313872918378423, 0.534563452331234876327])\n",
    "A_mpmath = A_mpmath * A_mpmath.transpose()\n",
    "\n",
    "# Calculate b using mpmath's dot product\n",
    "b_mpmath = A_mpmath * x_mpmath\n",
    "\n",
    "\n",
    "res, c = IR_QHD(A_mpmath, b_mpmath, 1e-16)"
   ],
   "metadata": {
    "collapsed": false
   }
  },
  {
   "cell_type": "code",
   "execution_count": 5,
   "outputs": [
    {
     "data": {
      "text/plain": "matrix(\n[['0.34987313872918382465226321281973602935339057456857'],\n ['0.53456345233123487258488309982956639131506721926777']])"
     },
     "execution_count": 5,
     "metadata": {},
     "output_type": "execute_result"
    }
   ],
   "source": [
    "c"
   ],
   "metadata": {
    "collapsed": false
   }
  },
  {
   "cell_type": "code",
   "execution_count": null,
   "outputs": [],
   "source": [],
   "metadata": {
    "collapsed": false
   }
  }
 ],
 "metadata": {
  "kernelspec": {
   "display_name": "Python 3",
   "language": "python",
   "name": "python3"
  },
  "language_info": {
   "codemirror_mode": {
    "name": "ipython",
    "version": 2
   },
   "file_extension": ".py",
   "mimetype": "text/x-python",
   "name": "python",
   "nbconvert_exporter": "python",
   "pygments_lexer": "ipython2",
   "version": "2.7.6"
  }
 },
 "nbformat": 4,
 "nbformat_minor": 0
}
