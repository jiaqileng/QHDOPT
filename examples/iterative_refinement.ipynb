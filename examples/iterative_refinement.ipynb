{
 "cells": [
  {
   "cell_type": "code",
   "execution_count": 8,
   "outputs": [],
   "source": [
    "import sys\n",
    "sys.path.insert(0, '../')\n",
    "from qhdopt import QHD\n",
    "import numpy as np"
   ],
   "metadata": {
    "collapsed": false
   }
  },
  {
   "cell_type": "code",
   "execution_count": 9,
   "outputs": [],
   "source": [
    "Q = np.array([[0.8931, 0.8673],\n",
    "     [0.8673, 0.9079]])\n",
    "b = np.array([0.8483, 0.8762])"
   ],
   "metadata": {
    "collapsed": false
   }
  },
  {
   "cell_type": "code",
   "execution_count": 16,
   "outputs": [],
   "source": [
    "def run_qhd(matrix, vector):\n",
    "    vector = -1*vector\n",
    "    model = QHD.QP(matrix, vector)\n",
    "    model.dwave_setup(10, api_key_from_file='/Users/samuelkushnir/Documents/dwave_api_key.txt')\n",
    "    model.optimize(verbose=0)\n",
    "    return model.info[\"refined_minimizer\"]"
   ],
   "metadata": {
    "collapsed": false
   }
  },
  {
   "cell_type": "code",
   "execution_count": 18,
   "outputs": [
    {
     "name": "stdout",
     "output_type": "stream",
     "text": [
      "Received Task from D-Wave:\n",
      "2024-01-21 22:49:33\n",
      "Backend QPU Time: 0.02525277\n",
      "Overhead Time: 4.025589276737671\n",
      "([1.4865979986850008e-05], array([0.17483117, 0.79807703]))\n"
     ]
    }
   ],
   "source": [
    "def IR_QHD(matrix, vector, IRprecision):\n",
    "  ### Scaled Iterative Refinement for solving a linear system\n",
    "  ### matrix: coefficient matrix of the linear system\n",
    "  ### vector: right-hand side vector of the linear system\n",
    "    nabla             = 1                             # Scaling factor\n",
    "    rho               = 2                             # Incremental scaling\n",
    "    d                 = len(matrix)                   # Dimension\n",
    "    iteration         = 0\n",
    "    x                 = np.zeros(d)                   # Solution\n",
    "    r                 = vector                        # Residual\n",
    "    con               = np.linalg.cond(matrix)             # Condition number\n",
    "    res=[]\n",
    "    while (np.linalg.norm(r)>IRprecision):\n",
    "        # c = np.linalg.solve(matrix, nabla*r)          # Should be replaced by QHD c = QHD(matrix, nabla*r)\n",
    "        c = run_qhd(matrix, vector)\n",
    "\n",
    "        x = x + (1/nabla)*c                           # Updating solution\n",
    "        r = vector - np.dot(matrix, x)                # Calculating resisdual\n",
    "        nabla = min(rho*nabla,1/(np.linalg.norm(r)))  # Updating scaling factor\n",
    "        res.append(np.linalg.norm(r))\n",
    "        iteration=iteration+1\n",
    "    return res, c\n",
    "\n",
    "print(IR_QHD(Q, b, 1e-4))"
   ],
   "metadata": {
    "collapsed": false
   }
  },
  {
   "cell_type": "code",
   "execution_count": null,
   "outputs": [],
   "source": [],
   "metadata": {
    "collapsed": false
   }
  }
 ],
 "metadata": {
  "kernelspec": {
   "display_name": "Python 3",
   "language": "python",
   "name": "python3"
  },
  "language_info": {
   "codemirror_mode": {
    "name": "ipython",
    "version": 2
   },
   "file_extension": ".py",
   "mimetype": "text/x-python",
   "name": "python",
   "nbconvert_exporter": "python",
   "pygments_lexer": "ipython2",
   "version": "2.7.6"
  }
 },
 "nbformat": 4,
 "nbformat_minor": 0
}
