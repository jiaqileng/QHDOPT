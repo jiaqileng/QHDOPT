{
 "cells": [
  {
   "cell_type": "code",
   "execution_count": 1,
   "outputs": [
    {
     "name": "stderr",
     "output_type": "stream",
     "text": [
      "/Users/samuelkushnir/miniconda3/envs/QHDOPT-dev/lib/python3.9/site-packages/qutip/__init__.py:65: UserWarning: The new version of Cython, (>= 3.0.0) is not supported.\n",
      "  warnings.warn(\n"
     ]
    }
   ],
   "source": [
    "import sys\n",
    "sys.path.insert(0, '../')\n",
    "from qhdopt import QHD\n",
    "import numpy as np\n",
    "import mpmath"
   ],
   "metadata": {
    "collapsed": false
   }
  },
  {
   "cell_type": "code",
   "execution_count": 14,
   "outputs": [],
   "source": [
    "Q = np.array([[0.8931, 0.8673],\n",
    "     [0.8673, 0.9079]])\n",
    "b = np.array([0.8483, 0.8762])"
   ],
   "metadata": {
    "collapsed": false
   }
  },
  {
   "cell_type": "code",
   "execution_count": 2,
   "outputs": [],
   "source": [
    "def to_numpy(v):\n",
    "    return np.array(v.tolist(), dtype=np.float64)"
   ],
   "metadata": {
    "collapsed": false
   }
  },
  {
   "cell_type": "code",
   "execution_count": 3,
   "outputs": [],
   "source": [
    "def get_decimal_part(float_str):\n",
    "    # Split the string on the decimal point\n",
    "    parts = float_str.split('.')\n",
    "    # Check if there is a decimal part and return it\n",
    "    if len(parts) > 1:\n",
    "        return parts[1]\n",
    "    else:\n",
    "        # If there's no decimal part, return an empty string\n",
    "        return ''"
   ],
   "metadata": {
    "collapsed": false
   }
  },
  {
   "cell_type": "code",
   "execution_count": 4,
   "outputs": [],
   "source": [
    "def get_first_nonzero_decimal_place(n):\n",
    "    n_str = get_decimal_part(str(n))\n",
    "    for i in range(len(n_str)):\n",
    "        if n_str[i] != \"0\":\n",
    "            return i + 1\n",
    "    return len(n_str)"
   ],
   "metadata": {
    "collapsed": false
   }
  },
  {
   "cell_type": "code",
   "execution_count": 19,
   "outputs": [
    {
     "name": "stdout",
     "output_type": "stream",
     "text": [
      "Received Task from D-Wave:\n",
      "2024-02-02 17:22:39\n",
      "Backend QPU Time: 0.03131477\n",
      "Overhead Time: 6.132676442844849\n",
      "\n",
      "Received Task from D-Wave:\n",
      "2024-02-02 17:25:58\n",
      "Backend QPU Time: 0.027887569999999997\n",
      "Overhead Time: 7.128057492637329\n",
      "\n"
     ]
    },
    {
     "ename": "KeyboardInterrupt",
     "evalue": "",
     "output_type": "error",
     "traceback": [
      "\u001B[0;31m---------------------------------------------------------------------------\u001B[0m",
      "\u001B[0;31mKeyboardInterrupt\u001B[0m                         Traceback (most recent call last)",
      "Cell \u001B[0;32mIn[19], line 58\u001B[0m\n\u001B[1;32m     54\u001B[0m A_np \u001B[38;5;241m=\u001B[39m np\u001B[38;5;241m.\u001B[39marray(A_mpmath\u001B[38;5;241m.\u001B[39mtolist(), dtype\u001B[38;5;241m=\u001B[39mnp\u001B[38;5;241m.\u001B[39mfloat64)\n\u001B[1;32m     55\u001B[0m b_np \u001B[38;5;241m=\u001B[39m np\u001B[38;5;241m.\u001B[39marray(b_mpmath\u001B[38;5;241m.\u001B[39mtolist(), dtype\u001B[38;5;241m=\u001B[39mnp\u001B[38;5;241m.\u001B[39mfloat64)\n\u001B[0;32m---> 58\u001B[0m \u001B[38;5;28mprint\u001B[39m(\u001B[43mIR_QHD\u001B[49m\u001B[43m(\u001B[49m\u001B[43mA_mpmath\u001B[49m\u001B[43m,\u001B[49m\u001B[43m \u001B[49m\u001B[43mb_mpmath\u001B[49m\u001B[43m,\u001B[49m\u001B[43m \u001B[49m\u001B[38;5;241;43m1e-4\u001B[39;49m\u001B[43m)\u001B[49m)\n",
      "Cell \u001B[0;32mIn[19], line 30\u001B[0m, in \u001B[0;36mIR_QHD\u001B[0;34m(matrix, vector, IRprecision)\u001B[0m\n\u001B[1;32m     28\u001B[0m c \u001B[38;5;241m=\u001B[39m mpmath\u001B[38;5;241m.\u001B[39mmatrix(c)\n\u001B[1;32m     29\u001B[0m c \u001B[38;5;241m=\u001B[39m c \u001B[38;5;241m*\u001B[39m \u001B[38;5;241m10\u001B[39m \u001B[38;5;241m*\u001B[39m\u001B[38;5;241m*\u001B[39m \u001B[38;5;241m-\u001B[39moffset\n\u001B[0;32m---> 30\u001B[0m x \u001B[38;5;241m=\u001B[39m \u001B[43mx\u001B[49m \u001B[38;5;241m+\u001B[39m (\u001B[38;5;241m1\u001B[39m\u001B[38;5;241m/\u001B[39mnabla)\u001B[38;5;241m*\u001B[39mc                           \u001B[38;5;66;03m# Updating solution\u001B[39;00m\n\u001B[1;32m     31\u001B[0m r \u001B[38;5;241m=\u001B[39m vector \u001B[38;5;241m-\u001B[39m matrix \u001B[38;5;241m*\u001B[39m x               \u001B[38;5;66;03m# Calculating resisdual\u001B[39;00m\n\u001B[1;32m     32\u001B[0m \u001B[38;5;66;03m# nabla = min(rho*nabla,1/(np.linalg.norm(r)))  # Updating scaling factor\u001B[39;00m\n",
      "Cell \u001B[0;32mIn[19], line 30\u001B[0m, in \u001B[0;36mIR_QHD\u001B[0;34m(matrix, vector, IRprecision)\u001B[0m\n\u001B[1;32m     28\u001B[0m c \u001B[38;5;241m=\u001B[39m mpmath\u001B[38;5;241m.\u001B[39mmatrix(c)\n\u001B[1;32m     29\u001B[0m c \u001B[38;5;241m=\u001B[39m c \u001B[38;5;241m*\u001B[39m \u001B[38;5;241m10\u001B[39m \u001B[38;5;241m*\u001B[39m\u001B[38;5;241m*\u001B[39m \u001B[38;5;241m-\u001B[39moffset\n\u001B[0;32m---> 30\u001B[0m x \u001B[38;5;241m=\u001B[39m \u001B[43mx\u001B[49m \u001B[38;5;241m+\u001B[39m (\u001B[38;5;241m1\u001B[39m\u001B[38;5;241m/\u001B[39mnabla)\u001B[38;5;241m*\u001B[39mc                           \u001B[38;5;66;03m# Updating solution\u001B[39;00m\n\u001B[1;32m     31\u001B[0m r \u001B[38;5;241m=\u001B[39m vector \u001B[38;5;241m-\u001B[39m matrix \u001B[38;5;241m*\u001B[39m x               \u001B[38;5;66;03m# Calculating resisdual\u001B[39;00m\n\u001B[1;32m     32\u001B[0m \u001B[38;5;66;03m# nabla = min(rho*nabla,1/(np.linalg.norm(r)))  # Updating scaling factor\u001B[39;00m\n",
      "File \u001B[0;32m_pydevd_bundle/pydevd_cython_darwin_39_64.pyx:1179\u001B[0m, in \u001B[0;36m_pydevd_bundle.pydevd_cython_darwin_39_64.SafeCallWrapper.__call__\u001B[0;34m()\u001B[0m\n",
      "File \u001B[0;32m_pydevd_bundle/pydevd_cython_darwin_39_64.pyx:620\u001B[0m, in \u001B[0;36m_pydevd_bundle.pydevd_cython_darwin_39_64.PyDBFrame.trace_dispatch\u001B[0;34m()\u001B[0m\n",
      "File \u001B[0;32m_pydevd_bundle/pydevd_cython_darwin_39_64.pyx:929\u001B[0m, in \u001B[0;36m_pydevd_bundle.pydevd_cython_darwin_39_64.PyDBFrame.trace_dispatch\u001B[0;34m()\u001B[0m\n",
      "File \u001B[0;32m_pydevd_bundle/pydevd_cython_darwin_39_64.pyx:920\u001B[0m, in \u001B[0;36m_pydevd_bundle.pydevd_cython_darwin_39_64.PyDBFrame.trace_dispatch\u001B[0;34m()\u001B[0m\n",
      "File \u001B[0;32m_pydevd_bundle/pydevd_cython_darwin_39_64.pyx:317\u001B[0m, in \u001B[0;36m_pydevd_bundle.pydevd_cython_darwin_39_64.PyDBFrame.do_wait_suspend\u001B[0;34m()\u001B[0m\n",
      "File \u001B[0;32m/Applications/PyCharm.app/Contents/plugins/python/helpers/pydev/pydevd.py:1160\u001B[0m, in \u001B[0;36mPyDB.do_wait_suspend\u001B[0;34m(self, thread, frame, event, arg, send_suspend_message, is_unhandled_exception)\u001B[0m\n\u001B[1;32m   1157\u001B[0m         from_this_thread\u001B[38;5;241m.\u001B[39mappend(frame_id)\n\u001B[1;32m   1159\u001B[0m \u001B[38;5;28;01mwith\u001B[39;00m \u001B[38;5;28mself\u001B[39m\u001B[38;5;241m.\u001B[39m_threads_suspended_single_notification\u001B[38;5;241m.\u001B[39mnotify_thread_suspended(thread_id, stop_reason):\n\u001B[0;32m-> 1160\u001B[0m     \u001B[38;5;28;43mself\u001B[39;49m\u001B[38;5;241;43m.\u001B[39;49m\u001B[43m_do_wait_suspend\u001B[49m\u001B[43m(\u001B[49m\u001B[43mthread\u001B[49m\u001B[43m,\u001B[49m\u001B[43m \u001B[49m\u001B[43mframe\u001B[49m\u001B[43m,\u001B[49m\u001B[43m \u001B[49m\u001B[43mevent\u001B[49m\u001B[43m,\u001B[49m\u001B[43m \u001B[49m\u001B[43marg\u001B[49m\u001B[43m,\u001B[49m\u001B[43m \u001B[49m\u001B[43msuspend_type\u001B[49m\u001B[43m,\u001B[49m\u001B[43m \u001B[49m\u001B[43mfrom_this_thread\u001B[49m\u001B[43m)\u001B[49m\n",
      "File \u001B[0;32m/Applications/PyCharm.app/Contents/plugins/python/helpers/pydev/pydevd.py:1174\u001B[0m, in \u001B[0;36mPyDB._do_wait_suspend\u001B[0;34m(self, thread, frame, event, arg, suspend_type, from_this_thread)\u001B[0m\n\u001B[1;32m   1170\u001B[0m         \u001B[38;5;28;01mif\u001B[39;00m \u001B[38;5;28mself\u001B[39m\u001B[38;5;241m.\u001B[39mmpl_in_use:\n\u001B[1;32m   1171\u001B[0m             \u001B[38;5;66;03m# call input hooks if only matplotlib is in use\u001B[39;00m\n\u001B[1;32m   1172\u001B[0m             \u001B[38;5;28mself\u001B[39m\u001B[38;5;241m.\u001B[39m_call_mpl_hook()\n\u001B[0;32m-> 1174\u001B[0m         \u001B[38;5;28;43mself\u001B[39;49m\u001B[38;5;241;43m.\u001B[39;49m\u001B[43mprocess_internal_commands\u001B[49m\u001B[43m(\u001B[49m\u001B[43m)\u001B[49m\n\u001B[1;32m   1175\u001B[0m         time\u001B[38;5;241m.\u001B[39msleep(\u001B[38;5;241m0.01\u001B[39m)\n\u001B[1;32m   1177\u001B[0m \u001B[38;5;28mself\u001B[39m\u001B[38;5;241m.\u001B[39mcancel_async_evaluation(get_current_thread_id(thread), \u001B[38;5;28mstr\u001B[39m(\u001B[38;5;28mid\u001B[39m(frame)))\n",
      "File \u001B[0;32m/Applications/PyCharm.app/Contents/plugins/python/helpers/pydev/pydevd.py:828\u001B[0m, in \u001B[0;36mPyDB.process_internal_commands\u001B[0;34m(self)\u001B[0m\n\u001B[1;32m    825\u001B[0m         thread_id \u001B[38;5;241m=\u001B[39m get_thread_id(t)\n\u001B[1;32m    826\u001B[0m         program_threads_alive[thread_id] \u001B[38;5;241m=\u001B[39m t\n\u001B[0;32m--> 828\u001B[0m         \u001B[38;5;28;43mself\u001B[39;49m\u001B[38;5;241;43m.\u001B[39;49m\u001B[43mnotify_thread_created\u001B[49m\u001B[43m(\u001B[49m\u001B[43mthread_id\u001B[49m\u001B[43m,\u001B[49m\u001B[43m \u001B[49m\u001B[43mt\u001B[49m\u001B[43m,\u001B[49m\u001B[43m \u001B[49m\u001B[43muse_lock\u001B[49m\u001B[38;5;241;43m=\u001B[39;49m\u001B[38;5;28;43;01mFalse\u001B[39;49;00m\u001B[43m)\u001B[49m\n\u001B[1;32m    830\u001B[0m \u001B[38;5;66;03m# Compute and notify about threads which are no longer alive.\u001B[39;00m\n\u001B[1;32m    831\u001B[0m thread_ids \u001B[38;5;241m=\u001B[39m \u001B[38;5;28mlist\u001B[39m(\u001B[38;5;28mself\u001B[39m\u001B[38;5;241m.\u001B[39m_running_thread_ids\u001B[38;5;241m.\u001B[39mkeys())\n",
      "\u001B[0;31mKeyboardInterrupt\u001B[0m: "
     ]
    }
   ],
   "source": [
    "def run_qhd(matrix, vector):\n",
    "    first_nonzero_decimal_place = min([get_first_nonzero_decimal_place(v_i) for v_i in vector])\n",
    "    if first_nonzero_decimal_place <= 1:\n",
    "        offset = 0\n",
    "    else:\n",
    "        offset = first_nonzero_decimal_place - 1\n",
    "    vector = to_numpy(-1*(vector * 10 ** offset)).squeeze()\n",
    "    model = QHD.QP(matrix, vector)\n",
    "    model.dwave_setup(20, api_key_from_file='/Users/samuelkushnir/Documents/dwave_api_key.txt', embedding_scheme=\"hamming\")\n",
    "    model.optimize(verbose=0, fine_tune=False)\n",
    "    return model.info[\"coarse_minimizer\"], offset\n",
    "\n",
    "\n",
    "def IR_QHD(matrix, vector, IRprecision):\n",
    "  ### Scaled Iterative Refinement for solving a linear system\n",
    "  ### matrix: coefficient matrix of the linear system\n",
    "  ### vector: right-hand side vector of the linear system\n",
    "    nabla             = 1                             # Scaling factor\n",
    "    rho               = 2                             # Incremental scaling\n",
    "    d                 = len(matrix)                   # Dimension\n",
    "    iteration         = 0\n",
    "    x                 = mpmath.matrix(np.zeros(d))                 # Solution\n",
    "    r                 = vector                        # Residual\n",
    "    # con               = np.linalg.cond(matrix)             # Condition number\n",
    "    res=[]\n",
    "    while (np.linalg.norm(r)>IRprecision):\n",
    "        c, offset = run_qhd(to_numpy(matrix), nabla*r)\n",
    "        c = mpmath.matrix(c)\n",
    "        c = c * 10 ** -offset\n",
    "        x = x + (1/nabla)*c                           # Updating solution\n",
    "        r = vector - matrix * x               # Calculating resisdual\n",
    "        # nabla = min(rho*nabla,1/(np.linalg.norm(r)))  # Updating scaling factor\n",
    "        res.append(np.linalg.norm(r))\n",
    "        iteration=iteration+1\n",
    "    return res, c\n",
    "\n",
    "# Set the desired precision (number of decimal places)\n",
    "mpmath.mp.dps = 50  # for example, 50 decimal places\n",
    "\n",
    "# Create the matrix A using numpy\n",
    "A = np.random.rand(2, 2)\n",
    "\n",
    "# Convert A to mpmath matrix and make it symmetric to ensure positive-definiteness\n",
    "A_mpmath = mpmath.matrix(A)\n",
    "A_mpmath = A_mpmath * A_mpmath.transpose()\n",
    "\n",
    "# High precision x vector\n",
    "x_mpmath = mpmath.matrix([0.34987313872918378423, 0.534563452331234876327])\n",
    "\n",
    "# Calculate b using mpmath's dot product\n",
    "b_mpmath = A_mpmath * x_mpmath\n",
    "\n",
    "# Convert results back to numpy arrays for any further processing\n",
    "A_np = np.array(A_mpmath.tolist(), dtype=np.float64)\n",
    "b_np = np.array(b_mpmath.tolist(), dtype=np.float64)\n",
    "\n",
    "\n",
    "print(IR_QHD(A_mpmath, b_mpmath, 1e-4))"
   ],
   "metadata": {
    "collapsed": false
   }
  },
  {
   "cell_type": "code",
   "execution_count": null,
   "outputs": [],
   "source": [],
   "metadata": {
    "collapsed": false
   }
  }
 ],
 "metadata": {
  "kernelspec": {
   "display_name": "Python 3",
   "language": "python",
   "name": "python3"
  },
  "language_info": {
   "codemirror_mode": {
    "name": "ipython",
    "version": 2
   },
   "file_extension": ".py",
   "mimetype": "text/x-python",
   "name": "python",
   "nbconvert_exporter": "python",
   "pygments_lexer": "ipython2",
   "version": "2.7.6"
  }
 },
 "nbformat": 4,
 "nbformat_minor": 0
}
