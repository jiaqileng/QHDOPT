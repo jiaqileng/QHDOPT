{
 "cells": [
  {
   "cell_type": "code",
   "execution_count": 1,
   "outputs": [
    {
     "name": "stderr",
     "output_type": "stream",
     "text": [
      "/Users/samuelkushnir/miniconda3/envs/QHDOPT-dev/lib/python3.9/site-packages/qutip/__init__.py:65: UserWarning: The new version of Cython, (>= 3.0.0) is not supported.\n",
      "  warnings.warn(\n"
     ]
    }
   ],
   "source": [
    "import sys\n",
    "sys.path.insert(0, '../')\n",
    "import numpy as np\n",
    "import mpmath\n",
    "from iterative_refinement_utils import IR_QHD"
   ],
   "metadata": {
    "collapsed": false
   }
  },
  {
   "cell_type": "code",
   "execution_count": 2,
   "outputs": [
    {
     "name": "stdout",
     "output_type": "stream",
     "text": [
      "Received Task from D-Wave:\n",
      "2024-02-05 17:15:34\n",
      "Backend QPU Time: 0.03110037\n",
      "Overhead Time: 3.0179089531201173\n",
      "\n"
     ]
    },
    {
     "ename": "KeyboardInterrupt",
     "evalue": "",
     "output_type": "error",
     "traceback": [
      "\u001B[0;31m---------------------------------------------------------------------------\u001B[0m",
      "\u001B[0;31mKeyboardInterrupt\u001B[0m                         Traceback (most recent call last)",
      "Cell \u001B[0;32mIn[2], line 15\u001B[0m\n\u001B[1;32m     11\u001B[0m \u001B[38;5;66;03m# Calculate b using mpmath's dot product\u001B[39;00m\n\u001B[1;32m     12\u001B[0m b_mpmath \u001B[38;5;241m=\u001B[39m A_mpmath \u001B[38;5;241m*\u001B[39m x_mpmath\n\u001B[0;32m---> 15\u001B[0m res, c \u001B[38;5;241m=\u001B[39m \u001B[43mIR_QHD\u001B[49m\u001B[43m(\u001B[49m\u001B[43mA_mpmath\u001B[49m\u001B[43m,\u001B[49m\u001B[43m \u001B[49m\u001B[43mb_mpmath\u001B[49m\u001B[43m,\u001B[49m\u001B[43m \u001B[49m\u001B[38;5;241;43m1e-16\u001B[39;49m\u001B[43m)\u001B[49m\n",
      "File \u001B[0;32m~/Documents/GitHub/QHDOPT/examples/iterative_refinement_utils.py:31\u001B[0m, in \u001B[0;36mIR_QHD\u001B[0;34m(matrix, vector, IRprecision)\u001B[0m\n\u001B[1;32m     29\u001B[0m res\u001B[38;5;241m=\u001B[39m[]\n\u001B[1;32m     30\u001B[0m \u001B[38;5;28;01mwhile\u001B[39;00m np\u001B[38;5;241m.\u001B[39mlinalg\u001B[38;5;241m.\u001B[39mnorm(r)\u001B[38;5;241m>\u001B[39mIRprecision:\n\u001B[0;32m---> 31\u001B[0m     c \u001B[38;5;241m=\u001B[39m \u001B[43mrun_qhd\u001B[49m\u001B[43m(\u001B[49m\u001B[43mto_numpy\u001B[49m\u001B[43m(\u001B[49m\u001B[43mmatrix\u001B[49m\u001B[43m)\u001B[49m\u001B[43m,\u001B[49m\u001B[43m \u001B[49m\u001B[43mnabla\u001B[49m\u001B[38;5;241;43m*\u001B[39;49m\u001B[43mr\u001B[49m\u001B[43m)\u001B[49m\n\u001B[1;32m     32\u001B[0m     c \u001B[38;5;241m=\u001B[39m mpmath\u001B[38;5;241m.\u001B[39mmatrix(c)\n\u001B[1;32m     33\u001B[0m     x \u001B[38;5;241m=\u001B[39m x \u001B[38;5;241m+\u001B[39m (\u001B[38;5;241m1\u001B[39m\u001B[38;5;241m/\u001B[39mnabla)\u001B[38;5;241m*\u001B[39mc                           \u001B[38;5;66;03m# Updating solution\u001B[39;00m\n",
      "File \u001B[0;32m~/Documents/GitHub/QHDOPT/examples/iterative_refinement_utils.py:14\u001B[0m, in \u001B[0;36mrun_qhd\u001B[0;34m(matrix, vector)\u001B[0m\n\u001B[1;32m     12\u001B[0m model \u001B[38;5;241m=\u001B[39m QHD\u001B[38;5;241m.\u001B[39mQP(matrix, vector, bounds\u001B[38;5;241m=\u001B[39m(\u001B[38;5;241m-\u001B[39m\u001B[38;5;241m1\u001B[39m, \u001B[38;5;241m1\u001B[39m))\n\u001B[1;32m     13\u001B[0m model\u001B[38;5;241m.\u001B[39mdwave_setup(\u001B[38;5;241m20\u001B[39m, api_key_from_file\u001B[38;5;241m=\u001B[39m\u001B[38;5;124m'\u001B[39m\u001B[38;5;124m/Users/samuelkushnir/Documents/dwave_api_key.txt\u001B[39m\u001B[38;5;124m'\u001B[39m, embedding_scheme\u001B[38;5;241m=\u001B[39m\u001B[38;5;124m\"\u001B[39m\u001B[38;5;124mhamming\u001B[39m\u001B[38;5;124m\"\u001B[39m)\n\u001B[0;32m---> 14\u001B[0m \u001B[43mmodel\u001B[49m\u001B[38;5;241;43m.\u001B[39;49m\u001B[43moptimize\u001B[49m\u001B[43m(\u001B[49m\u001B[43mverbose\u001B[49m\u001B[38;5;241;43m=\u001B[39;49m\u001B[38;5;241;43m0\u001B[39;49m\u001B[43m,\u001B[49m\u001B[43m \u001B[49m\u001B[43mfine_tune\u001B[49m\u001B[38;5;241;43m=\u001B[39;49m\u001B[38;5;28;43;01mFalse\u001B[39;49;00m\u001B[43m)\u001B[49m\n\u001B[1;32m     15\u001B[0m \u001B[38;5;28;01mreturn\u001B[39;00m model\u001B[38;5;241m.\u001B[39minfo[\u001B[38;5;124m\"\u001B[39m\u001B[38;5;124mcoarse_minimizer\u001B[39m\u001B[38;5;124m\"\u001B[39m]\n",
      "File \u001B[0;32m~/Documents/GitHub/QHDOPT/src/qhdopt/qhd.py:236\u001B[0m, in \u001B[0;36mQHD.optimize\u001B[0;34m(self, fine_tune, verbose)\u001B[0m\n\u001B[1;32m    232\u001B[0m raw_samples \u001B[38;5;241m=\u001B[39m \u001B[38;5;28mself\u001B[39m\u001B[38;5;241m.\u001B[39mbackend\u001B[38;5;241m.\u001B[39mexec(verbose\u001B[38;5;241m=\u001B[39m\u001B[38;5;241m1\u001B[39m, info\u001B[38;5;241m=\u001B[39m\u001B[38;5;28mself\u001B[39m\u001B[38;5;241m.\u001B[39minfo)\n\u001B[1;32m    234\u001B[0m \u001B[38;5;28mself\u001B[39m\u001B[38;5;241m.\u001B[39mraw_samples \u001B[38;5;241m=\u001B[39m raw_samples\n\u001B[0;32m--> 236\u001B[0m coarse_minimizer, coarse_minimum, \u001B[38;5;28mself\u001B[39m\u001B[38;5;241m.\u001B[39mqhd_samples \u001B[38;5;241m=\u001B[39m \u001B[38;5;28;43mself\u001B[39;49m\u001B[38;5;241;43m.\u001B[39;49m\u001B[43mbackend\u001B[49m\u001B[38;5;241;43m.\u001B[39;49m\u001B[43mdecoder\u001B[49m\u001B[43m(\u001B[49m\u001B[43mraw_samples\u001B[49m\u001B[43m,\u001B[49m\n\u001B[1;32m    237\u001B[0m \u001B[43m                                                                          \u001B[49m\u001B[38;5;28;43mself\u001B[39;49m\u001B[38;5;241;43m.\u001B[39;49m\u001B[43mf_eval\u001B[49m\u001B[43m)\u001B[49m\n\u001B[1;32m    238\u001B[0m \u001B[38;5;28mself\u001B[39m\u001B[38;5;241m.\u001B[39minfo[\u001B[38;5;124m\"\u001B[39m\u001B[38;5;124mcoarse_minimum\u001B[39m\u001B[38;5;124m\"\u001B[39m] \u001B[38;5;241m=\u001B[39m coarse_minimum\n\u001B[1;32m    239\u001B[0m \u001B[38;5;28mself\u001B[39m\u001B[38;5;241m.\u001B[39minfo[\u001B[38;5;124m\"\u001B[39m\u001B[38;5;124mcoarse_minimizer\u001B[39m\u001B[38;5;124m\"\u001B[39m] \u001B[38;5;241m=\u001B[39m \u001B[38;5;28mself\u001B[39m\u001B[38;5;241m.\u001B[39maffine_transformation(coarse_minimizer)\n",
      "File \u001B[0;32m~/Documents/GitHub/QHDOPT/src/qhdopt/backend/backend.py:118\u001B[0m, in \u001B[0;36mBackend.decoder\u001B[0;34m(self, raw_samples, f_eval)\u001B[0m\n\u001B[1;32m    116\u001B[0m \u001B[38;5;28;01mif\u001B[39;00m qhd_samples[i] \u001B[38;5;129;01mis\u001B[39;00m \u001B[38;5;28;01mNone\u001B[39;00m:\n\u001B[1;32m    117\u001B[0m     \u001B[38;5;28;01mcontinue\u001B[39;00m\n\u001B[0;32m--> 118\u001B[0m \u001B[38;5;28;01mif\u001B[39;00m \u001B[43mf_eval\u001B[49m\u001B[43m(\u001B[49m\u001B[43mqhd_samples\u001B[49m\u001B[43m[\u001B[49m\u001B[43mi\u001B[49m\u001B[43m]\u001B[49m\u001B[43m)\u001B[49m \u001B[38;5;241m<\u001B[39m minimum:\n\u001B[1;32m    119\u001B[0m     minimum \u001B[38;5;241m=\u001B[39m f_eval(qhd_samples[i])\n\u001B[1;32m    120\u001B[0m     minimizer \u001B[38;5;241m=\u001B[39m qhd_samples[i]\n",
      "File \u001B[0;32m~/Documents/GitHub/QHDOPT/src/qhdopt/qhd.py:170\u001B[0m, in \u001B[0;36mQHD.f_eval\u001B[0;34m(self, x)\u001B[0m\n\u001B[1;32m    168\u001B[0m \u001B[38;5;28;01mdef\u001B[39;00m \u001B[38;5;21mf_eval\u001B[39m(\u001B[38;5;28mself\u001B[39m, x):\n\u001B[1;32m    169\u001B[0m     x \u001B[38;5;241m=\u001B[39m \u001B[38;5;28mself\u001B[39m\u001B[38;5;241m.\u001B[39mjax_affine_transformation(x\u001B[38;5;241m.\u001B[39mastype(jnp\u001B[38;5;241m.\u001B[39mfloat32))\n\u001B[0;32m--> 170\u001B[0m     \u001B[38;5;28;01mreturn\u001B[39;00m \u001B[38;5;28;43mself\u001B[39;49m\u001B[38;5;241;43m.\u001B[39;49m\u001B[43mlambda_numpy\u001B[49m\u001B[43m(\u001B[49m\u001B[38;5;241;43m*\u001B[39;49m\u001B[43mx\u001B[49m\u001B[43m)\u001B[49m\n",
      "File \u001B[0;32m<lambdifygenerated-1>:2\u001B[0m, in \u001B[0;36m_lambdifygenerated\u001B[0;34m(x0, x1)\u001B[0m\n\u001B[1;32m      1\u001B[0m \u001B[38;5;28;01mdef\u001B[39;00m \u001B[38;5;21m_lambdifygenerated\u001B[39m(x0, x1):\n\u001B[0;32m----> 2\u001B[0m     \u001B[38;5;28;01mreturn\u001B[39;00m \u001B[38;5;241m1.0\u001B[39m\u001B[38;5;241m*\u001B[39m\u001B[43mx0\u001B[49m\u001B[38;5;241;43m*\u001B[39;49m\u001B[38;5;241;43m*\u001B[39;49m\u001B[38;5;241;43m2\u001B[39;49m \u001B[38;5;241m-\u001B[39m \u001B[38;5;241m1.0\u001B[39m\u001B[38;5;241m*\u001B[39mx0 \u001B[38;5;241m+\u001B[39m \u001B[38;5;241m1.5\u001B[39m\u001B[38;5;241m*\u001B[39mx1\u001B[38;5;241m*\u001B[39m\u001B[38;5;241m*\u001B[39m\u001B[38;5;241m2\u001B[39m \u001B[38;5;241m-\u001B[39m \u001B[38;5;241m1.0\u001B[39m\u001B[38;5;241m*\u001B[39mx1\n",
      "File \u001B[0;32m~/miniconda3/envs/QHDOPT-dev/lib/python3.9/site-packages/jax/_src/numpy/array_methods.py:271\u001B[0m, in \u001B[0;36m_defer_to_unrecognized_arg.<locals>.deferring_binary_op\u001B[0;34m(self, other)\u001B[0m\n\u001B[1;32m    269\u001B[0m args \u001B[38;5;241m=\u001B[39m (other, \u001B[38;5;28mself\u001B[39m) \u001B[38;5;28;01mif\u001B[39;00m swap \u001B[38;5;28;01melse\u001B[39;00m (\u001B[38;5;28mself\u001B[39m, other)\n\u001B[1;32m    270\u001B[0m \u001B[38;5;28;01mif\u001B[39;00m \u001B[38;5;28misinstance\u001B[39m(other, _accepted_binop_types):\n\u001B[0;32m--> 271\u001B[0m   \u001B[38;5;28;01mreturn\u001B[39;00m \u001B[43mbinary_op\u001B[49m\u001B[43m(\u001B[49m\u001B[38;5;241;43m*\u001B[39;49m\u001B[43margs\u001B[49m\u001B[43m)\u001B[49m\n\u001B[1;32m    272\u001B[0m \u001B[38;5;66;03m# Note: don't use isinstance here, because we don't want to raise for\u001B[39;00m\n\u001B[1;32m    273\u001B[0m \u001B[38;5;66;03m# subclasses, e.g. NamedTuple objects that may override operators.\u001B[39;00m\n\u001B[1;32m    274\u001B[0m \u001B[38;5;28;01mif\u001B[39;00m \u001B[38;5;28mtype\u001B[39m(other) \u001B[38;5;129;01min\u001B[39;00m _rejected_binop_types:\n",
      "File \u001B[0;32m~/miniconda3/envs/QHDOPT-dev/lib/python3.9/site-packages/jax/_src/numpy/ufuncs.py:341\u001B[0m, in \u001B[0;36mpower\u001B[0;34m(x1, x2)\u001B[0m\n\u001B[1;32m    339\u001B[0m   \u001B[38;5;28;01melse\u001B[39;00m:\n\u001B[1;32m    340\u001B[0m     x1, \u001B[38;5;241m=\u001B[39m promote_dtypes_numeric(x1)\n\u001B[0;32m--> 341\u001B[0m     \u001B[38;5;28;01mreturn\u001B[39;00m \u001B[43mlax\u001B[49m\u001B[38;5;241;43m.\u001B[39;49m\u001B[43minteger_pow\u001B[49m\u001B[43m(\u001B[49m\u001B[43mx1\u001B[49m\u001B[43m,\u001B[49m\u001B[43m \u001B[49m\u001B[43mx2\u001B[49m\u001B[43m)\u001B[49m\n\u001B[1;32m    343\u001B[0m \u001B[38;5;66;03m# Handle cases #2 and #3 under a jit:\u001B[39;00m\n\u001B[1;32m    344\u001B[0m \u001B[38;5;28;01mreturn\u001B[39;00m _power(x1, x2)\n",
      "File \u001B[0;32m~/miniconda3/envs/QHDOPT-dev/lib/python3.9/site-packages/jax/_src/lax/lax.py:379\u001B[0m, in \u001B[0;36minteger_pow\u001B[0;34m(x, y)\u001B[0m\n\u001B[1;32m    377\u001B[0m \u001B[38;5;28;01mdef\u001B[39;00m \u001B[38;5;21minteger_pow\u001B[39m(x: ArrayLike, y: \u001B[38;5;28mint\u001B[39m) \u001B[38;5;241m-\u001B[39m\u001B[38;5;241m>\u001B[39m Array:\n\u001B[1;32m    378\u001B[0m \u001B[38;5;250m  \u001B[39m\u001B[38;5;124mr\u001B[39m\u001B[38;5;124;03m\"\"\"Elementwise power: :math:`x^y`, where :math:`y` is a fixed integer.\"\"\"\u001B[39;00m\n\u001B[0;32m--> 379\u001B[0m   \u001B[38;5;28;01mreturn\u001B[39;00m \u001B[43minteger_pow_p\u001B[49m\u001B[38;5;241;43m.\u001B[39;49m\u001B[43mbind\u001B[49m\u001B[43m(\u001B[49m\u001B[43mx\u001B[49m\u001B[43m,\u001B[49m\u001B[43m \u001B[49m\u001B[43my\u001B[49m\u001B[38;5;241;43m=\u001B[39;49m\u001B[43my\u001B[49m\u001B[43m)\u001B[49m\n",
      "File \u001B[0;32m~/miniconda3/envs/QHDOPT-dev/lib/python3.9/site-packages/jax/_src/core.py:444\u001B[0m, in \u001B[0;36mPrimitive.bind\u001B[0;34m(self, *args, **params)\u001B[0m\n\u001B[1;32m    441\u001B[0m \u001B[38;5;28;01mdef\u001B[39;00m \u001B[38;5;21mbind\u001B[39m(\u001B[38;5;28mself\u001B[39m, \u001B[38;5;241m*\u001B[39margs, \u001B[38;5;241m*\u001B[39m\u001B[38;5;241m*\u001B[39mparams):\n\u001B[1;32m    442\u001B[0m   \u001B[38;5;28;01massert\u001B[39;00m (\u001B[38;5;129;01mnot\u001B[39;00m config\u001B[38;5;241m.\u001B[39menable_checks\u001B[38;5;241m.\u001B[39mvalue \u001B[38;5;129;01mor\u001B[39;00m\n\u001B[1;32m    443\u001B[0m           \u001B[38;5;28mall\u001B[39m(\u001B[38;5;28misinstance\u001B[39m(arg, Tracer) \u001B[38;5;129;01mor\u001B[39;00m valid_jaxtype(arg) \u001B[38;5;28;01mfor\u001B[39;00m arg \u001B[38;5;129;01min\u001B[39;00m args)), args\n\u001B[0;32m--> 444\u001B[0m   \u001B[38;5;28;01mreturn\u001B[39;00m \u001B[38;5;28;43mself\u001B[39;49m\u001B[38;5;241;43m.\u001B[39;49m\u001B[43mbind_with_trace\u001B[49m\u001B[43m(\u001B[49m\u001B[43mfind_top_trace\u001B[49m\u001B[43m(\u001B[49m\u001B[43margs\u001B[49m\u001B[43m)\u001B[49m\u001B[43m,\u001B[49m\u001B[43m \u001B[49m\u001B[43margs\u001B[49m\u001B[43m,\u001B[49m\u001B[43m \u001B[49m\u001B[43mparams\u001B[49m\u001B[43m)\u001B[49m\n",
      "File \u001B[0;32m~/miniconda3/envs/QHDOPT-dev/lib/python3.9/site-packages/jax/_src/core.py:447\u001B[0m, in \u001B[0;36mPrimitive.bind_with_trace\u001B[0;34m(self, trace, args, params)\u001B[0m\n\u001B[1;32m    446\u001B[0m \u001B[38;5;28;01mdef\u001B[39;00m \u001B[38;5;21mbind_with_trace\u001B[39m(\u001B[38;5;28mself\u001B[39m, trace, args, params):\n\u001B[0;32m--> 447\u001B[0m   out \u001B[38;5;241m=\u001B[39m \u001B[43mtrace\u001B[49m\u001B[38;5;241;43m.\u001B[39;49m\u001B[43mprocess_primitive\u001B[49m\u001B[43m(\u001B[49m\u001B[38;5;28;43mself\u001B[39;49m\u001B[43m,\u001B[49m\u001B[43m \u001B[49m\u001B[38;5;28;43mmap\u001B[39;49m\u001B[43m(\u001B[49m\u001B[43mtrace\u001B[49m\u001B[38;5;241;43m.\u001B[39;49m\u001B[43mfull_raise\u001B[49m\u001B[43m,\u001B[49m\u001B[43m \u001B[49m\u001B[43margs\u001B[49m\u001B[43m)\u001B[49m\u001B[43m,\u001B[49m\u001B[43m \u001B[49m\u001B[43mparams\u001B[49m\u001B[43m)\u001B[49m\n\u001B[1;32m    448\u001B[0m   \u001B[38;5;28;01mreturn\u001B[39;00m \u001B[38;5;28mmap\u001B[39m(full_lower, out) \u001B[38;5;28;01mif\u001B[39;00m \u001B[38;5;28mself\u001B[39m\u001B[38;5;241m.\u001B[39mmultiple_results \u001B[38;5;28;01melse\u001B[39;00m full_lower(out)\n",
      "File \u001B[0;32m~/miniconda3/envs/QHDOPT-dev/lib/python3.9/site-packages/jax/_src/core.py:935\u001B[0m, in \u001B[0;36mEvalTrace.process_primitive\u001B[0;34m(self, primitive, tracers, params)\u001B[0m\n\u001B[1;32m    934\u001B[0m \u001B[38;5;28;01mdef\u001B[39;00m \u001B[38;5;21mprocess_primitive\u001B[39m(\u001B[38;5;28mself\u001B[39m, primitive, tracers, params):\n\u001B[0;32m--> 935\u001B[0m   \u001B[38;5;28;01mreturn\u001B[39;00m \u001B[43mprimitive\u001B[49m\u001B[38;5;241;43m.\u001B[39;49m\u001B[43mimpl\u001B[49m\u001B[43m(\u001B[49m\u001B[38;5;241;43m*\u001B[39;49m\u001B[43mtracers\u001B[49m\u001B[43m,\u001B[49m\u001B[43m \u001B[49m\u001B[38;5;241;43m*\u001B[39;49m\u001B[38;5;241;43m*\u001B[39;49m\u001B[43mparams\u001B[49m\u001B[43m)\u001B[49m\n",
      "File \u001B[0;32m~/miniconda3/envs/QHDOPT-dev/lib/python3.9/site-packages/jax/_src/dispatch.py:87\u001B[0m, in \u001B[0;36mapply_primitive\u001B[0;34m(prim, *args, **params)\u001B[0m\n\u001B[1;32m     85\u001B[0m prev \u001B[38;5;241m=\u001B[39m lib\u001B[38;5;241m.\u001B[39mjax_jit\u001B[38;5;241m.\u001B[39mswap_thread_local_state_disable_jit(\u001B[38;5;28;01mFalse\u001B[39;00m)\n\u001B[1;32m     86\u001B[0m \u001B[38;5;28;01mtry\u001B[39;00m:\n\u001B[0;32m---> 87\u001B[0m   outs \u001B[38;5;241m=\u001B[39m \u001B[43mfun\u001B[49m\u001B[43m(\u001B[49m\u001B[38;5;241;43m*\u001B[39;49m\u001B[43margs\u001B[49m\u001B[43m)\u001B[49m\n\u001B[1;32m     88\u001B[0m \u001B[38;5;28;01mfinally\u001B[39;00m:\n\u001B[1;32m     89\u001B[0m   lib\u001B[38;5;241m.\u001B[39mjax_jit\u001B[38;5;241m.\u001B[39mswap_thread_local_state_disable_jit(prev)\n",
      "    \u001B[0;31m[... skipping hidden 1 frame]\u001B[0m\n",
      "File \u001B[0;32m~/miniconda3/envs/QHDOPT-dev/lib/python3.9/site-packages/jax/_src/pjit.py:257\u001B[0m, in \u001B[0;36m_cpp_pjit.<locals>.cache_miss\u001B[0;34m(*args, **kwargs)\u001B[0m\n\u001B[1;32m    255\u001B[0m \u001B[38;5;129m@api_boundary\u001B[39m\n\u001B[1;32m    256\u001B[0m \u001B[38;5;28;01mdef\u001B[39;00m \u001B[38;5;21mcache_miss\u001B[39m(\u001B[38;5;241m*\u001B[39margs, \u001B[38;5;241m*\u001B[39m\u001B[38;5;241m*\u001B[39mkwargs):\n\u001B[0;32m--> 257\u001B[0m   outs, out_flat, out_tree, args_flat, jaxpr \u001B[38;5;241m=\u001B[39m \u001B[43m_python_pjit_helper\u001B[49m\u001B[43m(\u001B[49m\n\u001B[1;32m    258\u001B[0m \u001B[43m      \u001B[49m\u001B[43mfun\u001B[49m\u001B[43m,\u001B[49m\u001B[43m \u001B[49m\u001B[43minfer_params_fn\u001B[49m\u001B[43m,\u001B[49m\u001B[43m \u001B[49m\u001B[38;5;241;43m*\u001B[39;49m\u001B[43margs\u001B[49m\u001B[43m,\u001B[49m\u001B[43m \u001B[49m\u001B[38;5;241;43m*\u001B[39;49m\u001B[38;5;241;43m*\u001B[39;49m\u001B[43mkwargs\u001B[49m\u001B[43m)\u001B[49m\n\u001B[1;32m    259\u001B[0m   executable \u001B[38;5;241m=\u001B[39m _read_most_recent_pjit_call_executable(jaxpr)\n\u001B[1;32m    260\u001B[0m   fastpath_data \u001B[38;5;241m=\u001B[39m _get_fastpath_data(executable, out_tree, args_flat, out_flat)\n",
      "File \u001B[0;32m~/miniconda3/envs/QHDOPT-dev/lib/python3.9/site-packages/jax/_src/pjit.py:168\u001B[0m, in \u001B[0;36m_python_pjit_helper\u001B[0;34m(fun, infer_params_fn, *args, **kwargs)\u001B[0m\n\u001B[1;32m    166\u001B[0m   dispatch\u001B[38;5;241m.\u001B[39mcheck_arg(arg)\n\u001B[1;32m    167\u001B[0m \u001B[38;5;28;01mtry\u001B[39;00m:\n\u001B[0;32m--> 168\u001B[0m   out_flat \u001B[38;5;241m=\u001B[39m \u001B[43mpjit_p\u001B[49m\u001B[38;5;241;43m.\u001B[39;49m\u001B[43mbind\u001B[49m\u001B[43m(\u001B[49m\u001B[38;5;241;43m*\u001B[39;49m\u001B[43margs_flat\u001B[49m\u001B[43m,\u001B[49m\u001B[43m \u001B[49m\u001B[38;5;241;43m*\u001B[39;49m\u001B[38;5;241;43m*\u001B[39;49m\u001B[43mparams\u001B[49m\u001B[43m)\u001B[49m\n\u001B[1;32m    169\u001B[0m \u001B[38;5;28;01mexcept\u001B[39;00m pxla\u001B[38;5;241m.\u001B[39mDeviceAssignmentMismatchError \u001B[38;5;28;01mas\u001B[39;00m e:\n\u001B[1;32m    170\u001B[0m   fails, \u001B[38;5;241m=\u001B[39m e\u001B[38;5;241m.\u001B[39margs\n",
      "File \u001B[0;32m~/miniconda3/envs/QHDOPT-dev/lib/python3.9/site-packages/jax/_src/core.py:2740\u001B[0m, in \u001B[0;36mAxisPrimitive.bind\u001B[0;34m(self, *args, **params)\u001B[0m\n\u001B[1;32m   2736\u001B[0m axis_main \u001B[38;5;241m=\u001B[39m \u001B[38;5;28mmax\u001B[39m((axis_frame(a)\u001B[38;5;241m.\u001B[39mmain_trace \u001B[38;5;28;01mfor\u001B[39;00m a \u001B[38;5;129;01min\u001B[39;00m used_axis_names(\u001B[38;5;28mself\u001B[39m, params)),\n\u001B[1;32m   2737\u001B[0m                 default\u001B[38;5;241m=\u001B[39m\u001B[38;5;28;01mNone\u001B[39;00m, key\u001B[38;5;241m=\u001B[39m\u001B[38;5;28;01mlambda\u001B[39;00m t: \u001B[38;5;28mgetattr\u001B[39m(t, \u001B[38;5;124m'\u001B[39m\u001B[38;5;124mlevel\u001B[39m\u001B[38;5;124m'\u001B[39m, \u001B[38;5;241m-\u001B[39m\u001B[38;5;241m1\u001B[39m))\n\u001B[1;32m   2738\u001B[0m top_trace \u001B[38;5;241m=\u001B[39m (top_trace \u001B[38;5;28;01mif\u001B[39;00m \u001B[38;5;129;01mnot\u001B[39;00m axis_main \u001B[38;5;129;01mor\u001B[39;00m axis_main\u001B[38;5;241m.\u001B[39mlevel \u001B[38;5;241m<\u001B[39m top_trace\u001B[38;5;241m.\u001B[39mlevel\n\u001B[1;32m   2739\u001B[0m              \u001B[38;5;28;01melse\u001B[39;00m axis_main\u001B[38;5;241m.\u001B[39mwith_cur_sublevel())\n\u001B[0;32m-> 2740\u001B[0m \u001B[38;5;28;01mreturn\u001B[39;00m \u001B[38;5;28;43mself\u001B[39;49m\u001B[38;5;241;43m.\u001B[39;49m\u001B[43mbind_with_trace\u001B[49m\u001B[43m(\u001B[49m\u001B[43mtop_trace\u001B[49m\u001B[43m,\u001B[49m\u001B[43m \u001B[49m\u001B[43margs\u001B[49m\u001B[43m,\u001B[49m\u001B[43m \u001B[49m\u001B[43mparams\u001B[49m\u001B[43m)\u001B[49m\n",
      "File \u001B[0;32m~/miniconda3/envs/QHDOPT-dev/lib/python3.9/site-packages/jax/_src/core.py:447\u001B[0m, in \u001B[0;36mPrimitive.bind_with_trace\u001B[0;34m(self, trace, args, params)\u001B[0m\n\u001B[1;32m    446\u001B[0m \u001B[38;5;28;01mdef\u001B[39;00m \u001B[38;5;21mbind_with_trace\u001B[39m(\u001B[38;5;28mself\u001B[39m, trace, args, params):\n\u001B[0;32m--> 447\u001B[0m   out \u001B[38;5;241m=\u001B[39m \u001B[43mtrace\u001B[49m\u001B[38;5;241;43m.\u001B[39;49m\u001B[43mprocess_primitive\u001B[49m\u001B[43m(\u001B[49m\u001B[38;5;28;43mself\u001B[39;49m\u001B[43m,\u001B[49m\u001B[43m \u001B[49m\u001B[38;5;28;43mmap\u001B[39;49m\u001B[43m(\u001B[49m\u001B[43mtrace\u001B[49m\u001B[38;5;241;43m.\u001B[39;49m\u001B[43mfull_raise\u001B[49m\u001B[43m,\u001B[49m\u001B[43m \u001B[49m\u001B[43margs\u001B[49m\u001B[43m)\u001B[49m\u001B[43m,\u001B[49m\u001B[43m \u001B[49m\u001B[43mparams\u001B[49m\u001B[43m)\u001B[49m\n\u001B[1;32m    448\u001B[0m   \u001B[38;5;28;01mreturn\u001B[39;00m \u001B[38;5;28mmap\u001B[39m(full_lower, out) \u001B[38;5;28;01mif\u001B[39;00m \u001B[38;5;28mself\u001B[39m\u001B[38;5;241m.\u001B[39mmultiple_results \u001B[38;5;28;01melse\u001B[39;00m full_lower(out)\n",
      "File \u001B[0;32m~/miniconda3/envs/QHDOPT-dev/lib/python3.9/site-packages/jax/_src/core.py:935\u001B[0m, in \u001B[0;36mEvalTrace.process_primitive\u001B[0;34m(self, primitive, tracers, params)\u001B[0m\n\u001B[1;32m    934\u001B[0m \u001B[38;5;28;01mdef\u001B[39;00m \u001B[38;5;21mprocess_primitive\u001B[39m(\u001B[38;5;28mself\u001B[39m, primitive, tracers, params):\n\u001B[0;32m--> 935\u001B[0m   \u001B[38;5;28;01mreturn\u001B[39;00m \u001B[43mprimitive\u001B[49m\u001B[38;5;241;43m.\u001B[39;49m\u001B[43mimpl\u001B[49m\u001B[43m(\u001B[49m\u001B[38;5;241;43m*\u001B[39;49m\u001B[43mtracers\u001B[49m\u001B[43m,\u001B[49m\u001B[43m \u001B[49m\u001B[38;5;241;43m*\u001B[39;49m\u001B[38;5;241;43m*\u001B[39;49m\u001B[43mparams\u001B[49m\u001B[43m)\u001B[49m\n",
      "File \u001B[0;32m~/miniconda3/envs/QHDOPT-dev/lib/python3.9/site-packages/jax/_src/pjit.py:1245\u001B[0m, in \u001B[0;36m_pjit_call_impl\u001B[0;34m(jaxpr, in_shardings, out_shardings, resource_env, donated_invars, name, keep_unused, inline, *args)\u001B[0m\n\u001B[1;32m   1242\u001B[0m donated_argnums \u001B[38;5;241m=\u001B[39m [i \u001B[38;5;28;01mfor\u001B[39;00m i, d \u001B[38;5;129;01min\u001B[39;00m \u001B[38;5;28menumerate\u001B[39m(donated_invars) \u001B[38;5;28;01mif\u001B[39;00m d]\n\u001B[1;32m   1243\u001B[0m has_explicit_sharding \u001B[38;5;241m=\u001B[39m _pjit_explicit_sharding(\n\u001B[1;32m   1244\u001B[0m     in_shardings, out_shardings, \u001B[38;5;28;01mNone\u001B[39;00m, \u001B[38;5;28;01mNone\u001B[39;00m)\n\u001B[0;32m-> 1245\u001B[0m \u001B[38;5;28;01mreturn\u001B[39;00m \u001B[43mxc\u001B[49m\u001B[38;5;241;43m.\u001B[39;49m\u001B[43m_xla\u001B[49m\u001B[38;5;241;43m.\u001B[39;49m\u001B[43mpjit\u001B[49m\u001B[43m(\u001B[49m\u001B[43mname\u001B[49m\u001B[43m,\u001B[49m\u001B[43m \u001B[49m\u001B[43mf\u001B[49m\u001B[43m,\u001B[49m\u001B[43m \u001B[49m\u001B[43mcall_impl_cache_miss\u001B[49m\u001B[43m,\u001B[49m\u001B[43m \u001B[49m\u001B[43m[\u001B[49m\u001B[43m]\u001B[49m\u001B[43m,\u001B[49m\u001B[43m \u001B[49m\u001B[43m[\u001B[49m\u001B[43m]\u001B[49m\u001B[43m,\u001B[49m\u001B[43m \u001B[49m\u001B[43mdonated_argnums\u001B[49m\u001B[43m,\u001B[49m\n\u001B[1;32m   1246\u001B[0m \u001B[43m                    \u001B[49m\u001B[43mtree_util\u001B[49m\u001B[38;5;241;43m.\u001B[39;49m\u001B[43mdispatch_registry\u001B[49m\u001B[43m,\u001B[49m\n\u001B[1;32m   1247\u001B[0m \u001B[43m                    \u001B[49m\u001B[43m_get_cpp_global_cache\u001B[49m\u001B[43m(\u001B[49m\u001B[43mhas_explicit_sharding\u001B[49m\u001B[43m)\u001B[49m\u001B[43m)\u001B[49m\u001B[43m(\u001B[49m\u001B[38;5;241;43m*\u001B[39;49m\u001B[43margs\u001B[49m\u001B[43m)\u001B[49m\n",
      "File \u001B[0;32m~/miniconda3/envs/QHDOPT-dev/lib/python3.9/site-packages/jax/_src/pjit.py:1229\u001B[0m, in \u001B[0;36m_pjit_call_impl.<locals>.call_impl_cache_miss\u001B[0;34m(*args_, **kwargs_)\u001B[0m\n\u001B[1;32m   1228\u001B[0m \u001B[38;5;28;01mdef\u001B[39;00m \u001B[38;5;21mcall_impl_cache_miss\u001B[39m(\u001B[38;5;241m*\u001B[39margs_, \u001B[38;5;241m*\u001B[39m\u001B[38;5;241m*\u001B[39mkwargs_):\n\u001B[0;32m-> 1229\u001B[0m   out_flat, compiled \u001B[38;5;241m=\u001B[39m \u001B[43m_pjit_call_impl_python\u001B[49m\u001B[43m(\u001B[49m\n\u001B[1;32m   1230\u001B[0m \u001B[43m      \u001B[49m\u001B[38;5;241;43m*\u001B[39;49m\u001B[43margs\u001B[49m\u001B[43m,\u001B[49m\u001B[43m \u001B[49m\u001B[43mjaxpr\u001B[49m\u001B[38;5;241;43m=\u001B[39;49m\u001B[43mjaxpr\u001B[49m\u001B[43m,\u001B[49m\u001B[43m \u001B[49m\u001B[43min_shardings\u001B[49m\u001B[38;5;241;43m=\u001B[39;49m\u001B[43min_shardings\u001B[49m\u001B[43m,\u001B[49m\n\u001B[1;32m   1231\u001B[0m \u001B[43m      \u001B[49m\u001B[43mout_shardings\u001B[49m\u001B[38;5;241;43m=\u001B[39;49m\u001B[43mout_shardings\u001B[49m\u001B[43m,\u001B[49m\u001B[43m \u001B[49m\u001B[43mresource_env\u001B[49m\u001B[38;5;241;43m=\u001B[39;49m\u001B[43mresource_env\u001B[49m\u001B[43m,\u001B[49m\n\u001B[1;32m   1232\u001B[0m \u001B[43m      \u001B[49m\u001B[43mdonated_invars\u001B[49m\u001B[38;5;241;43m=\u001B[39;49m\u001B[43mdonated_invars\u001B[49m\u001B[43m,\u001B[49m\u001B[43m \u001B[49m\u001B[43mname\u001B[49m\u001B[38;5;241;43m=\u001B[39;49m\u001B[43mname\u001B[49m\u001B[43m,\u001B[49m\u001B[43m \u001B[49m\u001B[43mkeep_unused\u001B[49m\u001B[38;5;241;43m=\u001B[39;49m\u001B[43mkeep_unused\u001B[49m\u001B[43m,\u001B[49m\n\u001B[1;32m   1233\u001B[0m \u001B[43m      \u001B[49m\u001B[43minline\u001B[49m\u001B[38;5;241;43m=\u001B[39;49m\u001B[43minline\u001B[49m\u001B[43m)\u001B[49m\n\u001B[1;32m   1234\u001B[0m   fastpath_data \u001B[38;5;241m=\u001B[39m _get_fastpath_data(\n\u001B[1;32m   1235\u001B[0m       compiled, tree_structure(out_flat), args, out_flat)\n\u001B[1;32m   1236\u001B[0m   \u001B[38;5;28;01mreturn\u001B[39;00m out_flat, fastpath_data\n",
      "File \u001B[0;32m~/miniconda3/envs/QHDOPT-dev/lib/python3.9/site-packages/jax/_src/pjit.py:1162\u001B[0m, in \u001B[0;36m_pjit_call_impl_python\u001B[0;34m(jaxpr, in_shardings, out_shardings, resource_env, donated_invars, name, keep_unused, inline, *args)\u001B[0m\n\u001B[1;32m   1156\u001B[0m \u001B[38;5;28;01mglobal\u001B[39;00m _most_recent_pjit_call_executable\n\u001B[1;32m   1158\u001B[0m in_shardings \u001B[38;5;241m=\u001B[39m _resolve_in_shardings(\n\u001B[1;32m   1159\u001B[0m     args, in_shardings, out_shardings,\n\u001B[1;32m   1160\u001B[0m     resource_env\u001B[38;5;241m.\u001B[39mphysical_mesh \u001B[38;5;28;01mif\u001B[39;00m resource_env \u001B[38;5;129;01mis\u001B[39;00m \u001B[38;5;129;01mnot\u001B[39;00m \u001B[38;5;28;01mNone\u001B[39;00m \u001B[38;5;28;01melse\u001B[39;00m \u001B[38;5;28;01mNone\u001B[39;00m)\n\u001B[0;32m-> 1162\u001B[0m compiled \u001B[38;5;241m=\u001B[39m \u001B[43m_pjit_lower\u001B[49m\u001B[43m(\u001B[49m\n\u001B[1;32m   1163\u001B[0m \u001B[43m    \u001B[49m\u001B[43mjaxpr\u001B[49m\u001B[43m,\u001B[49m\u001B[43m \u001B[49m\u001B[43min_shardings\u001B[49m\u001B[43m,\u001B[49m\u001B[43m \u001B[49m\u001B[43mout_shardings\u001B[49m\u001B[43m,\u001B[49m\u001B[43m \u001B[49m\u001B[43mresource_env\u001B[49m\u001B[43m,\u001B[49m\n\u001B[1;32m   1164\u001B[0m \u001B[43m    \u001B[49m\u001B[43mdonated_invars\u001B[49m\u001B[43m,\u001B[49m\u001B[43m \u001B[49m\u001B[43mname\u001B[49m\u001B[43m,\u001B[49m\u001B[43m \u001B[49m\u001B[43mkeep_unused\u001B[49m\u001B[43m,\u001B[49m\u001B[43m \u001B[49m\u001B[43minline\u001B[49m\u001B[43m,\u001B[49m\n\u001B[1;32m   1165\u001B[0m \u001B[43m    \u001B[49m\u001B[43mlowering_parameters\u001B[49m\u001B[38;5;241;43m=\u001B[39;49m\u001B[43mmlir\u001B[49m\u001B[38;5;241;43m.\u001B[39;49m\u001B[43mLoweringParameters\u001B[49m\u001B[43m(\u001B[49m\u001B[43m)\u001B[49m\u001B[43m)\u001B[49m\u001B[38;5;241;43m.\u001B[39;49m\u001B[43mcompile\u001B[49m\u001B[43m(\u001B[49m\u001B[43m)\u001B[49m\n\u001B[1;32m   1166\u001B[0m _most_recent_pjit_call_executable\u001B[38;5;241m.\u001B[39mweak_key_dict[jaxpr] \u001B[38;5;241m=\u001B[39m compiled\n\u001B[1;32m   1167\u001B[0m \u001B[38;5;66;03m# This check is expensive so only do it if enable_checks is on.\u001B[39;00m\n",
      "File \u001B[0;32m~/miniconda3/envs/QHDOPT-dev/lib/python3.9/site-packages/jax/_src/interpreters/pxla.py:2219\u001B[0m, in \u001B[0;36mMeshComputation.compile\u001B[0;34m(self, compiler_options)\u001B[0m\n\u001B[1;32m   2217\u001B[0m \u001B[38;5;28;01mdef\u001B[39;00m \u001B[38;5;21mcompile\u001B[39m(\u001B[38;5;28mself\u001B[39m, compiler_options\u001B[38;5;241m=\u001B[39m\u001B[38;5;28;01mNone\u001B[39;00m) \u001B[38;5;241m-\u001B[39m\u001B[38;5;241m>\u001B[39m MeshExecutable:\n\u001B[1;32m   2218\u001B[0m   \u001B[38;5;28;01mif\u001B[39;00m \u001B[38;5;28mself\u001B[39m\u001B[38;5;241m.\u001B[39m_executable \u001B[38;5;129;01mis\u001B[39;00m \u001B[38;5;28;01mNone\u001B[39;00m \u001B[38;5;129;01mor\u001B[39;00m compiler_options \u001B[38;5;129;01mis\u001B[39;00m \u001B[38;5;129;01mnot\u001B[39;00m \u001B[38;5;28;01mNone\u001B[39;00m:\n\u001B[0;32m-> 2219\u001B[0m     executable \u001B[38;5;241m=\u001B[39m \u001B[43mUnloadedMeshExecutable\u001B[49m\u001B[38;5;241;43m.\u001B[39;49m\u001B[43mfrom_hlo\u001B[49m\u001B[43m(\u001B[49m\n\u001B[1;32m   2220\u001B[0m \u001B[43m        \u001B[49m\u001B[38;5;28;43mself\u001B[39;49m\u001B[38;5;241;43m.\u001B[39;49m\u001B[43m_name\u001B[49m\u001B[43m,\u001B[49m\u001B[43m \u001B[49m\u001B[38;5;28;43mself\u001B[39;49m\u001B[38;5;241;43m.\u001B[39;49m\u001B[43m_hlo\u001B[49m\u001B[43m,\u001B[49m\u001B[43m \u001B[49m\u001B[38;5;241;43m*\u001B[39;49m\u001B[38;5;241;43m*\u001B[39;49m\u001B[38;5;28;43mself\u001B[39;49m\u001B[38;5;241;43m.\u001B[39;49m\u001B[43mcompile_args\u001B[49m\u001B[43m,\u001B[49m\n\u001B[1;32m   2221\u001B[0m \u001B[43m        \u001B[49m\u001B[43mcompiler_options\u001B[49m\u001B[38;5;241;43m=\u001B[39;49m\u001B[43mcompiler_options\u001B[49m\u001B[43m)\u001B[49m\n\u001B[1;32m   2222\u001B[0m     \u001B[38;5;28;01mif\u001B[39;00m compiler_options \u001B[38;5;129;01mis\u001B[39;00m \u001B[38;5;28;01mNone\u001B[39;00m:\n\u001B[1;32m   2223\u001B[0m       \u001B[38;5;28mself\u001B[39m\u001B[38;5;241m.\u001B[39m_executable \u001B[38;5;241m=\u001B[39m executable\n",
      "File \u001B[0;32m~/miniconda3/envs/QHDOPT-dev/lib/python3.9/site-packages/jax/_src/interpreters/pxla.py:2659\u001B[0m, in \u001B[0;36mUnloadedMeshExecutable.from_hlo\u001B[0;34m(***failed resolving arguments***)\u001B[0m\n\u001B[1;32m   2656\u001B[0m       mesh \u001B[38;5;241m=\u001B[39m i\u001B[38;5;241m.\u001B[39mmesh  \u001B[38;5;66;03m# type: ignore\u001B[39;00m\n\u001B[1;32m   2657\u001B[0m       \u001B[38;5;28;01mbreak\u001B[39;00m\n\u001B[0;32m-> 2659\u001B[0m xla_executable, compile_options \u001B[38;5;241m=\u001B[39m \u001B[43m_cached_compilation\u001B[49m\u001B[43m(\u001B[49m\n\u001B[1;32m   2660\u001B[0m \u001B[43m    \u001B[49m\u001B[43mhlo\u001B[49m\u001B[43m,\u001B[49m\u001B[43m \u001B[49m\u001B[43mname\u001B[49m\u001B[43m,\u001B[49m\u001B[43m \u001B[49m\u001B[43mmesh\u001B[49m\u001B[43m,\u001B[49m\u001B[43m \u001B[49m\u001B[43mspmd_lowering\u001B[49m\u001B[43m,\u001B[49m\n\u001B[1;32m   2661\u001B[0m \u001B[43m    \u001B[49m\u001B[43mtuple_args\u001B[49m\u001B[43m,\u001B[49m\u001B[43m \u001B[49m\u001B[43mauto_spmd_lowering\u001B[49m\u001B[43m,\u001B[49m\u001B[43m \u001B[49m\u001B[43mallow_prop_to_outputs\u001B[49m\u001B[43m,\u001B[49m\n\u001B[1;32m   2662\u001B[0m \u001B[43m    \u001B[49m\u001B[38;5;28;43mtuple\u001B[39;49m\u001B[43m(\u001B[49m\u001B[43mhost_callbacks\u001B[49m\u001B[43m)\u001B[49m\u001B[43m,\u001B[49m\u001B[43m \u001B[49m\u001B[43mbackend\u001B[49m\u001B[43m,\u001B[49m\u001B[43m \u001B[49m\u001B[43mda\u001B[49m\u001B[43m,\u001B[49m\u001B[43m \u001B[49m\u001B[43mpmap_nreps\u001B[49m\u001B[43m,\u001B[49m\n\u001B[1;32m   2663\u001B[0m \u001B[43m    \u001B[49m\u001B[43mcompiler_options_keys\u001B[49m\u001B[43m,\u001B[49m\u001B[43m \u001B[49m\u001B[43mcompiler_options_values\u001B[49m\u001B[43m)\u001B[49m\n\u001B[1;32m   2665\u001B[0m \u001B[38;5;28;01mif\u001B[39;00m \u001B[38;5;28mhasattr\u001B[39m(backend, \u001B[38;5;124m\"\u001B[39m\u001B[38;5;124mcompile_replicated\u001B[39m\u001B[38;5;124m\"\u001B[39m):\n\u001B[1;32m   2666\u001B[0m   semantics_in_shardings \u001B[38;5;241m=\u001B[39m SemanticallyEqualShardings(in_shardings)  \u001B[38;5;66;03m# type: ignore\u001B[39;00m\n",
      "File \u001B[0;32m~/miniconda3/envs/QHDOPT-dev/lib/python3.9/site-packages/jax/_src/interpreters/pxla.py:2528\u001B[0m, in \u001B[0;36m_cached_compilation\u001B[0;34m(computation, name, mesh, spmd_lowering, tuple_args, auto_spmd_lowering, _allow_propagation_to_outputs, host_callbacks, backend, da, pmap_nreps, compiler_options_keys, compiler_options_values)\u001B[0m\n\u001B[1;32m   2523\u001B[0m   \u001B[38;5;28;01mreturn\u001B[39;00m \u001B[38;5;28;01mNone\u001B[39;00m, compile_options\n\u001B[1;32m   2525\u001B[0m \u001B[38;5;28;01mwith\u001B[39;00m dispatch\u001B[38;5;241m.\u001B[39mlog_elapsed_time(\n\u001B[1;32m   2526\u001B[0m     \u001B[38;5;124m\"\u001B[39m\u001B[38;5;124mFinished XLA compilation of \u001B[39m\u001B[38;5;132;01m{fun_name}\u001B[39;00m\u001B[38;5;124m in \u001B[39m\u001B[38;5;132;01m{elapsed_time}\u001B[39;00m\u001B[38;5;124m sec\u001B[39m\u001B[38;5;124m\"\u001B[39m,\n\u001B[1;32m   2527\u001B[0m     fun_name\u001B[38;5;241m=\u001B[39mname, event\u001B[38;5;241m=\u001B[39mdispatch\u001B[38;5;241m.\u001B[39mBACKEND_COMPILE_EVENT):\n\u001B[0;32m-> 2528\u001B[0m   xla_executable \u001B[38;5;241m=\u001B[39m \u001B[43mcompiler\u001B[49m\u001B[38;5;241;43m.\u001B[39;49m\u001B[43mcompile_or_get_cached\u001B[49m\u001B[43m(\u001B[49m\n\u001B[1;32m   2529\u001B[0m \u001B[43m      \u001B[49m\u001B[43mbackend\u001B[49m\u001B[43m,\u001B[49m\u001B[43m \u001B[49m\u001B[43mcomputation\u001B[49m\u001B[43m,\u001B[49m\u001B[43m \u001B[49m\u001B[43mdev\u001B[49m\u001B[43m,\u001B[49m\u001B[43m \u001B[49m\u001B[43mcompile_options\u001B[49m\u001B[43m,\u001B[49m\u001B[43m \u001B[49m\u001B[43mhost_callbacks\u001B[49m\u001B[43m)\u001B[49m\n\u001B[1;32m   2530\u001B[0m \u001B[38;5;28;01mreturn\u001B[39;00m xla_executable, compile_options\n",
      "File \u001B[0;32m~/miniconda3/envs/QHDOPT-dev/lib/python3.9/site-packages/jax/_src/compiler.py:296\u001B[0m, in \u001B[0;36mcompile_or_get_cached\u001B[0;34m(backend, computation, devices, compile_options, host_callbacks)\u001B[0m\n\u001B[1;32m    292\u001B[0m use_compilation_cache \u001B[38;5;241m=\u001B[39m (compilation_cache\u001B[38;5;241m.\u001B[39mis_initialized() \u001B[38;5;129;01mand\u001B[39;00m\n\u001B[1;32m    293\u001B[0m                          backend\u001B[38;5;241m.\u001B[39mplatform \u001B[38;5;129;01min\u001B[39;00m supported_platforms)\n\u001B[1;32m    295\u001B[0m \u001B[38;5;28;01mif\u001B[39;00m \u001B[38;5;129;01mnot\u001B[39;00m use_compilation_cache:\n\u001B[0;32m--> 296\u001B[0m   \u001B[38;5;28;01mreturn\u001B[39;00m \u001B[43mbackend_compile\u001B[49m\u001B[43m(\u001B[49m\u001B[43mbackend\u001B[49m\u001B[43m,\u001B[49m\u001B[43m \u001B[49m\u001B[43mcomputation\u001B[49m\u001B[43m,\u001B[49m\u001B[43m \u001B[49m\u001B[43mcompile_options\u001B[49m\u001B[43m,\u001B[49m\n\u001B[1;32m    297\u001B[0m \u001B[43m                         \u001B[49m\u001B[43mhost_callbacks\u001B[49m\u001B[43m)\u001B[49m\n\u001B[1;32m    299\u001B[0m compilation_cache\u001B[38;5;241m.\u001B[39mset_once_cache_used(\n\u001B[1;32m    300\u001B[0m     \u001B[38;5;28;01mlambda\u001B[39;00m: monitoring\u001B[38;5;241m.\u001B[39mrecord_event(\n\u001B[1;32m    301\u001B[0m         \u001B[38;5;124m\"\u001B[39m\u001B[38;5;124m/jax/compilation_cache/tasks_using_cache\u001B[39m\u001B[38;5;124m\"\u001B[39m))\n\u001B[1;32m    302\u001B[0m monitoring\u001B[38;5;241m.\u001B[39mrecord_event(\u001B[38;5;124m'\u001B[39m\u001B[38;5;124m/jax/compilation_cache/compile_requests_use_cache\u001B[39m\u001B[38;5;124m'\u001B[39m)\n",
      "File \u001B[0;32m~/miniconda3/envs/QHDOPT-dev/lib/python3.9/site-packages/jax/_src/profiler.py:336\u001B[0m, in \u001B[0;36mannotate_function.<locals>.wrapper\u001B[0;34m(*args, **kwargs)\u001B[0m\n\u001B[1;32m    333\u001B[0m \u001B[38;5;129m@wraps\u001B[39m(func)\n\u001B[1;32m    334\u001B[0m \u001B[38;5;28;01mdef\u001B[39;00m \u001B[38;5;21mwrapper\u001B[39m(\u001B[38;5;241m*\u001B[39margs, \u001B[38;5;241m*\u001B[39m\u001B[38;5;241m*\u001B[39mkwargs):\n\u001B[1;32m    335\u001B[0m   \u001B[38;5;28;01mwith\u001B[39;00m TraceAnnotation(name, \u001B[38;5;241m*\u001B[39m\u001B[38;5;241m*\u001B[39mdecorator_kwargs):\n\u001B[0;32m--> 336\u001B[0m     \u001B[38;5;28;01mreturn\u001B[39;00m \u001B[43mfunc\u001B[49m\u001B[43m(\u001B[49m\u001B[38;5;241;43m*\u001B[39;49m\u001B[43margs\u001B[49m\u001B[43m,\u001B[49m\u001B[43m \u001B[49m\u001B[38;5;241;43m*\u001B[39;49m\u001B[38;5;241;43m*\u001B[39;49m\u001B[43mkwargs\u001B[49m\u001B[43m)\u001B[49m\n\u001B[1;32m    337\u001B[0m   \u001B[38;5;28;01mreturn\u001B[39;00m wrapper\n",
      "File \u001B[0;32m~/miniconda3/envs/QHDOPT-dev/lib/python3.9/site-packages/jax/_src/compiler.py:256\u001B[0m, in \u001B[0;36mbackend_compile\u001B[0;34m(backend, module, options, host_callbacks)\u001B[0m\n\u001B[1;32m    251\u001B[0m   \u001B[38;5;28;01mreturn\u001B[39;00m backend\u001B[38;5;241m.\u001B[39mcompile(built_c, compile_options\u001B[38;5;241m=\u001B[39moptions,\n\u001B[1;32m    252\u001B[0m                          host_callbacks\u001B[38;5;241m=\u001B[39mhost_callbacks)\n\u001B[1;32m    253\u001B[0m \u001B[38;5;66;03m# Some backends don't have `host_callbacks` option yet\u001B[39;00m\n\u001B[1;32m    254\u001B[0m \u001B[38;5;66;03m# TODO(sharadmv): remove this fallback when all backends allow `compile`\u001B[39;00m\n\u001B[1;32m    255\u001B[0m \u001B[38;5;66;03m# to take in `host_callbacks`\u001B[39;00m\n\u001B[0;32m--> 256\u001B[0m \u001B[38;5;28;01mreturn\u001B[39;00m \u001B[43mbackend\u001B[49m\u001B[38;5;241;43m.\u001B[39;49m\u001B[43mcompile\u001B[49m\u001B[43m(\u001B[49m\u001B[43mbuilt_c\u001B[49m\u001B[43m,\u001B[49m\u001B[43m \u001B[49m\u001B[43mcompile_options\u001B[49m\u001B[38;5;241;43m=\u001B[39;49m\u001B[43moptions\u001B[49m\u001B[43m)\u001B[49m\n",
      "\u001B[0;31mKeyboardInterrupt\u001B[0m: "
     ]
    }
   ],
   "source": [
    "# Set the desired precision (number of decimal places)\n",
    "mpmath.mp.dps = 50  # for example, 50 decimal places\n",
    "# Set A explicitly for this example:\n",
    "A = np.array([[2, 0], [0, 3]])\n",
    "# Convert A to mpmath matrix\n",
    "A_mpmath = mpmath.matrix(A)\n",
    "\n",
    "# High precision x vector\n",
    "x_mpmath = mpmath.matrix([0.5, 0.33333333333333333333])\n",
    "\n",
    "# Calculate b using mpmath's dot product\n",
    "b_mpmath = A_mpmath * x_mpmath\n",
    "\n",
    "\n",
    "res, c = IR_QHD(A_mpmath, b_mpmath, 1e-16)"
   ],
   "metadata": {
    "collapsed": false
   }
  },
  {
   "cell_type": "markdown",
   "source": [
    "Harder Problem"
   ],
   "metadata": {
    "collapsed": false
   }
  },
  {
   "cell_type": "code",
   "execution_count": 4,
   "outputs": [
    {
     "name": "stdout",
     "output_type": "stream",
     "text": [
      "Received Task from D-Wave:\n",
      "2024-02-05 17:17:34\n",
      "Backend QPU Time: 0.02762997\n",
      "Overhead Time: 6.139835955216675\n",
      "\n",
      "0.095146324746063333622592845886094031848068481434762\n",
      "Received Task from D-Wave:\n",
      "2024-02-05 17:17:54\n",
      "Backend QPU Time: 0.02780357\n",
      "Overhead Time: 4.323018401893311\n",
      "\n",
      "0.038338876415363294773416776002613046843878034013572\n",
      "Received Task from D-Wave:\n",
      "2024-02-05 17:18:10\n",
      "Backend QPU Time: 0.03158237\n",
      "Overhead Time: 9.081648812098388\n",
      "\n",
      "0.028768975563847665524706203672308336155140007436724\n",
      "Received Task from D-Wave:\n",
      "2024-02-05 17:18:43\n",
      "Backend QPU Time: 0.02787477\n",
      "Overhead Time: 27.947911200687866\n",
      "\n",
      "0.0063007368883041022814374327888738053938570372388421\n",
      "Received Task from D-Wave:\n",
      "2024-02-05 17:19:11\n",
      "Backend QPU Time: 0.03081677\n",
      "Overhead Time: 27.20747210939453\n",
      "\n",
      "0.0013008472048886950973654562623973295044637715687906\n",
      "Received Task from D-Wave:\n",
      "2024-02-05 17:19:42\n",
      "Backend QPU Time: 0.02798717\n",
      "Overhead Time: 31.279914927702027\n",
      "\n",
      "0.0013183843134461790608344949776018288574300889241562\n",
      "Received Task from D-Wave:\n",
      "2024-02-05 17:19:50\n",
      "Backend QPU Time: 0.02571077\n",
      "Overhead Time: 6.8514051948895265\n",
      "\n",
      "0.001037997299495003655220445607010605510793827294399\n",
      "Received Task from D-Wave:\n",
      "2024-02-05 17:19:56\n",
      "Backend QPU Time: 0.031207969999999998\n",
      "Overhead Time: 5.591908761643677\n",
      "\n",
      "0.00061717448011183475893678031281098615990160776228571\n",
      "Received Task from D-Wave:\n",
      "2024-02-05 17:20:01\n",
      "Backend QPU Time: 0.025434369999999998\n",
      "Overhead Time: 5.2830506611279295\n",
      "\n",
      "0.00029020959525097990077477438555179673784343947647271\n",
      "Received Task from D-Wave:\n",
      "2024-02-05 17:20:07\n",
      "Backend QPU Time: 0.031164769999999998\n",
      "Overhead Time: 4.95979129803894\n",
      "\n",
      "0.000051331537161312172715618060644990416550654481582927\n",
      "Received Task from D-Wave:\n",
      "2024-02-05 17:20:15\n",
      "Backend QPU Time: 0.025528369999999998\n",
      "Overhead Time: 7.977185548685913\n",
      "\n",
      "0.000016715810574992192350368940291326558433387592097693\n",
      "Received Task from D-Wave:\n",
      "2024-02-05 17:20:23\n",
      "Backend QPU Time: 0.030275569999999998\n",
      "Overhead Time: 7.607902540122681\n",
      "\n",
      "0.0000022524035713503783592983688602946861880106232342109\n",
      "Received Task from D-Wave:\n",
      "2024-02-05 17:20:29\n",
      "Backend QPU Time: 0.02820157\n",
      "Overhead Time: 5.769326458488159\n",
      "\n",
      "0.00000050069637872816021205181105196492294798170225060891\n",
      "Received Task from D-Wave:\n",
      "2024-02-05 17:20:36\n",
      "Backend QPU Time: 0.02693037\n",
      "Overhead Time: 7.0226845363110355\n",
      "\n",
      "0.0000003342588408358448875933099939004231505286308321923\n",
      "Received Task from D-Wave:\n",
      "2024-02-05 17:20:41\n",
      "Backend QPU Time: 0.02573557\n",
      "Overhead Time: 4.0900121202008055\n",
      "\n",
      "0.000000073945675123655028878284948453856332453049563720774\n",
      "Received Task from D-Wave:\n",
      "2024-02-05 17:20:46\n",
      "Backend QPU Time: 0.02809797\n",
      "Overhead Time: 4.842515128144531\n",
      "\n",
      "0.0000000088677374522432340978038697340948179904962443127521\n",
      "Received Task from D-Wave:\n",
      "2024-02-05 17:20:52\n",
      "Backend QPU Time: 0.03036957\n",
      "Overhead Time: 5.535034368293457\n",
      "\n",
      "0.00000000073751838354290876945319377822729631333224356195957\n",
      "Received Task from D-Wave:\n",
      "2024-02-05 17:20:58\n",
      "Backend QPU Time: 0.031427569999999995\n",
      "Overhead Time: 5.506741337165527\n",
      "\n",
      "0.00000000073751838354290876945319377822729631333224356195957\n",
      "Received Task from D-Wave:\n",
      "2024-02-05 17:21:03\n",
      "Backend QPU Time: 0.025902369999999997\n",
      "Overhead Time: 4.615968605494385\n",
      "\n",
      "0.00000000029691093918786856878430903784062055652794859897273\n",
      "Received Task from D-Wave:\n",
      "2024-02-05 17:21:08\n",
      "Backend QPU Time: 0.02541597\n",
      "Overhead Time: 5.304665254441528\n",
      "\n",
      "0.000000000014711976305867906517596751083287615802642583023151\n",
      "Received Task from D-Wave:\n",
      "2024-02-05 17:21:14\n",
      "Backend QPU Time: 0.03114717\n",
      "Overhead Time: 5.164621663160401\n",
      "\n",
      "0.00000000000083417637037569679223131303740406480417105092321335\n",
      "Received Task from D-Wave:\n",
      "2024-02-05 17:21:19\n",
      "Backend QPU Time: 0.03057557\n",
      "Overhead Time: 5.1622025405041505\n",
      "\n",
      "0.00000000000083417637037569679223131303740406480417105092321335\n",
      "Received Task from D-Wave:\n",
      "2024-02-05 17:21:25\n",
      "Backend QPU Time: 0.03150157\n",
      "Overhead Time: 4.772593221412354\n",
      "\n",
      "0.00000000000061310032388524481827425489364423617230841404025191\n",
      "Received Task from D-Wave:\n",
      "2024-02-05 17:21:30\n",
      "Backend QPU Time: 0.027941169999999998\n",
      "Overhead Time: 4.951856908536987\n",
      "\n",
      "0.00000000000011322802448071159399071583312452137630264135434227\n",
      "Received Task from D-Wave:\n",
      "2024-02-05 17:21:36\n",
      "Backend QPU Time: 0.03153357\n",
      "Overhead Time: 5.302352338126831\n",
      "\n",
      "0.000000000000096710532695106394007050960206011399167152115144562\n",
      "Received Task from D-Wave:\n",
      "2024-02-05 17:21:41\n",
      "Backend QPU Time: 0.028023169999999997\n",
      "Overhead Time: 5.501077009672241\n",
      "\n",
      "0.0000000000000051886395335365004924968470806777476314495746608858\n",
      "Received Task from D-Wave:\n",
      "2024-02-05 17:21:47\n",
      "Backend QPU Time: 0.03130077\n",
      "Overhead Time: 5.720764173313599\n",
      "\n",
      "0.0000000000000014572563516996013726366713141472989378175430664577\n",
      "Received Task from D-Wave:\n",
      "2024-02-05 17:22:04\n",
      "Backend QPU Time: 0.026105569999999998\n",
      "Overhead Time: 16.4134696253125\n",
      "\n",
      "3.6186243324418523640580646820351644158577670078424e-16\n",
      "Received Task from D-Wave:\n",
      "2024-02-05 17:22:08\n",
      "Backend QPU Time: 0.027207169999999996\n",
      "Overhead Time: 3.883796658048706\n",
      "\n",
      "4.5973457228009677764359529867766552571325339604522e-17\n"
     ]
    }
   ],
   "source": [
    "A = np.array([[2.3413, 1.858], [1.858, 0.563]])\n",
    "# Convert A to mpmath matrix\n",
    "A_mpmath = mpmath.matrix(A)\n",
    "\n",
    "# High precision x vector\n",
    "x_mpmath = mpmath.matrix([0.34987313872918378423, 0.534563452331234876327])\n",
    "A_mpmath = A_mpmath * A_mpmath.transpose()\n",
    "\n",
    "# Calculate b using mpmath's dot product\n",
    "b_mpmath = A_mpmath * x_mpmath\n",
    "\n",
    "\n",
    "res, c = IR_QHD(A_mpmath, b_mpmath, 1e-16)"
   ],
   "metadata": {
    "collapsed": false
   }
  },
  {
   "cell_type": "code",
   "execution_count": 5,
   "outputs": [
    {
     "data": {
      "text/plain": "matrix(\n[['0.34987313872918382465226321281973602935339057456857'],\n ['0.53456345233123487258488309982956639131506721926777']])"
     },
     "execution_count": 5,
     "metadata": {},
     "output_type": "execute_result"
    }
   ],
   "source": [
    "c"
   ],
   "metadata": {
    "collapsed": false
   }
  },
  {
   "cell_type": "code",
   "execution_count": null,
   "outputs": [],
   "source": [],
   "metadata": {
    "collapsed": false
   }
  }
 ],
 "metadata": {
  "kernelspec": {
   "display_name": "Python 3",
   "language": "python",
   "name": "python3"
  },
  "language_info": {
   "codemirror_mode": {
    "name": "ipython",
    "version": 2
   },
   "file_extension": ".py",
   "mimetype": "text/x-python",
   "name": "python",
   "nbconvert_exporter": "python",
   "pygments_lexer": "ipython2",
   "version": "2.7.6"
  }
 },
 "nbformat": 4,
 "nbformat_minor": 0
}
