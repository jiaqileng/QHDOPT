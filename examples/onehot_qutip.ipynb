{
 "cells": [
  {
   "cell_type": "code",
   "execution_count": 7,
   "metadata": {},
   "outputs": [],
   "source": [
    "import sys\n",
    "sys.path.insert(0, '../')\n",
    "import numpy as np\n",
    "from qhdopt import QHD\n",
    "from qhdopt.utils.benchmark_utils import run_test"
   ]
  },
  {
   "cell_type": "code",
   "execution_count": 8,
   "metadata": {},
   "outputs": [],
   "source": [
    "from sympy import symbols\n",
    "x, y = symbols('x y')\n",
    "functions = [(-x**2 + x*y - 0.5 * y ** 2 + 3. / 4 * x - 1. / 4 * y, [x, y])]"
   ]
  },
  {
   "cell_type": "markdown",
   "source": [
    "<h3> List of parameters </>"
   ],
   "metadata": {
    "collapsed": false
   }
  },
  {
   "cell_type": "code",
   "execution_count": 9,
   "outputs": [],
   "source": [
    "backend = \"qutip\"\n",
    "embedding_scheme = \"onehot\"\n",
    "resolution = 6\n",
    "penalty = 50\n",
    "discretization = 40\n",
    "shots = 1000\n",
    "gamma = 30\n",
    "tol = 1e-3\n",
    "penalty_coefficient = 1.2"
   ],
   "metadata": {
    "collapsed": false
   }
  },
  {
   "cell_type": "code",
   "execution_count": 10,
   "outputs": [],
   "source": [
    "data = np.zeros((len(functions), 12))"
   ],
   "metadata": {
    "collapsed": false
   }
  },
  {
   "cell_type": "code",
   "execution_count": 11,
   "outputs": [
    {
     "name": "stdout",
     "output_type": "stream",
     "text": [
      "Test problem 0:\n",
      "Compiled.\n",
      "Solved.\n",
      "* Coarse solution\n",
      "Minimizer: [0.16666667 1.        ]\n",
      "Affined Minimizer: [0.16666667 1.        ]\n",
      "Minimum: -0.4861111\n",
      "\n",
      "* Fine-tuned solution\n",
      "Minimizer: [0. 1.]\n",
      "Affined Minimizer: [0. 1.]\n",
      "Minimum: -0.75\n",
      "Success rate: 0.991\n",
      "\n",
      "* Runtime breakdown\n",
      "SimuQ compilation: 2.146 s\n",
      "Backend runtime: 19.915 s\n",
      "Decoding time: 0.247 s\n",
      "Fine-tuning time: 0.480 s\n",
      "* Total time: 22.789 s\n"
     ]
    }
   ],
   "source": [
    "for i in range(0, len(functions)):\n",
    "    print(f\"Test problem {i}:\")\n",
    "    function, syms = functions[i]\n",
    "    model = QHD.SymPy(function, syms)\n",
    "    model.qutip_setup(resolution,shots, embedding_scheme=embedding_scheme, penalty_coefficient=penalty_coefficient, time_discretization=discretization, gamma=gamma, post_processing_method=\"TNC\")\n",
    "    data[i] = run_test(model)"
   ],
   "metadata": {
    "collapsed": false
   }
  },
  {
   "cell_type": "code",
   "execution_count": 6,
   "outputs": [
    {
     "name": "stdout",
     "output_type": "stream",
     "text": [
      "Compiled.\n",
      "Solved.\n",
      "* Coarse solution\n",
      "Minimizer: [1.   0.25 1.  ]\n",
      "Affined Minimizer: [1.   0.25 1.  ]\n",
      "Minimum: -0.6875\n",
      "\n",
      "* Fine-tuned solution\n",
      "Minimizer: [1. 0. 1.]\n",
      "Affined Minimizer: [1. 0. 1.]\n",
      "Minimum: -1.0\n",
      "Success rate: 1.0\n",
      "\n",
      "* Runtime breakdown\n",
      "SimuQ compilation: 2.137 s\n",
      "Backend runtime: 8.236 s\n",
      "Decoding time: 0.072 s\n",
      "Fine-tuning time: 0.084 s\n",
      "* Total time: 10.529 s\n"
     ]
    },
    {
     "data": {
      "text/plain": "Array(-1., dtype=float32)"
     },
     "execution_count": 6,
     "metadata": {},
     "output_type": "execute_result"
    }
   ],
   "source": [
    "x, y, z = symbols('x y z')\n",
    "f = (y**2)*z - x*z + (x**2)*y\n",
    "model = QHD.SymPy(f, [x, y, z])\n",
    "model.qutip_setup(4, time_discretization=40)\n",
    "model.optimize(verbose=1)"
   ],
   "metadata": {
    "collapsed": false
   }
  },
  {
   "cell_type": "code",
   "execution_count": null,
   "outputs": [],
   "source": [],
   "metadata": {
    "collapsed": false
   }
  }
 ],
 "metadata": {
  "kernelspec": {
   "display_name": "Python 3 (ipykernel)",
   "language": "python",
   "name": "python3"
  },
  "language_info": {
   "codemirror_mode": {
    "name": "ipython",
    "version": 3
   },
   "file_extension": ".py",
   "mimetype": "text/x-python",
   "name": "python",
   "nbconvert_exporter": "python",
   "pygments_lexer": "ipython3",
   "version": "3.8.12"
  }
 },
 "nbformat": 4,
 "nbformat_minor": 1
}
