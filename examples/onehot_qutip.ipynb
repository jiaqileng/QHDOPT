{
 "cells": [
  {
   "cell_type": "code",
   "execution_count": 1,
   "metadata": {},
   "outputs": [
    {
     "name": "stderr",
     "output_type": "stream",
     "text": [
      "/Users/samuelkushnir/miniconda3/envs/QHDOPT-dev/lib/python3.9/site-packages/qutip/__init__.py:65: UserWarning: The new version of Cython, (>= 3.0.0) is not supported.\n",
      "  warnings.warn(\n"
     ]
    }
   ],
   "source": [
    "import sys\n",
    "sys.path.insert(0, '../')\n",
    "import numpy as np\n",
    "from qhdopt import QHD\n",
    "from qhdopt.utils.benchmark_utils import run_test"
   ]
  },
  {
   "cell_type": "code",
   "execution_count": 2,
   "metadata": {},
   "outputs": [],
   "source": [
    "from sympy import symbols\n",
    "x, y = symbols('x y')\n",
    "functions = [(-x**2 + x*y - 0.5 * y ** 2 + 3. / 4 * x - 1. / 4 * y, [x, y])]"
   ]
  },
  {
   "cell_type": "markdown",
   "source": [
    "<h3> List of parameters </>"
   ],
   "metadata": {
    "collapsed": false
   }
  },
  {
   "cell_type": "code",
   "execution_count": 3,
   "outputs": [],
   "source": [
    "backend = \"qutip\"\n",
    "embedding_scheme = \"onehot\"\n",
    "resolution = 6\n",
    "penalty = 50\n",
    "discretization = 40\n",
    "shots = 1000\n",
    "gamma = 30\n",
    "tol = 1e-3\n",
    "penalty_coefficient = 1.2"
   ],
   "metadata": {
    "collapsed": false
   }
  },
  {
   "cell_type": "code",
   "execution_count": 4,
   "outputs": [],
   "source": [
    "data = np.zeros((len(functions), 12))"
   ],
   "metadata": {
    "collapsed": false
   }
  },
  {
   "cell_type": "code",
   "execution_count": 5,
   "outputs": [
    {
     "name": "stdout",
     "output_type": "stream",
     "text": [
      "Test problem 0:\n",
      "Compiled.\n",
      "Solved.\n",
      "* Coarse solution\n",
      "Minimizer: [0.16666667 1.        ]\n",
      "Minimum: -0.4861111040744517\n",
      "\n",
      "* Fine-tuned solution\n",
      "Minimizer: [0. 1.]\n",
      "Minimum: -0.75\n",
      "Success rate: 0.987\n",
      "\n",
      "* Runtime breakdown\n",
      "SimuQ compilation: 1.926 s\n",
      "Backend runtime: 20.168 s\n",
      "Decoding time: 0.006 s\n",
      "Fine-tuning time: 0.369 s\n",
      "* Total time: 22.469 s\n",
      "\n",
      "******************************************************************************\n",
      "This program contains Ipopt, a library for large-scale nonlinear optimization.\n",
      " Ipopt is released as open source code under the Eclipse Public License (EPL).\n",
      "         For more information visit https://github.com/coin-or/Ipopt\n",
      "******************************************************************************\n",
      "\n"
     ]
    }
   ],
   "source": [
    "for i in range(0, len(functions)):\n",
    "    print(f\"Test problem {i}:\")\n",
    "    function, syms = functions[i]\n",
    "    model = QHD.SymPy(function, syms)\n",
    "    model.qutip_setup(resolution,shots, embedding_scheme=embedding_scheme, penalty_coefficient=penalty_coefficient, time_discretization=discretization, gamma=gamma, post_processing_method=\"TNC\")\n",
    "    data[i] = run_test(model)"
   ],
   "metadata": {
    "collapsed": false
   }
  },
  {
   "cell_type": "code",
   "execution_count": null,
   "outputs": [],
   "source": [],
   "metadata": {
    "collapsed": false
   }
  }
 ],
 "metadata": {
  "kernelspec": {
   "display_name": "Python 3 (ipykernel)",
   "language": "python",
   "name": "python3"
  },
  "language_info": {
   "codemirror_mode": {
    "name": "ipython",
    "version": 3
   },
   "file_extension": ".py",
   "mimetype": "text/x-python",
   "name": "python",
   "nbconvert_exporter": "python",
   "pygments_lexer": "ipython3",
   "version": "3.8.12"
  }
 },
 "nbformat": 4,
 "nbformat_minor": 1
}
