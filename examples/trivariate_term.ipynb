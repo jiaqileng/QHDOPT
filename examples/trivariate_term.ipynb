{
 "cells": [
  {
   "cell_type": "code",
   "execution_count": null,
   "metadata": {},
   "outputs": [],
   "source": [
    "import numpy as np\n",
    "from sympy import symbols, expand, Matrix\n",
    "from qhdopt import QHD"
   ]
  },
  {
   "cell_type": "markdown",
   "metadata": {},
   "source": [
    "# Example 1\n",
    "\n",
    "$f(x,y,z)=(2-x)(3-y)(3-2z), \\quad x,y,z \\in [0,1]$.\n",
    "\n",
    "Obviously it has a unique optimal value of $2$ at the point $(x,y,z)=(1,1,1)$."
   ]
  },
  {
   "cell_type": "code",
   "execution_count": null,
   "metadata": {},
   "outputs": [],
   "source": [
    "x, y, z = symbols('x y z')\n",
    "f = (2-x) * (3-y) * (3-2*z)\n",
    "opt_val = 2.0\n",
    "expand(f)"
   ]
  },
  {
   "cell_type": "markdown",
   "metadata": {},
   "source": [
    "### Classical solver"
   ]
  },
  {
   "cell_type": "code",
   "execution_count": null,
   "metadata": {},
   "outputs": [],
   "source": [
    "cl_solver = QHD.SymPy(f, [x, y, z])\n",
    "cl_solver.baseline_setup(shots=100, post_processing_method=\"TNC\")\n",
    "cl_response = cl_solver.optimize(refine=True, verbose=2)"
   ]
  },
  {
   "cell_type": "code",
   "execution_count": null,
   "metadata": {},
   "outputs": [],
   "source": [
    "print(\"Percentage of fine-tuned samples attaining the optimal value (up to tolerance 0.001): {:.2%}\".format(\n",
    "    cl_response.get_success_probability(tol=1e-3, minimum=opt_val)))"
   ]
  },
  {
   "cell_type": "markdown",
   "metadata": {},
   "source": [
    "### Quantum solver, using \"quadratization by substitution\""
   ]
  },
  {
   "cell_type": "code",
   "execution_count": null,
   "metadata": {},
   "outputs": [],
   "source": [
    "qu_solver = QHD.SymPy(f, [x, y, z])\n",
    "qu_solver.dwave_setup(resolution=6,\n",
    "                      shots=100,\n",
    "                      api_key_from_file=\"api_key.txt\",\n",
    "                      embedding_scheme=\"unary\",\n",
    "                      anneal_schedule=[[0,0],[20, 1]],\n",
    "                      penalty_ratio=0.8, # penalty ratio for unary embedding\n",
    "                      post_processing_method=\"TNC\",\n",
    "                      quad_scheme=\"sub\", # specify the quadratization scheme\n",
    "                      quad_penalty_ratio=1.0 # penalty ratio for quadratization\n",
    "                      )\n",
    "qu_response = qu_solver.optimize(refine=True, verbose=2)"
   ]
  },
  {
   "cell_type": "code",
   "execution_count": null,
   "metadata": {},
   "outputs": [],
   "source": [
    "print(\"Percentage of raw samples inside the unary embedding subspace: {:.2%}\".format(\n",
    "    qu_response.get_percentage_in_embedding_subspace()))\n",
    "print(\"Percentage of fine-tuned samples attaining the optimal value (up to tolerance 0.001): {:.2%}\".format(\n",
    "    qu_response.get_success_probability(tol=1e-3, minimum=opt_val)))"
   ]
  },
  {
   "cell_type": "markdown",
   "metadata": {},
   "source": [
    "### Quantum solver, using \"quadratization by minimum selection\""
   ]
  },
  {
   "cell_type": "code",
   "execution_count": null,
   "metadata": {},
   "outputs": [],
   "source": [
    "qu_solver = QHD.SymPy(f, [x, y, z])\n",
    "qu_solver.dwave_setup(resolution=6,\n",
    "                      shots=100,\n",
    "                      api_key_from_file=\"api_key.txt\",\n",
    "                      embedding_scheme=\"unary\",\n",
    "                      anneal_schedule=[[0,0],[20, 1]],\n",
    "                      penalty_ratio=0.8, # penalty ratio for unary embedding\n",
    "                      post_processing_method=\"TNC\",\n",
    "                      quad_scheme=\"min_sel\" # specify the quadratization scheme\n",
    "                      )\n",
    "qu_response = qu_solver.optimize(refine=True, verbose=2)"
   ]
  },
  {
   "cell_type": "code",
   "execution_count": null,
   "metadata": {},
   "outputs": [],
   "source": [
    "print(\"Percentage of raw samples inside the unary embedding subspace: {:.2%}\".format(\n",
    "    qu_response.get_percentage_in_embedding_subspace()))\n",
    "print(\"Percentage of fine-tuned samples attaining the optimal value (up to tolerance 0.001): {:.2%}\".format(\n",
    "    qu_response.get_success_probability(tol=1e-3, minimum=opt_val)))"
   ]
  },
  {
   "cell_type": "markdown",
   "metadata": {},
   "source": [
    "# Example 2\n",
    "\n",
    "$f(x_1,x_2,x_3)=\\sum_{i=1}^{3} (1.5 y_i^4 - 0.5 y_i^2 + 0.05 y_i)$ where $\\vec{x} \\in [-1,1]^3$, $\\vec{y} = R \\vec{x}$, and\n",
    "$R = \\left(\\begin{array}{ccc} 0 & \\frac{1}{\\sqrt{2}} & -\\frac{1}{\\sqrt{2}} \\\\ \\frac{1}{\\sqrt{2}} & \\frac{1}{2} & \\frac{1}{2} \\\\ -\\frac{1}{\\sqrt{2}} & \\frac{1}{2} & \\frac{1}{2} \\end{array}\\right)$.\n",
    "\n",
    "This function has four local minima and a unique global minimum of $-0.18801$ at the point $\\vec{y}\\approx[-0.43127,-0.43127,-0.43127]$, or equivalently $\\vec{x}\\approx[0, -0.73622, -0.12632]$."
   ]
  },
  {
   "cell_type": "code",
   "execution_count": null,
   "metadata": {},
   "outputs": [],
   "source": [
    "x = symbols('x:3')\n",
    "y = Matrix([[0., 1./np.sqrt(2), -1./np.sqrt(2)],\n",
    "            [1./np.sqrt(2), 1./2, 1./2],\n",
    "            [-1./np.sqrt(2), 1./2, 1./2]]) * Matrix(x)\n",
    "f = sum(1.5 * y[i] ** 4 - 0.5 * y[i] ** 2 + 0.05 * y[i] for i in range(3))\n",
    "bounds = (-1,1)\n",
    "opt_val = -0.18801\n",
    "expand(f)"
   ]
  },
  {
   "cell_type": "markdown",
   "metadata": {},
   "source": [
    "### Classical solver"
   ]
  },
  {
   "cell_type": "code",
   "execution_count": null,
   "metadata": {},
   "outputs": [],
   "source": [
    "cl_solver = QHD.SymPy(f, list(x), bounds=bounds)\n",
    "cl_solver.baseline_setup(shots=100, post_processing_method=\"TNC\")\n",
    "cl_response = cl_solver.optimize(refine=True, verbose=2)"
   ]
  },
  {
   "cell_type": "code",
   "execution_count": null,
   "metadata": {},
   "outputs": [],
   "source": [
    "print(\"Percentage of fine-tuned samples attaining the optimal value (up to tolerance 0.001): {:.2%}\".format(\n",
    "    cl_response.get_success_probability(tol=1e-3, minimum=opt_val)))"
   ]
  },
  {
   "cell_type": "markdown",
   "metadata": {},
   "source": [
    "### Quantum solver, using \"quadratization by substitution\""
   ]
  },
  {
   "cell_type": "code",
   "execution_count": null,
   "metadata": {},
   "outputs": [],
   "source": [
    "qu_solver = QHD.SymPy(f, list(x), bounds=bounds)\n",
    "qu_solver.dwave_setup(resolution=6,\n",
    "                      shots=100,\n",
    "                      api_key_from_file=\"api_key.txt\",\n",
    "                      embedding_scheme=\"unary\",\n",
    "                      anneal_schedule=[[0,0],[20, 1]],\n",
    "                      penalty_ratio=0.8, # penalty ratio for unary embedding\n",
    "                      post_processing_method=\"TNC\",\n",
    "                      quad_scheme=\"sub\", # specify the quadratization scheme\n",
    "                      quad_penalty_ratio=1.5 # penalty ratio for quadratization\n",
    "                      )\n",
    "qu_response = qu_solver.optimize(refine=True, verbose=2)"
   ]
  },
  {
   "cell_type": "code",
   "execution_count": null,
   "metadata": {},
   "outputs": [],
   "source": [
    "print(\"Percentage of raw samples inside the unary embedding subspace: {:.2%}\".format(\n",
    "    qu_response.get_percentage_in_embedding_subspace()))\n",
    "print(\"Percentage of fine-tuned samples attaining the optimal value (up to tolerance 0.001): {:.2%}\".format(\n",
    "    qu_response.get_success_probability(tol=1e-3, minimum=opt_val)))"
   ]
  },
  {
   "cell_type": "markdown",
   "metadata": {},
   "source": [
    "### Quantum solver, using \"quadratization by minimum selection\""
   ]
  },
  {
   "cell_type": "code",
   "execution_count": null,
   "metadata": {},
   "outputs": [],
   "source": [
    "qu_solver = QHD.SymPy(f, list(x), bounds=bounds)\n",
    "qu_solver.dwave_setup(resolution=6,\n",
    "                      shots=100,\n",
    "                      api_key_from_file=\"api_key.txt\",\n",
    "                      embedding_scheme=\"unary\",\n",
    "                      anneal_schedule=[[0,0],[20, 1]],\n",
    "                      penalty_ratio=0.8, # penalty ratio for unary embedding\n",
    "                      post_processing_method=\"TNC\",\n",
    "                      quad_scheme=\"min_sel\" # specify the quadratization scheme\n",
    "                      )\n",
    "qu_response = qu_solver.optimize(refine=True, verbose=2)"
   ]
  },
  {
   "cell_type": "code",
   "execution_count": null,
   "metadata": {},
   "outputs": [],
   "source": [
    "print(\"Percentage of raw samples inside the unary embedding subspace: {:.2%}\".format(\n",
    "    qu_response.get_percentage_in_embedding_subspace()))\n",
    "print(\"Percentage of fine-tuned samples attaining the optimal value (up to tolerance 0.001): {:.2%}\".format(\n",
    "    qu_response.get_success_probability(tol=1e-3, minimum=opt_val)))"
   ]
  }
 ],
 "metadata": {
  "kernelspec": {
   "display_name": ".env",
   "language": "python",
   "name": "python3"
  },
  "language_info": {
   "codemirror_mode": {
    "name": "ipython",
    "version": 3
   },
   "file_extension": ".py",
   "mimetype": "text/x-python",
   "name": "python",
   "nbconvert_exporter": "python",
   "pygments_lexer": "ipython3",
   "version": "3.10.6"
  }
 },
 "nbformat": 4,
 "nbformat_minor": 2
}
