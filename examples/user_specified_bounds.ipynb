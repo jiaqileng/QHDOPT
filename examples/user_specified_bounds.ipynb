{
 "cells": [
  {
   "cell_type": "markdown",
   "source": [
    "In this notebook we demonstrate how to specify different bounds from the default [0, 1] to run your optimization problems on"
   ],
   "metadata": {
    "collapsed": false
   }
  },
  {
   "cell_type": "code",
   "execution_count": 1,
   "outputs": [
    {
     "name": "stderr",
     "output_type": "stream",
     "text": [
      "/Users/samuelkushnir/miniconda3/envs/QHDOPT-dev/lib/python3.9/site-packages/qutip/__init__.py:65: UserWarning: The new version of Cython, (>= 3.0.0) is not supported.\n",
      "  warnings.warn(\n"
     ]
    }
   ],
   "source": [
    "import sys\n",
    "sys.path.insert(0, '../')\n",
    "from qhdopt import QHD\n",
    "from sympy import symbols"
   ],
   "metadata": {
    "collapsed": false
   }
  },
  {
   "cell_type": "code",
   "execution_count": 3,
   "outputs": [],
   "source": [
    "x, y, z = symbols('x y z')\n",
    "f = x + y + z"
   ],
   "metadata": {
    "collapsed": false
   }
  },
  {
   "cell_type": "code",
   "execution_count": 15,
   "outputs": [],
   "source": [
    "# you could also do bounds = bounds=[(10, 11), (10, 11), (10, 11)]\n",
    "model = QHD.SymPy(f, [x, y, z], bounds=(10, 11))"
   ],
   "metadata": {
    "collapsed": false
   }
  },
  {
   "cell_type": "code",
   "execution_count": 16,
   "outputs": [],
   "source": [
    "model.dwave_setup(8, api_key_from_file='/Users/samuelkushnir/Documents/dwave_api_key.txt')"
   ],
   "metadata": {
    "collapsed": false
   }
  },
  {
   "cell_type": "code",
   "execution_count": 17,
   "outputs": [
    {
     "name": "stdout",
     "output_type": "stream",
     "text": [
      "Backend QPU Time: 0.02927561\n",
      "Overhead Time: 2.1132543544470215\n",
      "\n",
      "* Runtime breakdown\n",
      "SimuQ compilation: 0.000 s\n",
      "Backend runtime: 2.143 s\n",
      "Decoding time: 0.002 s\n",
      "Classical (Fine-tuning) time: 0.040 s\n",
      "* Total time: 2.185 s\n",
      "\n",
      "* Coarse solution\n",
      "Minimizer: [0. 0. 0.]\n",
      "Minimum: 30.0\n",
      "\n",
      "* Fine-tuned solution\n",
      "Minimizer: [10. 10. 10.]\n",
      "Minimum: 30.0\n",
      "\n"
     ]
    },
    {
     "data": {
      "text/plain": "<qhdopt.response.Response at 0x2c1470eb0>"
     },
     "execution_count": 17,
     "metadata": {},
     "output_type": "execute_result"
    }
   ],
   "source": [
    "model.optimize(verbose = 1)"
   ],
   "metadata": {
    "collapsed": false
   }
  },
  {
   "cell_type": "code",
   "execution_count": null,
   "outputs": [],
   "source": [],
   "metadata": {
    "collapsed": false
   }
  }
 ],
 "metadata": {
  "kernelspec": {
   "display_name": "Python 3",
   "language": "python",
   "name": "python3"
  },
  "language_info": {
   "codemirror_mode": {
    "name": "ipython",
    "version": 2
   },
   "file_extension": ".py",
   "mimetype": "text/x-python",
   "name": "python",
   "nbconvert_exporter": "python",
   "pygments_lexer": "ipython2",
   "version": "2.7.6"
  }
 },
 "nbformat": 4,
 "nbformat_minor": 0
}
